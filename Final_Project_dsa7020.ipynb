{
 "cells": [
  {
   "cell_type": "code",
   "execution_count": 1,
   "metadata": {},
   "outputs": [
    {
     "name": "stderr",
     "output_type": "stream",
     "text": [
      "── \u001b[1mAttaching packages\u001b[22m ─────────────────────────────────────── tidyverse 1.3.1 ──\n",
      "\n",
      "\u001b[32m✔\u001b[39m \u001b[34mggplot2\u001b[39m 3.3.3     \u001b[32m✔\u001b[39m \u001b[34mpurrr  \u001b[39m 0.3.4\n",
      "\u001b[32m✔\u001b[39m \u001b[34mtibble \u001b[39m 3.1.1     \u001b[32m✔\u001b[39m \u001b[34mdplyr  \u001b[39m 1.0.6\n",
      "\u001b[32m✔\u001b[39m \u001b[34mtidyr  \u001b[39m 1.1.3     \u001b[32m✔\u001b[39m \u001b[34mstringr\u001b[39m 1.4.0\n",
      "\u001b[32m✔\u001b[39m \u001b[34mreadr  \u001b[39m 1.4.0     \u001b[32m✔\u001b[39m \u001b[34mforcats\u001b[39m 0.5.1\n",
      "\n",
      "── \u001b[1mConflicts\u001b[22m ────────────────────────────────────────── tidyverse_conflicts() ──\n",
      "\u001b[31m✖\u001b[39m \u001b[34mdplyr\u001b[39m::\u001b[32mfilter()\u001b[39m masks \u001b[34mstats\u001b[39m::filter()\n",
      "\u001b[31m✖\u001b[39m \u001b[34mdplyr\u001b[39m::\u001b[32mlag()\u001b[39m    masks \u001b[34mstats\u001b[39m::lag()\n",
      "\n"
     ]
    }
   ],
   "source": [
    "library(package=\"tidyverse\")\n",
    "library(package=\"ggplot2\")"
   ]
  },
  {
   "cell_type": "markdown",
   "metadata": {},
   "source": [
    "## Loading and Displaying"
   ]
  },
  {
   "cell_type": "code",
   "execution_count": 2,
   "metadata": {},
   "outputs": [
    {
     "data": {
      "text/html": [
       "<table class=\"dataframe\">\n",
       "<caption>A data.frame: 6 × 34</caption>\n",
       "<thead>\n",
       "\t<tr><th></th><th scope=col>ID</th><th scope=col>year</th><th scope=col>loan_limit</th><th scope=col>Gender</th><th scope=col>approv_in_adv</th><th scope=col>loan_type</th><th scope=col>loan_purpose</th><th scope=col>Credit_Worthiness</th><th scope=col>open_credit</th><th scope=col>business_or_commercial</th><th scope=col>⋯</th><th scope=col>credit_type</th><th scope=col>Credit_Score</th><th scope=col>co.applicant_credit_type</th><th scope=col>age</th><th scope=col>submission_of_application</th><th scope=col>LTV</th><th scope=col>Region</th><th scope=col>Security_Type</th><th scope=col>Status</th><th scope=col>dtir1</th></tr>\n",
       "\t<tr><th></th><th scope=col>&lt;int&gt;</th><th scope=col>&lt;int&gt;</th><th scope=col>&lt;chr&gt;</th><th scope=col>&lt;chr&gt;</th><th scope=col>&lt;chr&gt;</th><th scope=col>&lt;chr&gt;</th><th scope=col>&lt;chr&gt;</th><th scope=col>&lt;chr&gt;</th><th scope=col>&lt;chr&gt;</th><th scope=col>&lt;chr&gt;</th><th scope=col>⋯</th><th scope=col>&lt;chr&gt;</th><th scope=col>&lt;int&gt;</th><th scope=col>&lt;chr&gt;</th><th scope=col>&lt;chr&gt;</th><th scope=col>&lt;chr&gt;</th><th scope=col>&lt;dbl&gt;</th><th scope=col>&lt;chr&gt;</th><th scope=col>&lt;chr&gt;</th><th scope=col>&lt;int&gt;</th><th scope=col>&lt;dbl&gt;</th></tr>\n",
       "</thead>\n",
       "<tbody>\n",
       "\t<tr><th scope=row>1</th><td>24890</td><td>2019</td><td>cf</td><td>Sex Not Available</td><td>nopre</td><td>type1</td><td>p1</td><td>l1</td><td>nopc</td><td>nob/c</td><td>⋯</td><td>EXP </td><td>758</td><td>CIB</td><td>25-34</td><td>to_inst </td><td>98.72881</td><td>south</td><td>direct</td><td>1</td><td>45</td></tr>\n",
       "\t<tr><th scope=row>2</th><td>24891</td><td>2019</td><td>cf</td><td>Male             </td><td>nopre</td><td>type2</td><td>p1</td><td>l1</td><td>nopc</td><td>b/c  </td><td>⋯</td><td>EQUI</td><td>552</td><td>EXP</td><td>55-64</td><td>to_inst </td><td>      NA</td><td>North</td><td>direct</td><td>1</td><td>NA</td></tr>\n",
       "\t<tr><th scope=row>3</th><td>24892</td><td>2019</td><td>cf</td><td>Male             </td><td>pre  </td><td>type1</td><td>p1</td><td>l1</td><td>nopc</td><td>nob/c</td><td>⋯</td><td>EXP </td><td>834</td><td>CIB</td><td>35-44</td><td>to_inst </td><td>80.01969</td><td>south</td><td>direct</td><td>0</td><td>46</td></tr>\n",
       "\t<tr><th scope=row>4</th><td>24893</td><td>2019</td><td>cf</td><td>Male             </td><td>nopre</td><td>type1</td><td>p4</td><td>l1</td><td>nopc</td><td>nob/c</td><td>⋯</td><td>EXP </td><td>587</td><td>CIB</td><td>45-54</td><td>not_inst</td><td>69.37690</td><td>North</td><td>direct</td><td>0</td><td>42</td></tr>\n",
       "\t<tr><th scope=row>5</th><td>24894</td><td>2019</td><td>cf</td><td>Joint            </td><td>pre  </td><td>type1</td><td>p1</td><td>l1</td><td>nopc</td><td>nob/c</td><td>⋯</td><td>CRIF</td><td>602</td><td>EXP</td><td>25-34</td><td>not_inst</td><td>91.88654</td><td>North</td><td>direct</td><td>0</td><td>39</td></tr>\n",
       "\t<tr><th scope=row>6</th><td>24895</td><td>2019</td><td>cf</td><td>Joint            </td><td>pre  </td><td>type1</td><td>p1</td><td>l1</td><td>nopc</td><td>nob/c</td><td>⋯</td><td>EXP </td><td>864</td><td>EXP</td><td>35-44</td><td>not_inst</td><td>70.08929</td><td>North</td><td>direct</td><td>0</td><td>40</td></tr>\n",
       "</tbody>\n",
       "</table>\n"
      ],
      "text/latex": [
       "A data.frame: 6 × 34\n",
       "\\begin{tabular}{r|lllllllllllllllllllll}\n",
       "  & ID & year & loan\\_limit & Gender & approv\\_in\\_adv & loan\\_type & loan\\_purpose & Credit\\_Worthiness & open\\_credit & business\\_or\\_commercial & ⋯ & credit\\_type & Credit\\_Score & co.applicant\\_credit\\_type & age & submission\\_of\\_application & LTV & Region & Security\\_Type & Status & dtir1\\\\\n",
       "  & <int> & <int> & <chr> & <chr> & <chr> & <chr> & <chr> & <chr> & <chr> & <chr> & ⋯ & <chr> & <int> & <chr> & <chr> & <chr> & <dbl> & <chr> & <chr> & <int> & <dbl>\\\\\n",
       "\\hline\n",
       "\t1 & 24890 & 2019 & cf & Sex Not Available & nopre & type1 & p1 & l1 & nopc & nob/c & ⋯ & EXP  & 758 & CIB & 25-34 & to\\_inst  & 98.72881 & south & direct & 1 & 45\\\\\n",
       "\t2 & 24891 & 2019 & cf & Male              & nopre & type2 & p1 & l1 & nopc & b/c   & ⋯ & EQUI & 552 & EXP & 55-64 & to\\_inst  &       NA & North & direct & 1 & NA\\\\\n",
       "\t3 & 24892 & 2019 & cf & Male              & pre   & type1 & p1 & l1 & nopc & nob/c & ⋯ & EXP  & 834 & CIB & 35-44 & to\\_inst  & 80.01969 & south & direct & 0 & 46\\\\\n",
       "\t4 & 24893 & 2019 & cf & Male              & nopre & type1 & p4 & l1 & nopc & nob/c & ⋯ & EXP  & 587 & CIB & 45-54 & not\\_inst & 69.37690 & North & direct & 0 & 42\\\\\n",
       "\t5 & 24894 & 2019 & cf & Joint             & pre   & type1 & p1 & l1 & nopc & nob/c & ⋯ & CRIF & 602 & EXP & 25-34 & not\\_inst & 91.88654 & North & direct & 0 & 39\\\\\n",
       "\t6 & 24895 & 2019 & cf & Joint             & pre   & type1 & p1 & l1 & nopc & nob/c & ⋯ & EXP  & 864 & EXP & 35-44 & not\\_inst & 70.08929 & North & direct & 0 & 40\\\\\n",
       "\\end{tabular}\n"
      ],
      "text/markdown": [
       "\n",
       "A data.frame: 6 × 34\n",
       "\n",
       "| <!--/--> | ID &lt;int&gt; | year &lt;int&gt; | loan_limit &lt;chr&gt; | Gender &lt;chr&gt; | approv_in_adv &lt;chr&gt; | loan_type &lt;chr&gt; | loan_purpose &lt;chr&gt; | Credit_Worthiness &lt;chr&gt; | open_credit &lt;chr&gt; | business_or_commercial &lt;chr&gt; | ⋯ ⋯ | credit_type &lt;chr&gt; | Credit_Score &lt;int&gt; | co.applicant_credit_type &lt;chr&gt; | age &lt;chr&gt; | submission_of_application &lt;chr&gt; | LTV &lt;dbl&gt; | Region &lt;chr&gt; | Security_Type &lt;chr&gt; | Status &lt;int&gt; | dtir1 &lt;dbl&gt; |\n",
       "|---|---|---|---|---|---|---|---|---|---|---|---|---|---|---|---|---|---|---|---|---|---|\n",
       "| 1 | 24890 | 2019 | cf | Sex Not Available | nopre | type1 | p1 | l1 | nopc | nob/c | ⋯ | EXP  | 758 | CIB | 25-34 | to_inst  | 98.72881 | south | direct | 1 | 45 |\n",
       "| 2 | 24891 | 2019 | cf | Male              | nopre | type2 | p1 | l1 | nopc | b/c   | ⋯ | EQUI | 552 | EXP | 55-64 | to_inst  |       NA | North | direct | 1 | NA |\n",
       "| 3 | 24892 | 2019 | cf | Male              | pre   | type1 | p1 | l1 | nopc | nob/c | ⋯ | EXP  | 834 | CIB | 35-44 | to_inst  | 80.01969 | south | direct | 0 | 46 |\n",
       "| 4 | 24893 | 2019 | cf | Male              | nopre | type1 | p4 | l1 | nopc | nob/c | ⋯ | EXP  | 587 | CIB | 45-54 | not_inst | 69.37690 | North | direct | 0 | 42 |\n",
       "| 5 | 24894 | 2019 | cf | Joint             | pre   | type1 | p1 | l1 | nopc | nob/c | ⋯ | CRIF | 602 | EXP | 25-34 | not_inst | 91.88654 | North | direct | 0 | 39 |\n",
       "| 6 | 24895 | 2019 | cf | Joint             | pre   | type1 | p1 | l1 | nopc | nob/c | ⋯ | EXP  | 864 | EXP | 35-44 | not_inst | 70.08929 | North | direct | 0 | 40 |\n",
       "\n"
      ],
      "text/plain": [
       "  ID    year loan_limit Gender            approv_in_adv loan_type loan_purpose\n",
       "1 24890 2019 cf         Sex Not Available nopre         type1     p1          \n",
       "2 24891 2019 cf         Male              nopre         type2     p1          \n",
       "3 24892 2019 cf         Male              pre           type1     p1          \n",
       "4 24893 2019 cf         Male              nopre         type1     p4          \n",
       "5 24894 2019 cf         Joint             pre           type1     p1          \n",
       "6 24895 2019 cf         Joint             pre           type1     p1          \n",
       "  Credit_Worthiness open_credit business_or_commercial ⋯ credit_type\n",
       "1 l1                nopc        nob/c                  ⋯ EXP        \n",
       "2 l1                nopc        b/c                    ⋯ EQUI       \n",
       "3 l1                nopc        nob/c                  ⋯ EXP        \n",
       "4 l1                nopc        nob/c                  ⋯ EXP        \n",
       "5 l1                nopc        nob/c                  ⋯ CRIF       \n",
       "6 l1                nopc        nob/c                  ⋯ EXP        \n",
       "  Credit_Score co.applicant_credit_type age   submission_of_application\n",
       "1 758          CIB                      25-34 to_inst                  \n",
       "2 552          EXP                      55-64 to_inst                  \n",
       "3 834          CIB                      35-44 to_inst                  \n",
       "4 587          CIB                      45-54 not_inst                 \n",
       "5 602          EXP                      25-34 not_inst                 \n",
       "6 864          EXP                      35-44 not_inst                 \n",
       "  LTV      Region Security_Type Status dtir1\n",
       "1 98.72881 south  direct        1      45   \n",
       "2       NA North  direct        1      NA   \n",
       "3 80.01969 south  direct        0      46   \n",
       "4 69.37690 North  direct        0      42   \n",
       "5 91.88654 North  direct        0      39   \n",
       "6 70.08929 North  direct        0      40   "
      ]
     },
     "metadata": {},
     "output_type": "display_data"
    }
   ],
   "source": [
    "loanDefault <- read.csv(\"Loan_Default.csv\")\n",
    "head(loanDefault)"
   ]
  },
  {
   "cell_type": "code",
   "execution_count": 3,
   "metadata": {},
   "outputs": [
    {
     "name": "stdout",
     "output_type": "stream",
     "text": [
      "'data.frame':\t148670 obs. of  34 variables:\n",
      " $ ID                       : int  24890 24891 24892 24893 24894 24895 24896 24897 24898 24899 ...\n",
      " $ year                     : int  2019 2019 2019 2019 2019 2019 2019 2019 2019 2019 ...\n",
      " $ loan_limit               : chr  \"cf\" \"cf\" \"cf\" \"cf\" ...\n",
      " $ Gender                   : chr  \"Sex Not Available\" \"Male\" \"Male\" \"Male\" ...\n",
      " $ approv_in_adv            : chr  \"nopre\" \"nopre\" \"pre\" \"nopre\" ...\n",
      " $ loan_type                : chr  \"type1\" \"type2\" \"type1\" \"type1\" ...\n",
      " $ loan_purpose             : chr  \"p1\" \"p1\" \"p1\" \"p4\" ...\n",
      " $ Credit_Worthiness        : chr  \"l1\" \"l1\" \"l1\" \"l1\" ...\n",
      " $ open_credit              : chr  \"nopc\" \"nopc\" \"nopc\" \"nopc\" ...\n",
      " $ business_or_commercial   : chr  \"nob/c\" \"b/c\" \"nob/c\" \"nob/c\" ...\n",
      " $ loan_amount              : int  116500 206500 406500 456500 696500 706500 346500 266500 376500 436500 ...\n",
      " $ rate_of_interest         : num  NA NA 4.56 4.25 4 ...\n",
      " $ Interest_rate_spread     : num  NA NA 0.2 0.681 0.304 ...\n",
      " $ Upfront_charges          : num  NA NA 595 NA 0 ...\n",
      " $ term                     : num  360 360 360 360 360 360 360 360 360 360 ...\n",
      " $ Neg_ammortization        : chr  \"not_neg\" \"not_neg\" \"neg_amm\" \"not_neg\" ...\n",
      " $ interest_only            : chr  \"not_int\" \"not_int\" \"not_int\" \"not_int\" ...\n",
      " $ lump_sum_payment         : chr  \"not_lpsm\" \"lpsm\" \"not_lpsm\" \"not_lpsm\" ...\n",
      " $ property_value           : num  118000 NA 508000 658000 758000 ...\n",
      " $ construction_type        : chr  \"sb\" \"sb\" \"sb\" \"sb\" ...\n",
      " $ occupancy_type           : chr  \"pr\" \"pr\" \"pr\" \"pr\" ...\n",
      " $ Secured_by               : chr  \"home\" \"home\" \"home\" \"home\" ...\n",
      " $ total_units              : chr  \"1U\" \"1U\" \"1U\" \"1U\" ...\n",
      " $ income                   : num  1740 4980 9480 11880 10440 ...\n",
      " $ credit_type              : chr  \"EXP\" \"EQUI\" \"EXP\" \"EXP\" ...\n",
      " $ Credit_Score             : int  758 552 834 587 602 864 860 863 580 788 ...\n",
      " $ co.applicant_credit_type : chr  \"CIB\" \"EXP\" \"CIB\" \"CIB\" ...\n",
      " $ age                      : chr  \"25-34\" \"55-64\" \"35-44\" \"45-54\" ...\n",
      " $ submission_of_application: chr  \"to_inst\" \"to_inst\" \"to_inst\" \"not_inst\" ...\n",
      " $ LTV                      : num  98.7 NA 80 69.4 91.9 ...\n",
      " $ Region                   : chr  \"south\" \"North\" \"south\" \"North\" ...\n",
      " $ Security_Type            : chr  \"direct\" \"direct\" \"direct\" \"direct\" ...\n",
      " $ Status                   : int  1 1 0 0 0 0 0 0 0 0 ...\n",
      " $ dtir1                    : num  45 NA 46 42 39 40 44 42 44 30 ...\n"
     ]
    },
    {
     "data": {
      "text/html": [
       "<style>\n",
       ".list-inline {list-style: none; margin:0; padding: 0}\n",
       ".list-inline>li {display: inline-block}\n",
       ".list-inline>li:not(:last-child)::after {content: \"\\00b7\"; padding: 0 .5ex}\n",
       "</style>\n",
       "<ol class=list-inline><li>148670</li><li>34</li></ol>\n"
      ],
      "text/latex": [
       "\\begin{enumerate*}\n",
       "\\item 148670\n",
       "\\item 34\n",
       "\\end{enumerate*}\n"
      ],
      "text/markdown": [
       "1. 148670\n",
       "2. 34\n",
       "\n",
       "\n"
      ],
      "text/plain": [
       "[1] 148670     34"
      ]
     },
     "metadata": {},
     "output_type": "display_data"
    }
   ],
   "source": [
    "str(loanDefault)\n",
    "dim(loanDefault)"
   ]
  },
  {
   "cell_type": "code",
   "execution_count": 4,
   "metadata": {},
   "outputs": [
    {
     "data": {
      "text/plain": [
       "       ID              year       loan_limit           Gender         \n",
       " Min.   : 24890   Min.   :2019   Length:148670      Length:148670     \n",
       " 1st Qu.: 62057   1st Qu.:2019   Class :character   Class :character  \n",
       " Median : 99224   Median :2019   Mode  :character   Mode  :character  \n",
       " Mean   : 99224   Mean   :2019                                        \n",
       " 3rd Qu.:136392   3rd Qu.:2019                                        \n",
       " Max.   :173559   Max.   :2019                                        \n",
       "                                                                      \n",
       " approv_in_adv       loan_type         loan_purpose       Credit_Worthiness \n",
       " Length:148670      Length:148670      Length:148670      Length:148670     \n",
       " Class :character   Class :character   Class :character   Class :character  \n",
       " Mode  :character   Mode  :character   Mode  :character   Mode  :character  \n",
       "                                                                            \n",
       "                                                                            \n",
       "                                                                            \n",
       "                                                                            \n",
       " open_credit        business_or_commercial  loan_amount      rate_of_interest\n",
       " Length:148670      Length:148670          Min.   :  16500   Min.   :0.00    \n",
       " Class :character   Class :character       1st Qu.: 196500   1st Qu.:3.62    \n",
       " Mode  :character   Mode  :character       Median : 296500   Median :3.99    \n",
       "                                           Mean   : 331118   Mean   :4.05    \n",
       "                                           3rd Qu.: 436500   3rd Qu.:4.38    \n",
       "                                           Max.   :3576500   Max.   :8.00    \n",
       "                                                             NA's   :36439   \n",
       " Interest_rate_spread Upfront_charges        term       Neg_ammortization \n",
       " Min.   :-3.64        Min.   :    0.0   Min.   : 96.0   Length:148670     \n",
       " 1st Qu.: 0.08        1st Qu.:  581.5   1st Qu.:360.0   Class :character  \n",
       " Median : 0.39        Median : 2596.4   Median :360.0   Mode  :character  \n",
       " Mean   : 0.44        Mean   : 3225.0   Mean   :335.1                     \n",
       " 3rd Qu.: 0.78        3rd Qu.: 4812.5   3rd Qu.:360.0                     \n",
       " Max.   : 3.36        Max.   :60000.0   Max.   :360.0                     \n",
       " NA's   :36639        NA's   :39642     NA's   :41                        \n",
       " interest_only      lump_sum_payment   property_value     construction_type \n",
       " Length:148670      Length:148670      Min.   :    8000   Length:148670     \n",
       " Class :character   Class :character   1st Qu.:  268000   Class :character  \n",
       " Mode  :character   Mode  :character   Median :  418000   Mode  :character  \n",
       "                                       Mean   :  497893                     \n",
       "                                       3rd Qu.:  628000                     \n",
       "                                       Max.   :16508000                     \n",
       "                                       NA's   :15098                        \n",
       " occupancy_type      Secured_by        total_units            income      \n",
       " Length:148670      Length:148670      Length:148670      Min.   :     0  \n",
       " Class :character   Class :character   Class :character   1st Qu.:  3720  \n",
       " Mode  :character   Mode  :character   Mode  :character   Median :  5760  \n",
       "                                                          Mean   :  6957  \n",
       "                                                          3rd Qu.:  8520  \n",
       "                                                          Max.   :578580  \n",
       "                                                          NA's   :9150    \n",
       " credit_type         Credit_Score   co.applicant_credit_type     age           \n",
       " Length:148670      Min.   :500.0   Length:148670            Length:148670     \n",
       " Class :character   1st Qu.:599.0   Class :character         Class :character  \n",
       " Mode  :character   Median :699.0   Mode  :character         Mode  :character  \n",
       "                    Mean   :699.8                                              \n",
       "                    3rd Qu.:800.0                                              \n",
       "                    Max.   :900.0                                              \n",
       "                                                                               \n",
       " submission_of_application      LTV              Region         \n",
       " Length:148670             Min.   :   0.967   Length:148670     \n",
       " Class :character          1st Qu.:  60.475   Class :character  \n",
       " Mode  :character          Median :  75.136   Mode  :character  \n",
       "                           Mean   :  72.746                     \n",
       "                           3rd Qu.:  86.184                     \n",
       "                           Max.   :7831.250                     \n",
       "                           NA's   :15098                        \n",
       " Security_Type          Status           dtir1      \n",
       " Length:148670      Min.   :0.0000   Min.   : 5.00  \n",
       " Class :character   1st Qu.:0.0000   1st Qu.:31.00  \n",
       " Mode  :character   Median :0.0000   Median :39.00  \n",
       "                    Mean   :0.2464   Mean   :37.73  \n",
       "                    3rd Qu.:0.0000   3rd Qu.:45.00  \n",
       "                    Max.   :1.0000   Max.   :61.00  \n",
       "                                     NA's   :24121  "
      ]
     },
     "metadata": {},
     "output_type": "display_data"
    }
   ],
   "source": [
    "summary(loanDefault)"
   ]
  },
  {
   "cell_type": "markdown",
   "metadata": {},
   "source": [
    "## Features Description"
   ]
  },
  {
   "cell_type": "markdown",
   "metadata": {},
   "source": [
    "* ID = Customer ID of Applicant\n",
    "* year = Year of Application\n",
    "* loan limit = maximum avaliable amount of the loan allowed to be taken\n",
    "* Gender = sex type of applicant\n",
    "* approv_in_adv = Is loan pre-approved or not\n",
    "* loan_type = Type of loan\n",
    "* loan_purpose = the reason you want to borrow money\n",
    "* Credit_Worthiness = is how a lender determines that you will default on your debt obligations, or how worthy you are to receive new credit.\n",
    "* open_credit = is a pre-approved loan between a lender and a borrower. It allows the borrower to make repeated withdrawals up to a certain limit.\n",
    "* business_or_commercial = Usage type of the loan amount\n",
    "* loan_amount = The exact loan amount\n",
    "* rate_of_interest = is the amount a lender charges a borrower and is a percentage of the principal—the amount loaned.\n",
    "* Interest_rate_spread = the difference between the interest rate a financial institution pays to depositors and the interest rate it receives from loans\n",
    "* Upfront_charges = Fee paid to a lender by a borrower as consideration for making a new loan\n",
    "* term = the loan's repayment period\n",
    "* Neg_ammortization = refers to a situation when a loan borrower makes a payment less than the standard installment set by the bank.\n",
    "* interest_only = amount of interest only without principles\n",
    "* lump_sum_payment = is an amount of money that is paid in one single payment rather than in installments.\n",
    "* property_value = the present worth of future benefits arising from the ownership of the property\n",
    "* construction_type = Collateral construction type\n",
    "* occupancy_type = classifications refer to categorizing structures based on their usage\n",
    "* Secured_by = Type of Collatoral\n",
    "* total_units = number of unites\n",
    "* income = refers to the amount of money, property, and other transfers of value received over a set period of time\n",
    "* credit_type = type of credit\n",
    "* co-applicant_credit_type = is an additional person involved in the loan application process. Both applicant and co-applicant apply and sign for the loan\n",
    "* age = applicant's age\n",
    "* submission_of_application = Ensure the application is complete or not\n",
    "* LTV = life-time value (LTV) is a prognostication of the net profit\n",
    "* Region = applicant's place\n",
    "* Security_Type = Type of Collatoral\n",
    "* status = Loan Status (Default/Not)\n",
    "* dtir1 = debt-to-income ratio"
   ]
  },
  {
   "cell_type": "markdown",
   "metadata": {},
   "source": [
    "## Installing required packages and libraries"
   ]
  },
  {
   "cell_type": "code",
   "execution_count": null,
   "metadata": {},
   "outputs": [],
   "source": [
    "#sessionInfo()"
   ]
  },
  {
   "cell_type": "code",
   "execution_count": 5,
   "metadata": {},
   "outputs": [
    {
     "name": "stderr",
     "output_type": "stream",
     "text": [
      "also installing the dependencies ‘vcd’, ‘laeken’, ‘ranger’\n",
      "\n",
      "\n",
      "Updating HTML index of packages in '.Library'\n",
      "\n",
      "Making 'packages.html' ...\n",
      " done\n",
      "\n",
      "Updating HTML index of packages in '.Library'\n",
      "\n",
      "Making 'packages.html' ...\n",
      " done\n",
      "\n",
      "also installing the dependency ‘mvtnorm’\n",
      "\n",
      "\n",
      "Updating HTML index of packages in '.Library'\n",
      "\n",
      "Making 'packages.html' ...\n",
      " done\n",
      "\n"
     ]
    }
   ],
   "source": [
    "install.packages('VIM')\n",
    "install.packages('RANN')\n",
    "install.packages('missMethods')"
   ]
  },
  {
   "cell_type": "code",
   "execution_count": 6,
   "metadata": {},
   "outputs": [
    {
     "name": "stderr",
     "output_type": "stream",
     "text": [
      "also installing the dependencies ‘cli’, ‘lifecycle’, ‘rlang’, ‘scales’, ‘vctrs’, ‘withr’\n",
      "\n",
      "\n",
      "Updating HTML index of packages in '.Library'\n",
      "\n",
      "Making 'packages.html' ...\n",
      " done\n",
      "\n"
     ]
    }
   ],
   "source": [
    "install.packages('ggplot2')"
   ]
  },
  {
   "cell_type": "code",
   "execution_count": 7,
   "metadata": {},
   "outputs": [
    {
     "name": "stderr",
     "output_type": "stream",
     "text": [
      "Loading required package: colorspace\n",
      "\n",
      "Loading required package: grid\n",
      "\n",
      "VIM is ready to use.\n",
      "\n",
      "\n",
      "Suggestions and bug-reports can be submitted at: https://github.com/statistikat/VIM/issues\n",
      "\n",
      "\n",
      "Attaching package: ‘VIM’\n",
      "\n",
      "\n",
      "The following object is masked from ‘package:datasets’:\n",
      "\n",
      "    sleep\n",
      "\n",
      "\n",
      "Loading required package: lattice\n",
      "\n",
      "\n",
      "Attaching package: ‘caret’\n",
      "\n",
      "\n",
      "The following object is masked from ‘package:purrr’:\n",
      "\n",
      "    lift\n",
      "\n",
      "\n"
     ]
    }
   ],
   "source": [
    "library(dplyr)\n",
    "library(VIM)\n",
    "library(missMethods)\n",
    "library(caret)\n",
    "library(RANN)"
   ]
  },
  {
   "cell_type": "code",
   "execution_count": 8,
   "metadata": {},
   "outputs": [
    {
     "name": "stderr",
     "output_type": "stream",
     "text": [
      "Welcome! Want to learn more? See two factoextra-related books at https://goo.gl/ve3WBa\n",
      "\n"
     ]
    }
   ],
   "source": [
    "library(ggplot2)\n",
    "library(factoextra)"
   ]
  },
  {
   "cell_type": "markdown",
   "metadata": {},
   "source": [
    "## Data Cleaning"
   ]
  },
  {
   "cell_type": "code",
   "execution_count": 9,
   "metadata": {},
   "outputs": [],
   "source": [
    "loanDefault <- loanDefault %>% select(-c(ID,year,loan_limit,approv_in_adv,Credit_Worthiness,Interest_rate_spread,construction_type,loan_purpose,submission_of_application,term,open_credit,interest_only))\n",
    "#Removing unwanted columns and converting character columns to factor. The year column has the same value for all the records, hence it is being removed. Other columns do not have enough distribution of values for each category or not of interest."
   ]
  },
  {
   "cell_type": "code",
   "execution_count": 10,
   "metadata": {},
   "outputs": [],
   "source": [
    "loanDefault[sapply(loanDefault, is.character)] <- lapply(loanDefault[sapply(loanDefault, is.character)],as.factor)"
   ]
  },
  {
   "cell_type": "code",
   "execution_count": 11,
   "metadata": {},
   "outputs": [
    {
     "data": {
      "text/html": [
       "<table class=\"dataframe\">\n",
       "<caption>A data.frame: 107807 × 22</caption>\n",
       "<thead>\n",
       "\t<tr><th scope=col>Gender</th><th scope=col>loan_type</th><th scope=col>business_or_commercial</th><th scope=col>loan_amount</th><th scope=col>rate_of_interest</th><th scope=col>Upfront_charges</th><th scope=col>Neg_ammortization</th><th scope=col>lump_sum_payment</th><th scope=col>property_value</th><th scope=col>occupancy_type</th><th scope=col>⋯</th><th scope=col>income</th><th scope=col>credit_type</th><th scope=col>Credit_Score</th><th scope=col>co.applicant_credit_type</th><th scope=col>age</th><th scope=col>LTV</th><th scope=col>Region</th><th scope=col>Security_Type</th><th scope=col>Status</th><th scope=col>dtir1</th></tr>\n",
       "\t<tr><th scope=col>&lt;fct&gt;</th><th scope=col>&lt;fct&gt;</th><th scope=col>&lt;fct&gt;</th><th scope=col>&lt;int&gt;</th><th scope=col>&lt;dbl&gt;</th><th scope=col>&lt;dbl&gt;</th><th scope=col>&lt;fct&gt;</th><th scope=col>&lt;fct&gt;</th><th scope=col>&lt;dbl&gt;</th><th scope=col>&lt;fct&gt;</th><th scope=col>⋯</th><th scope=col>&lt;dbl&gt;</th><th scope=col>&lt;fct&gt;</th><th scope=col>&lt;int&gt;</th><th scope=col>&lt;fct&gt;</th><th scope=col>&lt;fct&gt;</th><th scope=col>&lt;dbl&gt;</th><th scope=col>&lt;fct&gt;</th><th scope=col>&lt;fct&gt;</th><th scope=col>&lt;int&gt;</th><th scope=col>&lt;dbl&gt;</th></tr>\n",
       "</thead>\n",
       "<tbody>\n",
       "\t<tr><td>Sex Not Available</td><td>type1</td><td>nob/c</td><td>116500</td><td>   NA</td><td>      NA</td><td>not_neg</td><td>not_lpsm</td><td>118000</td><td>pr</td><td>⋯</td><td> 1740</td><td>EXP </td><td>758</td><td>CIB</td><td>25-34</td><td>98.72881</td><td>south  </td><td>direct</td><td>1</td><td>45</td></tr>\n",
       "\t<tr><td>Male             </td><td>type1</td><td>nob/c</td><td>406500</td><td>4.560</td><td>  595.00</td><td>neg_amm</td><td>not_lpsm</td><td>508000</td><td>pr</td><td>⋯</td><td> 9480</td><td>EXP </td><td>834</td><td>CIB</td><td>35-44</td><td>80.01969</td><td>south  </td><td>direct</td><td>0</td><td>46</td></tr>\n",
       "\t<tr><td>Male             </td><td>type1</td><td>nob/c</td><td>456500</td><td>4.250</td><td>      NA</td><td>not_neg</td><td>not_lpsm</td><td>658000</td><td>pr</td><td>⋯</td><td>11880</td><td>EXP </td><td>587</td><td>CIB</td><td>45-54</td><td>69.37690</td><td>North  </td><td>direct</td><td>0</td><td>42</td></tr>\n",
       "\t<tr><td>Joint            </td><td>type1</td><td>nob/c</td><td>696500</td><td>4.000</td><td>    0.00</td><td>not_neg</td><td>not_lpsm</td><td>758000</td><td>pr</td><td>⋯</td><td>10440</td><td>CRIF</td><td>602</td><td>EXP</td><td>25-34</td><td>91.88654</td><td>North  </td><td>direct</td><td>0</td><td>39</td></tr>\n",
       "\t<tr><td>Joint            </td><td>type1</td><td>nob/c</td><td>346500</td><td>4.500</td><td> 5120.00</td><td>not_neg</td><td>not_lpsm</td><td>438000</td><td>pr</td><td>⋯</td><td> 5040</td><td>EXP </td><td>860</td><td>EXP</td><td>55-64</td><td>79.10959</td><td>North  </td><td>direct</td><td>0</td><td>44</td></tr>\n",
       "\t<tr><td>Female           </td><td>type1</td><td>nob/c</td><td>266500</td><td>4.125</td><td> 5609.88</td><td>not_neg</td><td>not_lpsm</td><td>308000</td><td>pr</td><td>⋯</td><td> 3780</td><td>CIB </td><td>863</td><td>CIB</td><td>55-64</td><td>86.52597</td><td>North  </td><td>direct</td><td>0</td><td>42</td></tr>\n",
       "\t<tr><td>Joint            </td><td>type1</td><td>nob/c</td><td>376500</td><td>4.875</td><td> 1150.00</td><td>not_neg</td><td>not_lpsm</td><td>478000</td><td>pr</td><td>⋯</td><td> 5580</td><td>CIB </td><td>580</td><td>EXP</td><td>55-64</td><td>78.76569</td><td>central</td><td>direct</td><td>0</td><td>44</td></tr>\n",
       "\t<tr><td>Sex Not Available</td><td>type3</td><td>nob/c</td><td>436500</td><td>3.490</td><td> 2316.50</td><td>not_neg</td><td>not_lpsm</td><td>688000</td><td>pr</td><td>⋯</td><td> 6720</td><td>CIB </td><td>788</td><td>EXP</td><td>55-64</td><td>63.44477</td><td>south  </td><td>direct</td><td>0</td><td>30</td></tr>\n",
       "\t<tr><td>Male             </td><td>type2</td><td>b/c  </td><td>136500</td><td>   NA</td><td>      NA</td><td>neg_amm</td><td>not_lpsm</td><td>168000</td><td>pr</td><td>⋯</td><td> 4020</td><td>EXP </td><td>723</td><td>CIB</td><td>55-64</td><td>81.25000</td><td>North  </td><td>direct</td><td>1</td><td>44</td></tr>\n",
       "\t<tr><td>Sex Not Available</td><td>type1</td><td>nob/c</td><td>466500</td><td>4.375</td><td> 1150.00</td><td>not_neg</td><td>not_lpsm</td><td>708000</td><td>pr</td><td>⋯</td><td> 9540</td><td>EXP </td><td>501</td><td>EXP</td><td>35-44</td><td>65.88983</td><td>south  </td><td>direct</td><td>0</td><td>36</td></tr>\n",
       "\t<tr><td>Joint            </td><td>type2</td><td>b/c  </td><td>206500</td><td>   NA</td><td>      NA</td><td>not_neg</td><td>not_lpsm</td><td>258000</td><td>pr</td><td>⋯</td><td> 3780</td><td>CRIF</td><td>884</td><td>EXP</td><td>65-74</td><td>80.03876</td><td>North  </td><td>direct</td><td>1</td><td>51</td></tr>\n",
       "\t<tr><td>Female           </td><td>type1</td><td>nob/c</td><td>226500</td><td>4.500</td><td> 3953.13</td><td>not_neg</td><td>not_lpsm</td><td>298000</td><td>pr</td><td>⋯</td><td> 7860</td><td>CIB </td><td>773</td><td>CIB</td><td>35-44</td><td>76.00671</td><td>North  </td><td>direct</td><td>0</td><td>39</td></tr>\n",
       "\t<tr><td>Male             </td><td>type1</td><td>nob/c</td><td> 76500</td><td>   NA</td><td>      NA</td><td>not_neg</td><td>not_lpsm</td><td>138000</td><td>pr</td><td>⋯</td><td> 2220</td><td>EXP </td><td>685</td><td>CIB</td><td>45-54</td><td>55.43478</td><td>North  </td><td>direct</td><td>1</td><td>20</td></tr>\n",
       "\t<tr><td>Joint            </td><td>type2</td><td>b/c  </td><td>356500</td><td>   NA</td><td>      NA</td><td>neg_amm</td><td>not_lpsm</td><td>368000</td><td>pr</td><td>⋯</td><td> 5340</td><td>CRIF</td><td>846</td><td>EXP</td><td>25-34</td><td>96.87500</td><td>North  </td><td>direct</td><td>1</td><td>44</td></tr>\n",
       "\t<tr><td>Male             </td><td>type1</td><td>nob/c</td><td>156500</td><td>   NA</td><td>      NA</td><td>neg_amm</td><td>not_lpsm</td><td>168000</td><td>pr</td><td>⋯</td><td> 3120</td><td>CRIF</td><td>534</td><td>CIB</td><td>65-74</td><td>93.15476</td><td>North  </td><td>direct</td><td>1</td><td>44</td></tr>\n",
       "\t<tr><td>Female           </td><td>type1</td><td>nob/c</td><td>406500</td><td>4.560</td><td>  895.00</td><td>not_neg</td><td>not_lpsm</td><td>598000</td><td>pr</td><td>⋯</td><td> 5340</td><td>CIB </td><td>629</td><td>CIB</td><td>45-54</td><td>67.97659</td><td>North  </td><td>direct</td><td>0</td><td>44</td></tr>\n",
       "\t<tr><td>Sex Not Available</td><td>type1</td><td>nob/c</td><td>586500</td><td>3.175</td><td>  650.00</td><td>not_neg</td><td>not_lpsm</td><td>748000</td><td>sr</td><td>⋯</td><td>12540</td><td>CIB </td><td>688</td><td>EXP</td><td>55-64</td><td>78.40909</td><td>south  </td><td>direct</td><td>0</td><td>31</td></tr>\n",
       "\t<tr><td>Joint            </td><td>type1</td><td>nob/c</td><td>306500</td><td>2.990</td><td>10470.00</td><td>not_neg</td><td>not_lpsm</td><td>558000</td><td>pr</td><td>⋯</td><td>16860</td><td>EXP </td><td>668</td><td>EXP</td><td>65-74</td><td>54.92832</td><td>North  </td><td>direct</td><td>0</td><td> 6</td></tr>\n",
       "\t<tr><td><span style=white-space:pre-wrap>Female           </span></td><td>type1</td><td>nob/c</td><td>136500</td><td>3.990</td><td> 4156.25</td><td>not_neg</td><td>not_lpsm</td><td>198000</td><td>pr</td><td>⋯</td><td> 2100</td><td>EXP </td><td>758</td><td>CIB</td><td><span style=white-space:pre-wrap>&gt;74  </span></td><td>68.93939</td><td><span style=white-space:pre-wrap>North  </span></td><td>direct</td><td>0</td><td>36</td></tr>\n",
       "\t<tr><td>Male             </td><td>type1</td><td>nob/c</td><td>306500</td><td>   NA</td><td>      NA</td><td>not_neg</td><td>not_lpsm</td><td>448000</td><td>pr</td><td>⋯</td><td> 2880</td><td>EXP </td><td>692</td><td>CIB</td><td>55-64</td><td>68.41518</td><td>south  </td><td>direct</td><td>1</td><td>44</td></tr>\n",
       "\t<tr><td>Female           </td><td>type1</td><td>nob/c</td><td>316500</td><td>3.625</td><td> 6661.88</td><td>not_neg</td><td>not_lpsm</td><td>508000</td><td>pr</td><td>⋯</td><td> 2760</td><td>CIB </td><td>620</td><td>CIB</td><td>65-74</td><td>62.30315</td><td>south  </td><td>direct</td><td>0</td><td>44</td></tr>\n",
       "\t<tr><td>Male             </td><td>type1</td><td>nob/c</td><td>336500</td><td>4.500</td><td>    0.00</td><td>not_neg</td><td>not_lpsm</td><td>428000</td><td>pr</td><td>⋯</td><td> 4980</td><td>CIB </td><td>846</td><td>CIB</td><td>35-44</td><td>78.62150</td><td>south  </td><td>direct</td><td>0</td><td>35</td></tr>\n",
       "\t<tr><td>Joint            </td><td>type1</td><td>nob/c</td><td>426500</td><td>4.990</td><td>  169.50</td><td>not_neg</td><td>not_lpsm</td><td>568000</td><td>pr</td><td>⋯</td><td> 8940</td><td>EXP </td><td>533</td><td>EXP</td><td>45-54</td><td>75.08803</td><td>North  </td><td>direct</td><td>0</td><td>34</td></tr>\n",
       "\t<tr><td>Sex Not Available</td><td>type1</td><td>nob/c</td><td>196500</td><td>5.250</td><td> 5245.09</td><td>not_neg</td><td>not_lpsm</td><td>258000</td><td>pr</td><td>⋯</td><td> 3840</td><td>EXP </td><td>812</td><td>EXP</td><td>25-34</td><td>76.16279</td><td>south  </td><td>direct</td><td>0</td><td>49</td></tr>\n",
       "\t<tr><td>Female           </td><td>type1</td><td>nob/c</td><td>186500</td><td>4.250</td><td> 5376.25</td><td>not_neg</td><td>not_lpsm</td><td>218000</td><td>pr</td><td>⋯</td><td> 3840</td><td>CRIF</td><td>534</td><td>CIB</td><td>55-64</td><td>85.55046</td><td>central</td><td>direct</td><td>0</td><td>46</td></tr>\n",
       "\t<tr><td>Female           </td><td>type1</td><td>nob/c</td><td>436500</td><td>3.625</td><td> 6260.00</td><td>not_neg</td><td>not_lpsm</td><td>468000</td><td>pr</td><td>⋯</td><td> 4920</td><td>CIB </td><td>647</td><td>EXP</td><td>35-44</td><td>93.26923</td><td>south  </td><td>direct</td><td>0</td><td>42</td></tr>\n",
       "\t<tr><td>Male             </td><td>type2</td><td>b/c  </td><td>246500</td><td>4.250</td><td>    0.00</td><td>not_neg</td><td>not_lpsm</td><td>258000</td><td>pr</td><td>⋯</td><td> 5400</td><td>EXP </td><td>683</td><td>CIB</td><td>25-34</td><td>95.54264</td><td>North  </td><td>direct</td><td>0</td><td>39</td></tr>\n",
       "\t<tr><td>Male             </td><td>type1</td><td>nob/c</td><td>306500</td><td>4.125</td><td> 3752.40</td><td>not_neg</td><td>not_lpsm</td><td>318000</td><td>pr</td><td>⋯</td><td> 5580</td><td>EXP </td><td>701</td><td>CIB</td><td>35-44</td><td>96.38365</td><td>North  </td><td>direct</td><td>0</td><td>37</td></tr>\n",
       "\t<tr><td>Male             </td><td>type1</td><td>nob/c</td><td>316500</td><td>3.750</td><td> 5560.63</td><td>not_neg</td><td>not_lpsm</td><td>338000</td><td>pr</td><td>⋯</td><td> 3720</td><td>EXP </td><td>591</td><td>CIB</td><td>45-54</td><td>93.63905</td><td>North  </td><td>direct</td><td>0</td><td>41</td></tr>\n",
       "\t<tr><td>Male             </td><td>type1</td><td>nob/c</td><td>506500</td><td>4.250</td><td>    0.00</td><td>not_neg</td><td>not_lpsm</td><td>538000</td><td>pr</td><td>⋯</td><td> 7500</td><td>CIB </td><td>647</td><td>CIB</td><td>25-34</td><td>94.14498</td><td>North  </td><td>direct</td><td>0</td><td>36</td></tr>\n",
       "\t<tr><td>⋮</td><td>⋮</td><td>⋮</td><td>⋮</td><td>⋮</td><td>⋮</td><td>⋮</td><td>⋮</td><td>⋮</td><td>⋮</td><td>⋱</td><td>⋮</td><td>⋮</td><td>⋮</td><td>⋮</td><td>⋮</td><td>⋮</td><td>⋮</td><td>⋮</td><td>⋮</td><td>⋮</td></tr>\n",
       "\t<tr><td>Sex Not Available</td><td>type3</td><td>nob/c</td><td>366500</td><td>3.875</td><td>9720.00</td><td>not_neg</td><td>not_lpsm</td><td>458000</td><td>pr</td><td>⋯</td><td> 3900</td><td>CIB </td><td>537</td><td>CIB</td><td>35-44</td><td>80.02183</td><td>south  </td><td>direct</td><td>0</td><td>60</td></tr>\n",
       "\t<tr><td>Male             </td><td>type1</td><td>nob/c</td><td>346500</td><td>4.875</td><td>1579.38</td><td>not_neg</td><td>not_lpsm</td><td>508000</td><td>pr</td><td>⋯</td><td> 9120</td><td>CIB </td><td>900</td><td>CIB</td><td>45-54</td><td>68.20866</td><td>North  </td><td>direct</td><td>0</td><td>26</td></tr>\n",
       "\t<tr><td>Sex Not Available</td><td>type1</td><td>nob/c</td><td>226500</td><td>   NA</td><td>     NA</td><td>not_neg</td><td>not_lpsm</td><td>268000</td><td>pr</td><td>⋯</td><td> 5100</td><td>EXP </td><td>654</td><td>CIB</td><td>55-64</td><td>84.51493</td><td>south  </td><td>direct</td><td>1</td><td>56</td></tr>\n",
       "\t<tr><td>Female           </td><td>type1</td><td>nob/c</td><td>366500</td><td>   NA</td><td>     NA</td><td>neg_amm</td><td>not_lpsm</td><td>418000</td><td>pr</td><td>⋯</td><td> 4320</td><td>EXP </td><td>687</td><td>CIB</td><td>35-44</td><td>87.67943</td><td>North  </td><td>direct</td><td>1</td><td>40</td></tr>\n",
       "\t<tr><td>Sex Not Available</td><td>type2</td><td>b/c  </td><td>166500</td><td>   NA</td><td>     NA</td><td>not_neg</td><td>not_lpsm</td><td>188000</td><td>pr</td><td>⋯</td><td> 3420</td><td>EXP </td><td>698</td><td>CIB</td><td>35-44</td><td>88.56383</td><td>south  </td><td>direct</td><td>1</td><td>44</td></tr>\n",
       "\t<tr><td>Sex Not Available</td><td>type1</td><td>nob/c</td><td>506500</td><td>3.750</td><td>6305.00</td><td>not_neg</td><td>not_lpsm</td><td>758000</td><td>pr</td><td>⋯</td><td> 8700</td><td>CRIF</td><td>769</td><td>EXP</td><td>35-44</td><td>66.82058</td><td>south  </td><td>direct</td><td>0</td><td>31</td></tr>\n",
       "\t<tr><td>Joint            </td><td>type1</td><td>nob/c</td><td>406500</td><td>3.875</td><td> 823.56</td><td>not_neg</td><td>not_lpsm</td><td>508000</td><td>pr</td><td>⋯</td><td>11700</td><td>EXP </td><td>672</td><td>EXP</td><td>35-44</td><td>80.01969</td><td>central</td><td>direct</td><td>0</td><td>26</td></tr>\n",
       "\t<tr><td>Joint            </td><td>type1</td><td>nob/c</td><td>196500</td><td>3.750</td><td>4154.00</td><td>not_neg</td><td>not_lpsm</td><td>248000</td><td>pr</td><td>⋯</td><td> 7440</td><td>CRIF</td><td>601</td><td>EXP</td><td>45-54</td><td>79.23387</td><td>North  </td><td>direct</td><td>0</td><td>31</td></tr>\n",
       "\t<tr><td>Female           </td><td>type1</td><td>nob/c</td><td>156500</td><td>4.875</td><td>4015.00</td><td>not_neg</td><td>not_lpsm</td><td>198000</td><td>pr</td><td>⋯</td><td> 6600</td><td>CIB </td><td>831</td><td>CIB</td><td>35-44</td><td>79.04040</td><td>North  </td><td>direct</td><td>0</td><td>17</td></tr>\n",
       "\t<tr><td>Sex Not Available</td><td>type1</td><td>nob/c</td><td>336500</td><td>4.250</td><td>6742.50</td><td>not_neg</td><td>not_lpsm</td><td>578000</td><td>pr</td><td>⋯</td><td> 4140</td><td>CIB </td><td>502</td><td>CIB</td><td>45-54</td><td>58.21799</td><td>south  </td><td>direct</td><td>0</td><td>37</td></tr>\n",
       "\t<tr><td>Joint            </td><td>type1</td><td>nob/c</td><td>496500</td><td>3.625</td><td>9000.00</td><td>not_neg</td><td>not_lpsm</td><td>598000</td><td>pr</td><td>⋯</td><td> 9060</td><td>CIB </td><td>573</td><td>EXP</td><td>35-44</td><td>83.02676</td><td>North  </td><td>direct</td><td>0</td><td>41</td></tr>\n",
       "\t<tr><td>Joint            </td><td>type1</td><td>nob/c</td><td>126500</td><td>3.990</td><td>2937.06</td><td>not_neg</td><td>not_lpsm</td><td>178000</td><td>pr</td><td>⋯</td><td> 1620</td><td>CIB </td><td>725</td><td>EXP</td><td>55-64</td><td>71.06742</td><td>North  </td><td>direct</td><td>0</td><td>40</td></tr>\n",
       "\t<tr><td>Joint            </td><td>type3</td><td>nob/c</td><td>506500</td><td>4.375</td><td> 265.00</td><td>not_neg</td><td>not_lpsm</td><td>508000</td><td>pr</td><td>⋯</td><td> 7620</td><td>EXP </td><td>545</td><td>EXP</td><td>65-74</td><td>99.70472</td><td>south  </td><td>direct</td><td>0</td><td>42</td></tr>\n",
       "\t<tr><td>Joint            </td><td>type1</td><td>nob/c</td><td>416500</td><td>4.875</td><td>5410.00</td><td>not_neg</td><td>not_lpsm</td><td>528000</td><td>pr</td><td>⋯</td><td> 5820</td><td>EXP </td><td>659</td><td>EXP</td><td>65-74</td><td>78.88258</td><td>North  </td><td>direct</td><td>0</td><td>41</td></tr>\n",
       "\t<tr><td><span style=white-space:pre-wrap>Joint            </span></td><td>type3</td><td>nob/c</td><td>306500</td><td>3.625</td><td><span style=white-space:pre-wrap>   0.00</span></td><td>not_neg</td><td>not_lpsm</td><td>388000</td><td>pr</td><td>⋯</td><td> 2700</td><td>EXP </td><td>855</td><td>EXP</td><td><span style=white-space:pre-wrap>&gt;74  </span></td><td>78.99485</td><td><span style=white-space:pre-wrap>North  </span></td><td>direct</td><td>0</td><td>47</td></tr>\n",
       "\t<tr><td>Female           </td><td>type1</td><td>nob/c</td><td>426500</td><td>   NA</td><td>     NA</td><td>neg_amm</td><td>not_lpsm</td><td>538000</td><td>pr</td><td>⋯</td><td> 3900</td><td>EXP </td><td>540</td><td>CIB</td><td>25-34</td><td>79.27509</td><td>south  </td><td>direct</td><td>1</td><td>10</td></tr>\n",
       "\t<tr><td>Joint            </td><td>type3</td><td>nob/c</td><td>446500</td><td>   NA</td><td>     NA</td><td>not_neg</td><td>not_lpsm</td><td>508000</td><td>pr</td><td>⋯</td><td>12300</td><td>EXP </td><td>897</td><td>EXP</td><td>45-54</td><td>87.89370</td><td>North  </td><td>direct</td><td>1</td><td>37</td></tr>\n",
       "\t<tr><td>Sex Not Available</td><td>type1</td><td>nob/c</td><td>176500</td><td>4.990</td><td>3337.50</td><td>neg_amm</td><td>not_lpsm</td><td>238000</td><td>pr</td><td>⋯</td><td> 4740</td><td>EXP </td><td>712</td><td>CIB</td><td>65-74</td><td>74.15966</td><td>south  </td><td>direct</td><td>0</td><td>44</td></tr>\n",
       "\t<tr><td>Female           </td><td>type1</td><td>nob/c</td><td>136500</td><td>3.990</td><td>4444.13</td><td>not_neg</td><td>not_lpsm</td><td>338000</td><td>pr</td><td>⋯</td><td> 5100</td><td>CIB </td><td>654</td><td>CIB</td><td>55-64</td><td>40.38462</td><td>North  </td><td>direct</td><td>0</td><td>22</td></tr>\n",
       "\t<tr><td>Joint            </td><td>type1</td><td>nob/c</td><td>216500</td><td>5.990</td><td>   0.00</td><td>not_neg</td><td>not_lpsm</td><td>288000</td><td>ir</td><td>⋯</td><td> 4260</td><td>CRIF</td><td>530</td><td>EXP</td><td>55-64</td><td>75.17361</td><td>North  </td><td>direct</td><td>0</td><td>30</td></tr>\n",
       "\t<tr><td>Sex Not Available</td><td>type2</td><td>b/c  </td><td>226500</td><td>4.990</td><td>   0.00</td><td>neg_amm</td><td>not_lpsm</td><td>268000</td><td>pr</td><td>⋯</td><td> 3120</td><td>EXP </td><td>665</td><td>CIB</td><td>45-54</td><td>84.51493</td><td>south  </td><td>direct</td><td>0</td><td>51</td></tr>\n",
       "\t<tr><td>Joint            </td><td>type1</td><td>nob/c</td><td>326500</td><td>4.250</td><td> 421.50</td><td>not_neg</td><td>not_lpsm</td><td>458000</td><td>sr</td><td>⋯</td><td>15360</td><td>EXP </td><td>688</td><td>EXP</td><td>65-74</td><td>71.28821</td><td>North  </td><td>direct</td><td>0</td><td>30</td></tr>\n",
       "\t<tr><td>Sex Not Available</td><td>type3</td><td>nob/c</td><td>416500</td><td>4.375</td><td>5687.91</td><td>neg_amm</td><td>not_lpsm</td><td>608000</td><td>pr</td><td>⋯</td><td> 4080</td><td>EXP </td><td>520</td><td>EXP</td><td>65-74</td><td>68.50329</td><td>south  </td><td>direct</td><td>0</td><td>40</td></tr>\n",
       "\t<tr><td>Female           </td><td>type1</td><td>nob/c</td><td>366500</td><td>3.875</td><td>3643.16</td><td>not_neg</td><td>not_lpsm</td><td>658000</td><td>pr</td><td>⋯</td><td> 7200</td><td>CIB </td><td>851</td><td>EXP</td><td>45-54</td><td>55.69909</td><td>North  </td><td>direct</td><td>0</td><td>20</td></tr>\n",
       "\t<tr><td>Joint            </td><td>type2</td><td>b/c  </td><td>156500</td><td>3.990</td><td>3113.06</td><td>not_neg</td><td>not_lpsm</td><td>158000</td><td>pr</td><td>⋯</td><td> 4020</td><td>EXP </td><td>859</td><td>EXP</td><td>65-74</td><td>99.05063</td><td>central</td><td>direct</td><td>0</td><td>45</td></tr>\n",
       "\t<tr><td>Sex Not Available</td><td>type1</td><td>nob/c</td><td>436500</td><td>3.125</td><td>9960.00</td><td>not_neg</td><td>not_lpsm</td><td>608000</td><td>pr</td><td>⋯</td><td> 7860</td><td>CIB </td><td>659</td><td>EXP</td><td>55-64</td><td>71.79276</td><td>south  </td><td>direct</td><td>0</td><td>48</td></tr>\n",
       "\t<tr><td>Male             </td><td>type1</td><td>nob/c</td><td>586500</td><td>5.190</td><td>   0.00</td><td>not_neg</td><td>not_lpsm</td><td>788000</td><td>ir</td><td>⋯</td><td> 7140</td><td>CIB </td><td>569</td><td>CIB</td><td>25-34</td><td>74.42893</td><td>south  </td><td>direct</td><td>0</td><td>15</td></tr>\n",
       "\t<tr><td>Male             </td><td>type1</td><td>nob/c</td><td>446500</td><td>3.125</td><td>1226.64</td><td>not_neg</td><td>not_lpsm</td><td>728000</td><td>pr</td><td>⋯</td><td> 6900</td><td>CIB </td><td>702</td><td>EXP</td><td>45-54</td><td>61.33242</td><td>North  </td><td>direct</td><td>0</td><td>49</td></tr>\n",
       "\t<tr><td>Female           </td><td>type1</td><td>nob/c</td><td>196500</td><td>3.500</td><td>4323.33</td><td>not_neg</td><td>not_lpsm</td><td>278000</td><td>pr</td><td>⋯</td><td> 7140</td><td>EXP </td><td>737</td><td>EXP</td><td>55-64</td><td>70.68345</td><td>North  </td><td>direct</td><td>0</td><td>29</td></tr>\n",
       "\t<tr><td>Female           </td><td>type1</td><td>nob/c</td><td>406500</td><td>4.375</td><td>6000.00</td><td>not_neg</td><td>not_lpsm</td><td>558000</td><td>pr</td><td>⋯</td><td> 7260</td><td>CIB </td><td>830</td><td>CIB</td><td>45-54</td><td>72.84946</td><td>North  </td><td>direct</td><td>0</td><td>44</td></tr>\n",
       "</tbody>\n",
       "</table>\n"
      ],
      "text/latex": [
       "A data.frame: 107807 × 22\n",
       "\\begin{tabular}{lllllllllllllllllllll}\n",
       " Gender & loan\\_type & business\\_or\\_commercial & loan\\_amount & rate\\_of\\_interest & Upfront\\_charges & Neg\\_ammortization & lump\\_sum\\_payment & property\\_value & occupancy\\_type & ⋯ & income & credit\\_type & Credit\\_Score & co.applicant\\_credit\\_type & age & LTV & Region & Security\\_Type & Status & dtir1\\\\\n",
       " <fct> & <fct> & <fct> & <int> & <dbl> & <dbl> & <fct> & <fct> & <dbl> & <fct> & ⋯ & <dbl> & <fct> & <int> & <fct> & <fct> & <dbl> & <fct> & <fct> & <int> & <dbl>\\\\\n",
       "\\hline\n",
       "\t Sex Not Available & type1 & nob/c & 116500 &    NA &       NA & not\\_neg & not\\_lpsm & 118000 & pr & ⋯ &  1740 & EXP  & 758 & CIB & 25-34 & 98.72881 & south   & direct & 1 & 45\\\\\n",
       "\t Male              & type1 & nob/c & 406500 & 4.560 &   595.00 & neg\\_amm & not\\_lpsm & 508000 & pr & ⋯ &  9480 & EXP  & 834 & CIB & 35-44 & 80.01969 & south   & direct & 0 & 46\\\\\n",
       "\t Male              & type1 & nob/c & 456500 & 4.250 &       NA & not\\_neg & not\\_lpsm & 658000 & pr & ⋯ & 11880 & EXP  & 587 & CIB & 45-54 & 69.37690 & North   & direct & 0 & 42\\\\\n",
       "\t Joint             & type1 & nob/c & 696500 & 4.000 &     0.00 & not\\_neg & not\\_lpsm & 758000 & pr & ⋯ & 10440 & CRIF & 602 & EXP & 25-34 & 91.88654 & North   & direct & 0 & 39\\\\\n",
       "\t Joint             & type1 & nob/c & 346500 & 4.500 &  5120.00 & not\\_neg & not\\_lpsm & 438000 & pr & ⋯ &  5040 & EXP  & 860 & EXP & 55-64 & 79.10959 & North   & direct & 0 & 44\\\\\n",
       "\t Female            & type1 & nob/c & 266500 & 4.125 &  5609.88 & not\\_neg & not\\_lpsm & 308000 & pr & ⋯ &  3780 & CIB  & 863 & CIB & 55-64 & 86.52597 & North   & direct & 0 & 42\\\\\n",
       "\t Joint             & type1 & nob/c & 376500 & 4.875 &  1150.00 & not\\_neg & not\\_lpsm & 478000 & pr & ⋯ &  5580 & CIB  & 580 & EXP & 55-64 & 78.76569 & central & direct & 0 & 44\\\\\n",
       "\t Sex Not Available & type3 & nob/c & 436500 & 3.490 &  2316.50 & not\\_neg & not\\_lpsm & 688000 & pr & ⋯ &  6720 & CIB  & 788 & EXP & 55-64 & 63.44477 & south   & direct & 0 & 30\\\\\n",
       "\t Male              & type2 & b/c   & 136500 &    NA &       NA & neg\\_amm & not\\_lpsm & 168000 & pr & ⋯ &  4020 & EXP  & 723 & CIB & 55-64 & 81.25000 & North   & direct & 1 & 44\\\\\n",
       "\t Sex Not Available & type1 & nob/c & 466500 & 4.375 &  1150.00 & not\\_neg & not\\_lpsm & 708000 & pr & ⋯ &  9540 & EXP  & 501 & EXP & 35-44 & 65.88983 & south   & direct & 0 & 36\\\\\n",
       "\t Joint             & type2 & b/c   & 206500 &    NA &       NA & not\\_neg & not\\_lpsm & 258000 & pr & ⋯ &  3780 & CRIF & 884 & EXP & 65-74 & 80.03876 & North   & direct & 1 & 51\\\\\n",
       "\t Female            & type1 & nob/c & 226500 & 4.500 &  3953.13 & not\\_neg & not\\_lpsm & 298000 & pr & ⋯ &  7860 & CIB  & 773 & CIB & 35-44 & 76.00671 & North   & direct & 0 & 39\\\\\n",
       "\t Male              & type1 & nob/c &  76500 &    NA &       NA & not\\_neg & not\\_lpsm & 138000 & pr & ⋯ &  2220 & EXP  & 685 & CIB & 45-54 & 55.43478 & North   & direct & 1 & 20\\\\\n",
       "\t Joint             & type2 & b/c   & 356500 &    NA &       NA & neg\\_amm & not\\_lpsm & 368000 & pr & ⋯ &  5340 & CRIF & 846 & EXP & 25-34 & 96.87500 & North   & direct & 1 & 44\\\\\n",
       "\t Male              & type1 & nob/c & 156500 &    NA &       NA & neg\\_amm & not\\_lpsm & 168000 & pr & ⋯ &  3120 & CRIF & 534 & CIB & 65-74 & 93.15476 & North   & direct & 1 & 44\\\\\n",
       "\t Female            & type1 & nob/c & 406500 & 4.560 &   895.00 & not\\_neg & not\\_lpsm & 598000 & pr & ⋯ &  5340 & CIB  & 629 & CIB & 45-54 & 67.97659 & North   & direct & 0 & 44\\\\\n",
       "\t Sex Not Available & type1 & nob/c & 586500 & 3.175 &   650.00 & not\\_neg & not\\_lpsm & 748000 & sr & ⋯ & 12540 & CIB  & 688 & EXP & 55-64 & 78.40909 & south   & direct & 0 & 31\\\\\n",
       "\t Joint             & type1 & nob/c & 306500 & 2.990 & 10470.00 & not\\_neg & not\\_lpsm & 558000 & pr & ⋯ & 16860 & EXP  & 668 & EXP & 65-74 & 54.92832 & North   & direct & 0 &  6\\\\\n",
       "\t Female            & type1 & nob/c & 136500 & 3.990 &  4156.25 & not\\_neg & not\\_lpsm & 198000 & pr & ⋯ &  2100 & EXP  & 758 & CIB & >74   & 68.93939 & North   & direct & 0 & 36\\\\\n",
       "\t Male              & type1 & nob/c & 306500 &    NA &       NA & not\\_neg & not\\_lpsm & 448000 & pr & ⋯ &  2880 & EXP  & 692 & CIB & 55-64 & 68.41518 & south   & direct & 1 & 44\\\\\n",
       "\t Female            & type1 & nob/c & 316500 & 3.625 &  6661.88 & not\\_neg & not\\_lpsm & 508000 & pr & ⋯ &  2760 & CIB  & 620 & CIB & 65-74 & 62.30315 & south   & direct & 0 & 44\\\\\n",
       "\t Male              & type1 & nob/c & 336500 & 4.500 &     0.00 & not\\_neg & not\\_lpsm & 428000 & pr & ⋯ &  4980 & CIB  & 846 & CIB & 35-44 & 78.62150 & south   & direct & 0 & 35\\\\\n",
       "\t Joint             & type1 & nob/c & 426500 & 4.990 &   169.50 & not\\_neg & not\\_lpsm & 568000 & pr & ⋯ &  8940 & EXP  & 533 & EXP & 45-54 & 75.08803 & North   & direct & 0 & 34\\\\\n",
       "\t Sex Not Available & type1 & nob/c & 196500 & 5.250 &  5245.09 & not\\_neg & not\\_lpsm & 258000 & pr & ⋯ &  3840 & EXP  & 812 & EXP & 25-34 & 76.16279 & south   & direct & 0 & 49\\\\\n",
       "\t Female            & type1 & nob/c & 186500 & 4.250 &  5376.25 & not\\_neg & not\\_lpsm & 218000 & pr & ⋯ &  3840 & CRIF & 534 & CIB & 55-64 & 85.55046 & central & direct & 0 & 46\\\\\n",
       "\t Female            & type1 & nob/c & 436500 & 3.625 &  6260.00 & not\\_neg & not\\_lpsm & 468000 & pr & ⋯ &  4920 & CIB  & 647 & EXP & 35-44 & 93.26923 & south   & direct & 0 & 42\\\\\n",
       "\t Male              & type2 & b/c   & 246500 & 4.250 &     0.00 & not\\_neg & not\\_lpsm & 258000 & pr & ⋯ &  5400 & EXP  & 683 & CIB & 25-34 & 95.54264 & North   & direct & 0 & 39\\\\\n",
       "\t Male              & type1 & nob/c & 306500 & 4.125 &  3752.40 & not\\_neg & not\\_lpsm & 318000 & pr & ⋯ &  5580 & EXP  & 701 & CIB & 35-44 & 96.38365 & North   & direct & 0 & 37\\\\\n",
       "\t Male              & type1 & nob/c & 316500 & 3.750 &  5560.63 & not\\_neg & not\\_lpsm & 338000 & pr & ⋯ &  3720 & EXP  & 591 & CIB & 45-54 & 93.63905 & North   & direct & 0 & 41\\\\\n",
       "\t Male              & type1 & nob/c & 506500 & 4.250 &     0.00 & not\\_neg & not\\_lpsm & 538000 & pr & ⋯ &  7500 & CIB  & 647 & CIB & 25-34 & 94.14498 & North   & direct & 0 & 36\\\\\n",
       "\t ⋮ & ⋮ & ⋮ & ⋮ & ⋮ & ⋮ & ⋮ & ⋮ & ⋮ & ⋮ & ⋱ & ⋮ & ⋮ & ⋮ & ⋮ & ⋮ & ⋮ & ⋮ & ⋮ & ⋮ & ⋮\\\\\n",
       "\t Sex Not Available & type3 & nob/c & 366500 & 3.875 & 9720.00 & not\\_neg & not\\_lpsm & 458000 & pr & ⋯ &  3900 & CIB  & 537 & CIB & 35-44 & 80.02183 & south   & direct & 0 & 60\\\\\n",
       "\t Male              & type1 & nob/c & 346500 & 4.875 & 1579.38 & not\\_neg & not\\_lpsm & 508000 & pr & ⋯ &  9120 & CIB  & 900 & CIB & 45-54 & 68.20866 & North   & direct & 0 & 26\\\\\n",
       "\t Sex Not Available & type1 & nob/c & 226500 &    NA &      NA & not\\_neg & not\\_lpsm & 268000 & pr & ⋯ &  5100 & EXP  & 654 & CIB & 55-64 & 84.51493 & south   & direct & 1 & 56\\\\\n",
       "\t Female            & type1 & nob/c & 366500 &    NA &      NA & neg\\_amm & not\\_lpsm & 418000 & pr & ⋯ &  4320 & EXP  & 687 & CIB & 35-44 & 87.67943 & North   & direct & 1 & 40\\\\\n",
       "\t Sex Not Available & type2 & b/c   & 166500 &    NA &      NA & not\\_neg & not\\_lpsm & 188000 & pr & ⋯ &  3420 & EXP  & 698 & CIB & 35-44 & 88.56383 & south   & direct & 1 & 44\\\\\n",
       "\t Sex Not Available & type1 & nob/c & 506500 & 3.750 & 6305.00 & not\\_neg & not\\_lpsm & 758000 & pr & ⋯ &  8700 & CRIF & 769 & EXP & 35-44 & 66.82058 & south   & direct & 0 & 31\\\\\n",
       "\t Joint             & type1 & nob/c & 406500 & 3.875 &  823.56 & not\\_neg & not\\_lpsm & 508000 & pr & ⋯ & 11700 & EXP  & 672 & EXP & 35-44 & 80.01969 & central & direct & 0 & 26\\\\\n",
       "\t Joint             & type1 & nob/c & 196500 & 3.750 & 4154.00 & not\\_neg & not\\_lpsm & 248000 & pr & ⋯ &  7440 & CRIF & 601 & EXP & 45-54 & 79.23387 & North   & direct & 0 & 31\\\\\n",
       "\t Female            & type1 & nob/c & 156500 & 4.875 & 4015.00 & not\\_neg & not\\_lpsm & 198000 & pr & ⋯ &  6600 & CIB  & 831 & CIB & 35-44 & 79.04040 & North   & direct & 0 & 17\\\\\n",
       "\t Sex Not Available & type1 & nob/c & 336500 & 4.250 & 6742.50 & not\\_neg & not\\_lpsm & 578000 & pr & ⋯ &  4140 & CIB  & 502 & CIB & 45-54 & 58.21799 & south   & direct & 0 & 37\\\\\n",
       "\t Joint             & type1 & nob/c & 496500 & 3.625 & 9000.00 & not\\_neg & not\\_lpsm & 598000 & pr & ⋯ &  9060 & CIB  & 573 & EXP & 35-44 & 83.02676 & North   & direct & 0 & 41\\\\\n",
       "\t Joint             & type1 & nob/c & 126500 & 3.990 & 2937.06 & not\\_neg & not\\_lpsm & 178000 & pr & ⋯ &  1620 & CIB  & 725 & EXP & 55-64 & 71.06742 & North   & direct & 0 & 40\\\\\n",
       "\t Joint             & type3 & nob/c & 506500 & 4.375 &  265.00 & not\\_neg & not\\_lpsm & 508000 & pr & ⋯ &  7620 & EXP  & 545 & EXP & 65-74 & 99.70472 & south   & direct & 0 & 42\\\\\n",
       "\t Joint             & type1 & nob/c & 416500 & 4.875 & 5410.00 & not\\_neg & not\\_lpsm & 528000 & pr & ⋯ &  5820 & EXP  & 659 & EXP & 65-74 & 78.88258 & North   & direct & 0 & 41\\\\\n",
       "\t Joint             & type3 & nob/c & 306500 & 3.625 &    0.00 & not\\_neg & not\\_lpsm & 388000 & pr & ⋯ &  2700 & EXP  & 855 & EXP & >74   & 78.99485 & North   & direct & 0 & 47\\\\\n",
       "\t Female            & type1 & nob/c & 426500 &    NA &      NA & neg\\_amm & not\\_lpsm & 538000 & pr & ⋯ &  3900 & EXP  & 540 & CIB & 25-34 & 79.27509 & south   & direct & 1 & 10\\\\\n",
       "\t Joint             & type3 & nob/c & 446500 &    NA &      NA & not\\_neg & not\\_lpsm & 508000 & pr & ⋯ & 12300 & EXP  & 897 & EXP & 45-54 & 87.89370 & North   & direct & 1 & 37\\\\\n",
       "\t Sex Not Available & type1 & nob/c & 176500 & 4.990 & 3337.50 & neg\\_amm & not\\_lpsm & 238000 & pr & ⋯ &  4740 & EXP  & 712 & CIB & 65-74 & 74.15966 & south   & direct & 0 & 44\\\\\n",
       "\t Female            & type1 & nob/c & 136500 & 3.990 & 4444.13 & not\\_neg & not\\_lpsm & 338000 & pr & ⋯ &  5100 & CIB  & 654 & CIB & 55-64 & 40.38462 & North   & direct & 0 & 22\\\\\n",
       "\t Joint             & type1 & nob/c & 216500 & 5.990 &    0.00 & not\\_neg & not\\_lpsm & 288000 & ir & ⋯ &  4260 & CRIF & 530 & EXP & 55-64 & 75.17361 & North   & direct & 0 & 30\\\\\n",
       "\t Sex Not Available & type2 & b/c   & 226500 & 4.990 &    0.00 & neg\\_amm & not\\_lpsm & 268000 & pr & ⋯ &  3120 & EXP  & 665 & CIB & 45-54 & 84.51493 & south   & direct & 0 & 51\\\\\n",
       "\t Joint             & type1 & nob/c & 326500 & 4.250 &  421.50 & not\\_neg & not\\_lpsm & 458000 & sr & ⋯ & 15360 & EXP  & 688 & EXP & 65-74 & 71.28821 & North   & direct & 0 & 30\\\\\n",
       "\t Sex Not Available & type3 & nob/c & 416500 & 4.375 & 5687.91 & neg\\_amm & not\\_lpsm & 608000 & pr & ⋯ &  4080 & EXP  & 520 & EXP & 65-74 & 68.50329 & south   & direct & 0 & 40\\\\\n",
       "\t Female            & type1 & nob/c & 366500 & 3.875 & 3643.16 & not\\_neg & not\\_lpsm & 658000 & pr & ⋯ &  7200 & CIB  & 851 & EXP & 45-54 & 55.69909 & North   & direct & 0 & 20\\\\\n",
       "\t Joint             & type2 & b/c   & 156500 & 3.990 & 3113.06 & not\\_neg & not\\_lpsm & 158000 & pr & ⋯ &  4020 & EXP  & 859 & EXP & 65-74 & 99.05063 & central & direct & 0 & 45\\\\\n",
       "\t Sex Not Available & type1 & nob/c & 436500 & 3.125 & 9960.00 & not\\_neg & not\\_lpsm & 608000 & pr & ⋯ &  7860 & CIB  & 659 & EXP & 55-64 & 71.79276 & south   & direct & 0 & 48\\\\\n",
       "\t Male              & type1 & nob/c & 586500 & 5.190 &    0.00 & not\\_neg & not\\_lpsm & 788000 & ir & ⋯ &  7140 & CIB  & 569 & CIB & 25-34 & 74.42893 & south   & direct & 0 & 15\\\\\n",
       "\t Male              & type1 & nob/c & 446500 & 3.125 & 1226.64 & not\\_neg & not\\_lpsm & 728000 & pr & ⋯ &  6900 & CIB  & 702 & EXP & 45-54 & 61.33242 & North   & direct & 0 & 49\\\\\n",
       "\t Female            & type1 & nob/c & 196500 & 3.500 & 4323.33 & not\\_neg & not\\_lpsm & 278000 & pr & ⋯ &  7140 & EXP  & 737 & EXP & 55-64 & 70.68345 & North   & direct & 0 & 29\\\\\n",
       "\t Female            & type1 & nob/c & 406500 & 4.375 & 6000.00 & not\\_neg & not\\_lpsm & 558000 & pr & ⋯ &  7260 & CIB  & 830 & CIB & 45-54 & 72.84946 & North   & direct & 0 & 44\\\\\n",
       "\\end{tabular}\n"
      ],
      "text/markdown": [
       "\n",
       "A data.frame: 107807 × 22\n",
       "\n",
       "| Gender &lt;fct&gt; | loan_type &lt;fct&gt; | business_or_commercial &lt;fct&gt; | loan_amount &lt;int&gt; | rate_of_interest &lt;dbl&gt; | Upfront_charges &lt;dbl&gt; | Neg_ammortization &lt;fct&gt; | lump_sum_payment &lt;fct&gt; | property_value &lt;dbl&gt; | occupancy_type &lt;fct&gt; | ⋯ ⋯ | income &lt;dbl&gt; | credit_type &lt;fct&gt; | Credit_Score &lt;int&gt; | co.applicant_credit_type &lt;fct&gt; | age &lt;fct&gt; | LTV &lt;dbl&gt; | Region &lt;fct&gt; | Security_Type &lt;fct&gt; | Status &lt;int&gt; | dtir1 &lt;dbl&gt; |\n",
       "|---|---|---|---|---|---|---|---|---|---|---|---|---|---|---|---|---|---|---|---|---|\n",
       "| Sex Not Available | type1 | nob/c | 116500 |    NA |       NA | not_neg | not_lpsm | 118000 | pr | ⋯ |  1740 | EXP  | 758 | CIB | 25-34 | 98.72881 | south   | direct | 1 | 45 |\n",
       "| Male              | type1 | nob/c | 406500 | 4.560 |   595.00 | neg_amm | not_lpsm | 508000 | pr | ⋯ |  9480 | EXP  | 834 | CIB | 35-44 | 80.01969 | south   | direct | 0 | 46 |\n",
       "| Male              | type1 | nob/c | 456500 | 4.250 |       NA | not_neg | not_lpsm | 658000 | pr | ⋯ | 11880 | EXP  | 587 | CIB | 45-54 | 69.37690 | North   | direct | 0 | 42 |\n",
       "| Joint             | type1 | nob/c | 696500 | 4.000 |     0.00 | not_neg | not_lpsm | 758000 | pr | ⋯ | 10440 | CRIF | 602 | EXP | 25-34 | 91.88654 | North   | direct | 0 | 39 |\n",
       "| Joint             | type1 | nob/c | 346500 | 4.500 |  5120.00 | not_neg | not_lpsm | 438000 | pr | ⋯ |  5040 | EXP  | 860 | EXP | 55-64 | 79.10959 | North   | direct | 0 | 44 |\n",
       "| Female            | type1 | nob/c | 266500 | 4.125 |  5609.88 | not_neg | not_lpsm | 308000 | pr | ⋯ |  3780 | CIB  | 863 | CIB | 55-64 | 86.52597 | North   | direct | 0 | 42 |\n",
       "| Joint             | type1 | nob/c | 376500 | 4.875 |  1150.00 | not_neg | not_lpsm | 478000 | pr | ⋯ |  5580 | CIB  | 580 | EXP | 55-64 | 78.76569 | central | direct | 0 | 44 |\n",
       "| Sex Not Available | type3 | nob/c | 436500 | 3.490 |  2316.50 | not_neg | not_lpsm | 688000 | pr | ⋯ |  6720 | CIB  | 788 | EXP | 55-64 | 63.44477 | south   | direct | 0 | 30 |\n",
       "| Male              | type2 | b/c   | 136500 |    NA |       NA | neg_amm | not_lpsm | 168000 | pr | ⋯ |  4020 | EXP  | 723 | CIB | 55-64 | 81.25000 | North   | direct | 1 | 44 |\n",
       "| Sex Not Available | type1 | nob/c | 466500 | 4.375 |  1150.00 | not_neg | not_lpsm | 708000 | pr | ⋯ |  9540 | EXP  | 501 | EXP | 35-44 | 65.88983 | south   | direct | 0 | 36 |\n",
       "| Joint             | type2 | b/c   | 206500 |    NA |       NA | not_neg | not_lpsm | 258000 | pr | ⋯ |  3780 | CRIF | 884 | EXP | 65-74 | 80.03876 | North   | direct | 1 | 51 |\n",
       "| Female            | type1 | nob/c | 226500 | 4.500 |  3953.13 | not_neg | not_lpsm | 298000 | pr | ⋯ |  7860 | CIB  | 773 | CIB | 35-44 | 76.00671 | North   | direct | 0 | 39 |\n",
       "| Male              | type1 | nob/c |  76500 |    NA |       NA | not_neg | not_lpsm | 138000 | pr | ⋯ |  2220 | EXP  | 685 | CIB | 45-54 | 55.43478 | North   | direct | 1 | 20 |\n",
       "| Joint             | type2 | b/c   | 356500 |    NA |       NA | neg_amm | not_lpsm | 368000 | pr | ⋯ |  5340 | CRIF | 846 | EXP | 25-34 | 96.87500 | North   | direct | 1 | 44 |\n",
       "| Male              | type1 | nob/c | 156500 |    NA |       NA | neg_amm | not_lpsm | 168000 | pr | ⋯ |  3120 | CRIF | 534 | CIB | 65-74 | 93.15476 | North   | direct | 1 | 44 |\n",
       "| Female            | type1 | nob/c | 406500 | 4.560 |   895.00 | not_neg | not_lpsm | 598000 | pr | ⋯ |  5340 | CIB  | 629 | CIB | 45-54 | 67.97659 | North   | direct | 0 | 44 |\n",
       "| Sex Not Available | type1 | nob/c | 586500 | 3.175 |   650.00 | not_neg | not_lpsm | 748000 | sr | ⋯ | 12540 | CIB  | 688 | EXP | 55-64 | 78.40909 | south   | direct | 0 | 31 |\n",
       "| Joint             | type1 | nob/c | 306500 | 2.990 | 10470.00 | not_neg | not_lpsm | 558000 | pr | ⋯ | 16860 | EXP  | 668 | EXP | 65-74 | 54.92832 | North   | direct | 0 |  6 |\n",
       "| Female            | type1 | nob/c | 136500 | 3.990 |  4156.25 | not_neg | not_lpsm | 198000 | pr | ⋯ |  2100 | EXP  | 758 | CIB | &gt;74   | 68.93939 | North   | direct | 0 | 36 |\n",
       "| Male              | type1 | nob/c | 306500 |    NA |       NA | not_neg | not_lpsm | 448000 | pr | ⋯ |  2880 | EXP  | 692 | CIB | 55-64 | 68.41518 | south   | direct | 1 | 44 |\n",
       "| Female            | type1 | nob/c | 316500 | 3.625 |  6661.88 | not_neg | not_lpsm | 508000 | pr | ⋯ |  2760 | CIB  | 620 | CIB | 65-74 | 62.30315 | south   | direct | 0 | 44 |\n",
       "| Male              | type1 | nob/c | 336500 | 4.500 |     0.00 | not_neg | not_lpsm | 428000 | pr | ⋯ |  4980 | CIB  | 846 | CIB | 35-44 | 78.62150 | south   | direct | 0 | 35 |\n",
       "| Joint             | type1 | nob/c | 426500 | 4.990 |   169.50 | not_neg | not_lpsm | 568000 | pr | ⋯ |  8940 | EXP  | 533 | EXP | 45-54 | 75.08803 | North   | direct | 0 | 34 |\n",
       "| Sex Not Available | type1 | nob/c | 196500 | 5.250 |  5245.09 | not_neg | not_lpsm | 258000 | pr | ⋯ |  3840 | EXP  | 812 | EXP | 25-34 | 76.16279 | south   | direct | 0 | 49 |\n",
       "| Female            | type1 | nob/c | 186500 | 4.250 |  5376.25 | not_neg | not_lpsm | 218000 | pr | ⋯ |  3840 | CRIF | 534 | CIB | 55-64 | 85.55046 | central | direct | 0 | 46 |\n",
       "| Female            | type1 | nob/c | 436500 | 3.625 |  6260.00 | not_neg | not_lpsm | 468000 | pr | ⋯ |  4920 | CIB  | 647 | EXP | 35-44 | 93.26923 | south   | direct | 0 | 42 |\n",
       "| Male              | type2 | b/c   | 246500 | 4.250 |     0.00 | not_neg | not_lpsm | 258000 | pr | ⋯ |  5400 | EXP  | 683 | CIB | 25-34 | 95.54264 | North   | direct | 0 | 39 |\n",
       "| Male              | type1 | nob/c | 306500 | 4.125 |  3752.40 | not_neg | not_lpsm | 318000 | pr | ⋯ |  5580 | EXP  | 701 | CIB | 35-44 | 96.38365 | North   | direct | 0 | 37 |\n",
       "| Male              | type1 | nob/c | 316500 | 3.750 |  5560.63 | not_neg | not_lpsm | 338000 | pr | ⋯ |  3720 | EXP  | 591 | CIB | 45-54 | 93.63905 | North   | direct | 0 | 41 |\n",
       "| Male              | type1 | nob/c | 506500 | 4.250 |     0.00 | not_neg | not_lpsm | 538000 | pr | ⋯ |  7500 | CIB  | 647 | CIB | 25-34 | 94.14498 | North   | direct | 0 | 36 |\n",
       "| ⋮ | ⋮ | ⋮ | ⋮ | ⋮ | ⋮ | ⋮ | ⋮ | ⋮ | ⋮ | ⋱ | ⋮ | ⋮ | ⋮ | ⋮ | ⋮ | ⋮ | ⋮ | ⋮ | ⋮ | ⋮ |\n",
       "| Sex Not Available | type3 | nob/c | 366500 | 3.875 | 9720.00 | not_neg | not_lpsm | 458000 | pr | ⋯ |  3900 | CIB  | 537 | CIB | 35-44 | 80.02183 | south   | direct | 0 | 60 |\n",
       "| Male              | type1 | nob/c | 346500 | 4.875 | 1579.38 | not_neg | not_lpsm | 508000 | pr | ⋯ |  9120 | CIB  | 900 | CIB | 45-54 | 68.20866 | North   | direct | 0 | 26 |\n",
       "| Sex Not Available | type1 | nob/c | 226500 |    NA |      NA | not_neg | not_lpsm | 268000 | pr | ⋯ |  5100 | EXP  | 654 | CIB | 55-64 | 84.51493 | south   | direct | 1 | 56 |\n",
       "| Female            | type1 | nob/c | 366500 |    NA |      NA | neg_amm | not_lpsm | 418000 | pr | ⋯ |  4320 | EXP  | 687 | CIB | 35-44 | 87.67943 | North   | direct | 1 | 40 |\n",
       "| Sex Not Available | type2 | b/c   | 166500 |    NA |      NA | not_neg | not_lpsm | 188000 | pr | ⋯ |  3420 | EXP  | 698 | CIB | 35-44 | 88.56383 | south   | direct | 1 | 44 |\n",
       "| Sex Not Available | type1 | nob/c | 506500 | 3.750 | 6305.00 | not_neg | not_lpsm | 758000 | pr | ⋯ |  8700 | CRIF | 769 | EXP | 35-44 | 66.82058 | south   | direct | 0 | 31 |\n",
       "| Joint             | type1 | nob/c | 406500 | 3.875 |  823.56 | not_neg | not_lpsm | 508000 | pr | ⋯ | 11700 | EXP  | 672 | EXP | 35-44 | 80.01969 | central | direct | 0 | 26 |\n",
       "| Joint             | type1 | nob/c | 196500 | 3.750 | 4154.00 | not_neg | not_lpsm | 248000 | pr | ⋯ |  7440 | CRIF | 601 | EXP | 45-54 | 79.23387 | North   | direct | 0 | 31 |\n",
       "| Female            | type1 | nob/c | 156500 | 4.875 | 4015.00 | not_neg | not_lpsm | 198000 | pr | ⋯ |  6600 | CIB  | 831 | CIB | 35-44 | 79.04040 | North   | direct | 0 | 17 |\n",
       "| Sex Not Available | type1 | nob/c | 336500 | 4.250 | 6742.50 | not_neg | not_lpsm | 578000 | pr | ⋯ |  4140 | CIB  | 502 | CIB | 45-54 | 58.21799 | south   | direct | 0 | 37 |\n",
       "| Joint             | type1 | nob/c | 496500 | 3.625 | 9000.00 | not_neg | not_lpsm | 598000 | pr | ⋯ |  9060 | CIB  | 573 | EXP | 35-44 | 83.02676 | North   | direct | 0 | 41 |\n",
       "| Joint             | type1 | nob/c | 126500 | 3.990 | 2937.06 | not_neg | not_lpsm | 178000 | pr | ⋯ |  1620 | CIB  | 725 | EXP | 55-64 | 71.06742 | North   | direct | 0 | 40 |\n",
       "| Joint             | type3 | nob/c | 506500 | 4.375 |  265.00 | not_neg | not_lpsm | 508000 | pr | ⋯ |  7620 | EXP  | 545 | EXP | 65-74 | 99.70472 | south   | direct | 0 | 42 |\n",
       "| Joint             | type1 | nob/c | 416500 | 4.875 | 5410.00 | not_neg | not_lpsm | 528000 | pr | ⋯ |  5820 | EXP  | 659 | EXP | 65-74 | 78.88258 | North   | direct | 0 | 41 |\n",
       "| Joint             | type3 | nob/c | 306500 | 3.625 |    0.00 | not_neg | not_lpsm | 388000 | pr | ⋯ |  2700 | EXP  | 855 | EXP | &gt;74   | 78.99485 | North   | direct | 0 | 47 |\n",
       "| Female            | type1 | nob/c | 426500 |    NA |      NA | neg_amm | not_lpsm | 538000 | pr | ⋯ |  3900 | EXP  | 540 | CIB | 25-34 | 79.27509 | south   | direct | 1 | 10 |\n",
       "| Joint             | type3 | nob/c | 446500 |    NA |      NA | not_neg | not_lpsm | 508000 | pr | ⋯ | 12300 | EXP  | 897 | EXP | 45-54 | 87.89370 | North   | direct | 1 | 37 |\n",
       "| Sex Not Available | type1 | nob/c | 176500 | 4.990 | 3337.50 | neg_amm | not_lpsm | 238000 | pr | ⋯ |  4740 | EXP  | 712 | CIB | 65-74 | 74.15966 | south   | direct | 0 | 44 |\n",
       "| Female            | type1 | nob/c | 136500 | 3.990 | 4444.13 | not_neg | not_lpsm | 338000 | pr | ⋯ |  5100 | CIB  | 654 | CIB | 55-64 | 40.38462 | North   | direct | 0 | 22 |\n",
       "| Joint             | type1 | nob/c | 216500 | 5.990 |    0.00 | not_neg | not_lpsm | 288000 | ir | ⋯ |  4260 | CRIF | 530 | EXP | 55-64 | 75.17361 | North   | direct | 0 | 30 |\n",
       "| Sex Not Available | type2 | b/c   | 226500 | 4.990 |    0.00 | neg_amm | not_lpsm | 268000 | pr | ⋯ |  3120 | EXP  | 665 | CIB | 45-54 | 84.51493 | south   | direct | 0 | 51 |\n",
       "| Joint             | type1 | nob/c | 326500 | 4.250 |  421.50 | not_neg | not_lpsm | 458000 | sr | ⋯ | 15360 | EXP  | 688 | EXP | 65-74 | 71.28821 | North   | direct | 0 | 30 |\n",
       "| Sex Not Available | type3 | nob/c | 416500 | 4.375 | 5687.91 | neg_amm | not_lpsm | 608000 | pr | ⋯ |  4080 | EXP  | 520 | EXP | 65-74 | 68.50329 | south   | direct | 0 | 40 |\n",
       "| Female            | type1 | nob/c | 366500 | 3.875 | 3643.16 | not_neg | not_lpsm | 658000 | pr | ⋯ |  7200 | CIB  | 851 | EXP | 45-54 | 55.69909 | North   | direct | 0 | 20 |\n",
       "| Joint             | type2 | b/c   | 156500 | 3.990 | 3113.06 | not_neg | not_lpsm | 158000 | pr | ⋯ |  4020 | EXP  | 859 | EXP | 65-74 | 99.05063 | central | direct | 0 | 45 |\n",
       "| Sex Not Available | type1 | nob/c | 436500 | 3.125 | 9960.00 | not_neg | not_lpsm | 608000 | pr | ⋯ |  7860 | CIB  | 659 | EXP | 55-64 | 71.79276 | south   | direct | 0 | 48 |\n",
       "| Male              | type1 | nob/c | 586500 | 5.190 |    0.00 | not_neg | not_lpsm | 788000 | ir | ⋯ |  7140 | CIB  | 569 | CIB | 25-34 | 74.42893 | south   | direct | 0 | 15 |\n",
       "| Male              | type1 | nob/c | 446500 | 3.125 | 1226.64 | not_neg | not_lpsm | 728000 | pr | ⋯ |  6900 | CIB  | 702 | EXP | 45-54 | 61.33242 | North   | direct | 0 | 49 |\n",
       "| Female            | type1 | nob/c | 196500 | 3.500 | 4323.33 | not_neg | not_lpsm | 278000 | pr | ⋯ |  7140 | EXP  | 737 | EXP | 55-64 | 70.68345 | North   | direct | 0 | 29 |\n",
       "| Female            | type1 | nob/c | 406500 | 4.375 | 6000.00 | not_neg | not_lpsm | 558000 | pr | ⋯ |  7260 | CIB  | 830 | CIB | 45-54 | 72.84946 | North   | direct | 0 | 44 |\n",
       "\n"
      ],
      "text/plain": [
       "       Gender            loan_type business_or_commercial loan_amount\n",
       "1      Sex Not Available type1     nob/c                  116500     \n",
       "2      Male              type1     nob/c                  406500     \n",
       "3      Male              type1     nob/c                  456500     \n",
       "4      Joint             type1     nob/c                  696500     \n",
       "5      Joint             type1     nob/c                  346500     \n",
       "6      Female            type1     nob/c                  266500     \n",
       "7      Joint             type1     nob/c                  376500     \n",
       "8      Sex Not Available type3     nob/c                  436500     \n",
       "9      Male              type2     b/c                    136500     \n",
       "10     Sex Not Available type1     nob/c                  466500     \n",
       "11     Joint             type2     b/c                    206500     \n",
       "12     Female            type1     nob/c                  226500     \n",
       "13     Male              type1     nob/c                   76500     \n",
       "14     Joint             type2     b/c                    356500     \n",
       "15     Male              type1     nob/c                  156500     \n",
       "16     Female            type1     nob/c                  406500     \n",
       "17     Sex Not Available type1     nob/c                  586500     \n",
       "18     Joint             type1     nob/c                  306500     \n",
       "19     Female            type1     nob/c                  136500     \n",
       "20     Male              type1     nob/c                  306500     \n",
       "21     Female            type1     nob/c                  316500     \n",
       "22     Male              type1     nob/c                  336500     \n",
       "23     Joint             type1     nob/c                  426500     \n",
       "24     Sex Not Available type1     nob/c                  196500     \n",
       "25     Female            type1     nob/c                  186500     \n",
       "26     Female            type1     nob/c                  436500     \n",
       "27     Male              type2     b/c                    246500     \n",
       "28     Male              type1     nob/c                  306500     \n",
       "29     Male              type1     nob/c                  316500     \n",
       "30     Male              type1     nob/c                  506500     \n",
       "⋮      ⋮                 ⋮         ⋮                      ⋮          \n",
       "107778 Sex Not Available type3     nob/c                  366500     \n",
       "107779 Male              type1     nob/c                  346500     \n",
       "107780 Sex Not Available type1     nob/c                  226500     \n",
       "107781 Female            type1     nob/c                  366500     \n",
       "107782 Sex Not Available type2     b/c                    166500     \n",
       "107783 Sex Not Available type1     nob/c                  506500     \n",
       "107784 Joint             type1     nob/c                  406500     \n",
       "107785 Joint             type1     nob/c                  196500     \n",
       "107786 Female            type1     nob/c                  156500     \n",
       "107787 Sex Not Available type1     nob/c                  336500     \n",
       "107788 Joint             type1     nob/c                  496500     \n",
       "107789 Joint             type1     nob/c                  126500     \n",
       "107790 Joint             type3     nob/c                  506500     \n",
       "107791 Joint             type1     nob/c                  416500     \n",
       "107792 Joint             type3     nob/c                  306500     \n",
       "107793 Female            type1     nob/c                  426500     \n",
       "107794 Joint             type3     nob/c                  446500     \n",
       "107795 Sex Not Available type1     nob/c                  176500     \n",
       "107796 Female            type1     nob/c                  136500     \n",
       "107797 Joint             type1     nob/c                  216500     \n",
       "107798 Sex Not Available type2     b/c                    226500     \n",
       "107799 Joint             type1     nob/c                  326500     \n",
       "107800 Sex Not Available type3     nob/c                  416500     \n",
       "107801 Female            type1     nob/c                  366500     \n",
       "107802 Joint             type2     b/c                    156500     \n",
       "107803 Sex Not Available type1     nob/c                  436500     \n",
       "107804 Male              type1     nob/c                  586500     \n",
       "107805 Male              type1     nob/c                  446500     \n",
       "107806 Female            type1     nob/c                  196500     \n",
       "107807 Female            type1     nob/c                  406500     \n",
       "       rate_of_interest Upfront_charges Neg_ammortization lump_sum_payment\n",
       "1         NA                  NA        not_neg           not_lpsm        \n",
       "2      4.560              595.00        neg_amm           not_lpsm        \n",
       "3      4.250                  NA        not_neg           not_lpsm        \n",
       "4      4.000                0.00        not_neg           not_lpsm        \n",
       "5      4.500             5120.00        not_neg           not_lpsm        \n",
       "6      4.125             5609.88        not_neg           not_lpsm        \n",
       "7      4.875             1150.00        not_neg           not_lpsm        \n",
       "8      3.490             2316.50        not_neg           not_lpsm        \n",
       "9         NA                  NA        neg_amm           not_lpsm        \n",
       "10     4.375             1150.00        not_neg           not_lpsm        \n",
       "11        NA                  NA        not_neg           not_lpsm        \n",
       "12     4.500             3953.13        not_neg           not_lpsm        \n",
       "13        NA                  NA        not_neg           not_lpsm        \n",
       "14        NA                  NA        neg_amm           not_lpsm        \n",
       "15        NA                  NA        neg_amm           not_lpsm        \n",
       "16     4.560              895.00        not_neg           not_lpsm        \n",
       "17     3.175              650.00        not_neg           not_lpsm        \n",
       "18     2.990            10470.00        not_neg           not_lpsm        \n",
       "19     3.990             4156.25        not_neg           not_lpsm        \n",
       "20        NA                  NA        not_neg           not_lpsm        \n",
       "21     3.625             6661.88        not_neg           not_lpsm        \n",
       "22     4.500                0.00        not_neg           not_lpsm        \n",
       "23     4.990              169.50        not_neg           not_lpsm        \n",
       "24     5.250             5245.09        not_neg           not_lpsm        \n",
       "25     4.250             5376.25        not_neg           not_lpsm        \n",
       "26     3.625             6260.00        not_neg           not_lpsm        \n",
       "27     4.250                0.00        not_neg           not_lpsm        \n",
       "28     4.125             3752.40        not_neg           not_lpsm        \n",
       "29     3.750             5560.63        not_neg           not_lpsm        \n",
       "30     4.250                0.00        not_neg           not_lpsm        \n",
       "⋮      ⋮                ⋮               ⋮                 ⋮               \n",
       "107778 3.875            9720.00         not_neg           not_lpsm        \n",
       "107779 4.875            1579.38         not_neg           not_lpsm        \n",
       "107780    NA                 NA         not_neg           not_lpsm        \n",
       "107781    NA                 NA         neg_amm           not_lpsm        \n",
       "107782    NA                 NA         not_neg           not_lpsm        \n",
       "107783 3.750            6305.00         not_neg           not_lpsm        \n",
       "107784 3.875             823.56         not_neg           not_lpsm        \n",
       "107785 3.750            4154.00         not_neg           not_lpsm        \n",
       "107786 4.875            4015.00         not_neg           not_lpsm        \n",
       "107787 4.250            6742.50         not_neg           not_lpsm        \n",
       "107788 3.625            9000.00         not_neg           not_lpsm        \n",
       "107789 3.990            2937.06         not_neg           not_lpsm        \n",
       "107790 4.375             265.00         not_neg           not_lpsm        \n",
       "107791 4.875            5410.00         not_neg           not_lpsm        \n",
       "107792 3.625               0.00         not_neg           not_lpsm        \n",
       "107793    NA                 NA         neg_amm           not_lpsm        \n",
       "107794    NA                 NA         not_neg           not_lpsm        \n",
       "107795 4.990            3337.50         neg_amm           not_lpsm        \n",
       "107796 3.990            4444.13         not_neg           not_lpsm        \n",
       "107797 5.990               0.00         not_neg           not_lpsm        \n",
       "107798 4.990               0.00         neg_amm           not_lpsm        \n",
       "107799 4.250             421.50         not_neg           not_lpsm        \n",
       "107800 4.375            5687.91         neg_amm           not_lpsm        \n",
       "107801 3.875            3643.16         not_neg           not_lpsm        \n",
       "107802 3.990            3113.06         not_neg           not_lpsm        \n",
       "107803 3.125            9960.00         not_neg           not_lpsm        \n",
       "107804 5.190               0.00         not_neg           not_lpsm        \n",
       "107805 3.125            1226.64         not_neg           not_lpsm        \n",
       "107806 3.500            4323.33         not_neg           not_lpsm        \n",
       "107807 4.375            6000.00         not_neg           not_lpsm        \n",
       "       property_value occupancy_type ⋯ income credit_type Credit_Score\n",
       "1      118000         pr             ⋯  1740  EXP         758         \n",
       "2      508000         pr             ⋯  9480  EXP         834         \n",
       "3      658000         pr             ⋯ 11880  EXP         587         \n",
       "4      758000         pr             ⋯ 10440  CRIF        602         \n",
       "5      438000         pr             ⋯  5040  EXP         860         \n",
       "6      308000         pr             ⋯  3780  CIB         863         \n",
       "7      478000         pr             ⋯  5580  CIB         580         \n",
       "8      688000         pr             ⋯  6720  CIB         788         \n",
       "9      168000         pr             ⋯  4020  EXP         723         \n",
       "10     708000         pr             ⋯  9540  EXP         501         \n",
       "11     258000         pr             ⋯  3780  CRIF        884         \n",
       "12     298000         pr             ⋯  7860  CIB         773         \n",
       "13     138000         pr             ⋯  2220  EXP         685         \n",
       "14     368000         pr             ⋯  5340  CRIF        846         \n",
       "15     168000         pr             ⋯  3120  CRIF        534         \n",
       "16     598000         pr             ⋯  5340  CIB         629         \n",
       "17     748000         sr             ⋯ 12540  CIB         688         \n",
       "18     558000         pr             ⋯ 16860  EXP         668         \n",
       "19     198000         pr             ⋯  2100  EXP         758         \n",
       "20     448000         pr             ⋯  2880  EXP         692         \n",
       "21     508000         pr             ⋯  2760  CIB         620         \n",
       "22     428000         pr             ⋯  4980  CIB         846         \n",
       "23     568000         pr             ⋯  8940  EXP         533         \n",
       "24     258000         pr             ⋯  3840  EXP         812         \n",
       "25     218000         pr             ⋯  3840  CRIF        534         \n",
       "26     468000         pr             ⋯  4920  CIB         647         \n",
       "27     258000         pr             ⋯  5400  EXP         683         \n",
       "28     318000         pr             ⋯  5580  EXP         701         \n",
       "29     338000         pr             ⋯  3720  EXP         591         \n",
       "30     538000         pr             ⋯  7500  CIB         647         \n",
       "⋮      ⋮              ⋮              ⋱ ⋮      ⋮           ⋮           \n",
       "107778 458000         pr             ⋯  3900  CIB         537         \n",
       "107779 508000         pr             ⋯  9120  CIB         900         \n",
       "107780 268000         pr             ⋯  5100  EXP         654         \n",
       "107781 418000         pr             ⋯  4320  EXP         687         \n",
       "107782 188000         pr             ⋯  3420  EXP         698         \n",
       "107783 758000         pr             ⋯  8700  CRIF        769         \n",
       "107784 508000         pr             ⋯ 11700  EXP         672         \n",
       "107785 248000         pr             ⋯  7440  CRIF        601         \n",
       "107786 198000         pr             ⋯  6600  CIB         831         \n",
       "107787 578000         pr             ⋯  4140  CIB         502         \n",
       "107788 598000         pr             ⋯  9060  CIB         573         \n",
       "107789 178000         pr             ⋯  1620  CIB         725         \n",
       "107790 508000         pr             ⋯  7620  EXP         545         \n",
       "107791 528000         pr             ⋯  5820  EXP         659         \n",
       "107792 388000         pr             ⋯  2700  EXP         855         \n",
       "107793 538000         pr             ⋯  3900  EXP         540         \n",
       "107794 508000         pr             ⋯ 12300  EXP         897         \n",
       "107795 238000         pr             ⋯  4740  EXP         712         \n",
       "107796 338000         pr             ⋯  5100  CIB         654         \n",
       "107797 288000         ir             ⋯  4260  CRIF        530         \n",
       "107798 268000         pr             ⋯  3120  EXP         665         \n",
       "107799 458000         sr             ⋯ 15360  EXP         688         \n",
       "107800 608000         pr             ⋯  4080  EXP         520         \n",
       "107801 658000         pr             ⋯  7200  CIB         851         \n",
       "107802 158000         pr             ⋯  4020  EXP         859         \n",
       "107803 608000         pr             ⋯  7860  CIB         659         \n",
       "107804 788000         ir             ⋯  7140  CIB         569         \n",
       "107805 728000         pr             ⋯  6900  CIB         702         \n",
       "107806 278000         pr             ⋯  7140  EXP         737         \n",
       "107807 558000         pr             ⋯  7260  CIB         830         \n",
       "       co.applicant_credit_type age   LTV      Region  Security_Type Status\n",
       "1      CIB                      25-34 98.72881 south   direct        1     \n",
       "2      CIB                      35-44 80.01969 south   direct        0     \n",
       "3      CIB                      45-54 69.37690 North   direct        0     \n",
       "4      EXP                      25-34 91.88654 North   direct        0     \n",
       "5      EXP                      55-64 79.10959 North   direct        0     \n",
       "6      CIB                      55-64 86.52597 North   direct        0     \n",
       "7      EXP                      55-64 78.76569 central direct        0     \n",
       "8      EXP                      55-64 63.44477 south   direct        0     \n",
       "9      CIB                      55-64 81.25000 North   direct        1     \n",
       "10     EXP                      35-44 65.88983 south   direct        0     \n",
       "11     EXP                      65-74 80.03876 North   direct        1     \n",
       "12     CIB                      35-44 76.00671 North   direct        0     \n",
       "13     CIB                      45-54 55.43478 North   direct        1     \n",
       "14     EXP                      25-34 96.87500 North   direct        1     \n",
       "15     CIB                      65-74 93.15476 North   direct        1     \n",
       "16     CIB                      45-54 67.97659 North   direct        0     \n",
       "17     EXP                      55-64 78.40909 south   direct        0     \n",
       "18     EXP                      65-74 54.92832 North   direct        0     \n",
       "19     CIB                      >74   68.93939 North   direct        0     \n",
       "20     CIB                      55-64 68.41518 south   direct        1     \n",
       "21     CIB                      65-74 62.30315 south   direct        0     \n",
       "22     CIB                      35-44 78.62150 south   direct        0     \n",
       "23     EXP                      45-54 75.08803 North   direct        0     \n",
       "24     EXP                      25-34 76.16279 south   direct        0     \n",
       "25     CIB                      55-64 85.55046 central direct        0     \n",
       "26     EXP                      35-44 93.26923 south   direct        0     \n",
       "27     CIB                      25-34 95.54264 North   direct        0     \n",
       "28     CIB                      35-44 96.38365 North   direct        0     \n",
       "29     CIB                      45-54 93.63905 North   direct        0     \n",
       "30     CIB                      25-34 94.14498 North   direct        0     \n",
       "⋮      ⋮                        ⋮     ⋮        ⋮       ⋮             ⋮     \n",
       "107778 CIB                      35-44 80.02183 south   direct        0     \n",
       "107779 CIB                      45-54 68.20866 North   direct        0     \n",
       "107780 CIB                      55-64 84.51493 south   direct        1     \n",
       "107781 CIB                      35-44 87.67943 North   direct        1     \n",
       "107782 CIB                      35-44 88.56383 south   direct        1     \n",
       "107783 EXP                      35-44 66.82058 south   direct        0     \n",
       "107784 EXP                      35-44 80.01969 central direct        0     \n",
       "107785 EXP                      45-54 79.23387 North   direct        0     \n",
       "107786 CIB                      35-44 79.04040 North   direct        0     \n",
       "107787 CIB                      45-54 58.21799 south   direct        0     \n",
       "107788 EXP                      35-44 83.02676 North   direct        0     \n",
       "107789 EXP                      55-64 71.06742 North   direct        0     \n",
       "107790 EXP                      65-74 99.70472 south   direct        0     \n",
       "107791 EXP                      65-74 78.88258 North   direct        0     \n",
       "107792 EXP                      >74   78.99485 North   direct        0     \n",
       "107793 CIB                      25-34 79.27509 south   direct        1     \n",
       "107794 EXP                      45-54 87.89370 North   direct        1     \n",
       "107795 CIB                      65-74 74.15966 south   direct        0     \n",
       "107796 CIB                      55-64 40.38462 North   direct        0     \n",
       "107797 EXP                      55-64 75.17361 North   direct        0     \n",
       "107798 CIB                      45-54 84.51493 south   direct        0     \n",
       "107799 EXP                      65-74 71.28821 North   direct        0     \n",
       "107800 EXP                      65-74 68.50329 south   direct        0     \n",
       "107801 EXP                      45-54 55.69909 North   direct        0     \n",
       "107802 EXP                      65-74 99.05063 central direct        0     \n",
       "107803 EXP                      55-64 71.79276 south   direct        0     \n",
       "107804 CIB                      25-34 74.42893 south   direct        0     \n",
       "107805 EXP                      45-54 61.33242 North   direct        0     \n",
       "107806 EXP                      55-64 70.68345 North   direct        0     \n",
       "107807 CIB                      45-54 72.84946 North   direct        0     \n",
       "       dtir1\n",
       "1      45   \n",
       "2      46   \n",
       "3      42   \n",
       "4      39   \n",
       "5      44   \n",
       "6      42   \n",
       "7      44   \n",
       "8      30   \n",
       "9      44   \n",
       "10     36   \n",
       "11     51   \n",
       "12     39   \n",
       "13     20   \n",
       "14     44   \n",
       "15     44   \n",
       "16     44   \n",
       "17     31   \n",
       "18      6   \n",
       "19     36   \n",
       "20     44   \n",
       "21     44   \n",
       "22     35   \n",
       "23     34   \n",
       "24     49   \n",
       "25     46   \n",
       "26     42   \n",
       "27     39   \n",
       "28     37   \n",
       "29     41   \n",
       "30     36   \n",
       "⋮      ⋮    \n",
       "107778 60   \n",
       "107779 26   \n",
       "107780 56   \n",
       "107781 40   \n",
       "107782 44   \n",
       "107783 31   \n",
       "107784 26   \n",
       "107785 31   \n",
       "107786 17   \n",
       "107787 37   \n",
       "107788 41   \n",
       "107789 40   \n",
       "107790 42   \n",
       "107791 41   \n",
       "107792 47   \n",
       "107793 10   \n",
       "107794 37   \n",
       "107795 44   \n",
       "107796 22   \n",
       "107797 30   \n",
       "107798 51   \n",
       "107799 30   \n",
       "107800 40   \n",
       "107801 20   \n",
       "107802 45   \n",
       "107803 48   \n",
       "107804 15   \n",
       "107805 49   \n",
       "107806 29   \n",
       "107807 44   "
      ]
     },
     "metadata": {},
     "output_type": "display_data"
    }
   ],
   "source": [
    "loanDefault %>% filter(income < 150000, property_value < 800000, loan_amount <1250000) # taking a subset of the dataset by removing the extreme values in the columns income, property_value and loan amount"
   ]
  },
  {
   "cell_type": "code",
   "execution_count": 12,
   "metadata": {},
   "outputs": [
    {
     "data": {
      "text/html": [
       "<style>\n",
       ".dl-inline {width: auto; margin:0; padding: 0}\n",
       ".dl-inline>dt, .dl-inline>dd {float: none; width: auto; display: inline-block}\n",
       ".dl-inline>dt::after {content: \":\\0020\"; padding-right: .5ex}\n",
       ".dl-inline>dt:not(:first-of-type) {padding-left: .5ex}\n",
       "</style><dl class=dl-inline><dt>Gender</dt><dd>0</dd><dt>loan_type</dt><dd>0</dd><dt>business_or_commercial</dt><dd>0</dd><dt>loan_amount</dt><dd>0</dd><dt>rate_of_interest</dt><dd>36439</dd><dt>Upfront_charges</dt><dd>39642</dd><dt>Neg_ammortization</dt><dd>0</dd><dt>lump_sum_payment</dt><dd>0</dd><dt>property_value</dt><dd>15098</dd><dt>occupancy_type</dt><dd>0</dd><dt>Secured_by</dt><dd>0</dd><dt>total_units</dt><dd>0</dd><dt>income</dt><dd>9150</dd><dt>credit_type</dt><dd>0</dd><dt>Credit_Score</dt><dd>0</dd><dt>co.applicant_credit_type</dt><dd>0</dd><dt>age</dt><dd>0</dd><dt>LTV</dt><dd>15098</dd><dt>Region</dt><dd>0</dd><dt>Security_Type</dt><dd>0</dd><dt>Status</dt><dd>0</dd><dt>dtir1</dt><dd>24121</dd></dl>\n"
      ],
      "text/latex": [
       "\\begin{description*}\n",
       "\\item[Gender] 0\n",
       "\\item[loan\\textbackslash{}\\_type] 0\n",
       "\\item[business\\textbackslash{}\\_or\\textbackslash{}\\_commercial] 0\n",
       "\\item[loan\\textbackslash{}\\_amount] 0\n",
       "\\item[rate\\textbackslash{}\\_of\\textbackslash{}\\_interest] 36439\n",
       "\\item[Upfront\\textbackslash{}\\_charges] 39642\n",
       "\\item[Neg\\textbackslash{}\\_ammortization] 0\n",
       "\\item[lump\\textbackslash{}\\_sum\\textbackslash{}\\_payment] 0\n",
       "\\item[property\\textbackslash{}\\_value] 15098\n",
       "\\item[occupancy\\textbackslash{}\\_type] 0\n",
       "\\item[Secured\\textbackslash{}\\_by] 0\n",
       "\\item[total\\textbackslash{}\\_units] 0\n",
       "\\item[income] 9150\n",
       "\\item[credit\\textbackslash{}\\_type] 0\n",
       "\\item[Credit\\textbackslash{}\\_Score] 0\n",
       "\\item[co.applicant\\textbackslash{}\\_credit\\textbackslash{}\\_type] 0\n",
       "\\item[age] 0\n",
       "\\item[LTV] 15098\n",
       "\\item[Region] 0\n",
       "\\item[Security\\textbackslash{}\\_Type] 0\n",
       "\\item[Status] 0\n",
       "\\item[dtir1] 24121\n",
       "\\end{description*}\n"
      ],
      "text/markdown": [
       "Gender\n",
       ":   0loan_type\n",
       ":   0business_or_commercial\n",
       ":   0loan_amount\n",
       ":   0rate_of_interest\n",
       ":   36439Upfront_charges\n",
       ":   39642Neg_ammortization\n",
       ":   0lump_sum_payment\n",
       ":   0property_value\n",
       ":   15098occupancy_type\n",
       ":   0Secured_by\n",
       ":   0total_units\n",
       ":   0income\n",
       ":   9150credit_type\n",
       ":   0Credit_Score\n",
       ":   0co.applicant_credit_type\n",
       ":   0age\n",
       ":   0LTV\n",
       ":   15098Region\n",
       ":   0Security_Type\n",
       ":   0Status\n",
       ":   0dtir1\n",
       ":   24121\n",
       "\n"
      ],
      "text/plain": [
       "                  Gender                loan_type   business_or_commercial \n",
       "                       0                        0                        0 \n",
       "             loan_amount         rate_of_interest          Upfront_charges \n",
       "                       0                    36439                    39642 \n",
       "       Neg_ammortization         lump_sum_payment           property_value \n",
       "                       0                        0                    15098 \n",
       "          occupancy_type               Secured_by              total_units \n",
       "                       0                        0                        0 \n",
       "                  income              credit_type             Credit_Score \n",
       "                    9150                        0                        0 \n",
       "co.applicant_credit_type                      age                      LTV \n",
       "                       0                        0                    15098 \n",
       "                  Region            Security_Type                   Status \n",
       "                       0                        0                        0 \n",
       "                   dtir1 \n",
       "                   24121 "
      ]
     },
     "metadata": {},
     "output_type": "display_data"
    }
   ],
   "source": [
    "sapply(loanDefault, function(x) sum(is.na(x)))  #checking for null values"
   ]
  },
  {
   "cell_type": "code",
   "execution_count": 13,
   "metadata": {},
   "outputs": [
    {
     "data": {
      "text/plain": [
       "               Gender      loan_type      business_or_commercial\n",
       " Female           :27266   type1:113173   b/c  : 20762          \n",
       " Joint            :41399   type2: 20762   nob/c:127908          \n",
       " Male             :42346   type3: 14735                         \n",
       " Sex Not Available:37659                                        \n",
       "                                                                \n",
       "                                                                \n",
       "                                                                \n",
       "  loan_amount      rate_of_interest Upfront_charges   Neg_ammortization\n",
       " Min.   :  16500   Min.   :0.00     Min.   :    0.0          :   121   \n",
       " 1st Qu.: 196500   1st Qu.:3.62     1st Qu.:  581.5   neg_amm: 15129   \n",
       " Median : 296500   Median :3.99     Median : 2596.4   not_neg:133420   \n",
       " Mean   : 331118   Mean   :4.05     Mean   : 3225.0                    \n",
       " 3rd Qu.: 436500   3rd Qu.:4.38     3rd Qu.: 4812.5                    \n",
       " Max.   :3576500   Max.   :8.00     Max.   :60000.0                    \n",
       "                   NA's   :36439    NA's   :39642                      \n",
       " lump_sum_payment  property_value     occupancy_type Secured_by    total_units\n",
       " lpsm    :  3384   Min.   :    8000   ir:  7340      home:148637   1U:146480  \n",
       " not_lpsm:145286   1st Qu.:  268000   pr:138201      land:    33   2U:  1477  \n",
       "                   Median :  418000   sr:  3129                    3U:   393  \n",
       "                   Mean   :  497893                                4U:   320  \n",
       "                   3rd Qu.:  628000                                           \n",
       "                   Max.   :16508000                                           \n",
       "                   NA's   :15098                                              \n",
       "     income       credit_type   Credit_Score   co.applicant_credit_type\n",
       " Min.   :     0   CIB :48152   Min.   :500.0   CIB:74392               \n",
       " 1st Qu.:  3720   CRIF:43901   1st Qu.:599.0   EXP:74278               \n",
       " Median :  5760   EQUI:15298   Median :699.0                           \n",
       " Mean   :  6957   EXP :41319   Mean   :699.8                           \n",
       " 3rd Qu.:  8520                3rd Qu.:800.0                           \n",
       " Max.   :578580                Max.   :900.0                           \n",
       " NA's   :9150                                                          \n",
       "      age             LTV                  Region       Security_Type   \n",
       " 45-54  :34720   Min.   :   0.967   central   : 8697   direct  :148637  \n",
       " 35-44  :32818   1st Qu.:  60.475   North     :74722   Indriect:    33  \n",
       " 55-64  :32534   Median :  75.136   North-East: 1235                    \n",
       " 65-74  :20744   Mean   :  72.746   south     :64016                    \n",
       " 25-34  :19142   3rd Qu.:  86.184                                       \n",
       " >74    : 7175   Max.   :7831.250                                       \n",
       " (Other): 1537   NA's   :15098                                          \n",
       "     Status           dtir1      \n",
       " Min.   :0.0000   Min.   : 5.00  \n",
       " 1st Qu.:0.0000   1st Qu.:31.00  \n",
       " Median :0.0000   Median :39.00  \n",
       " Mean   :0.2464   Mean   :37.73  \n",
       " 3rd Qu.:0.0000   3rd Qu.:45.00  \n",
       " Max.   :1.0000   Max.   :61.00  \n",
       "                  NA's   :24121  "
      ]
     },
     "metadata": {},
     "output_type": "display_data"
    }
   ],
   "source": [
    "summary(loanDefault)"
   ]
  },
  {
   "cell_type": "code",
   "execution_count": 14,
   "metadata": {},
   "outputs": [],
   "source": [
    "#loanDefault1= na.omit(loanDefault)"
   ]
  },
  {
   "cell_type": "code",
   "execution_count": 15,
   "metadata": {},
   "outputs": [],
   "source": [
    "library(missMethods)\n",
    "loanDefault=impute_median(loanDefault,type = \"columnwise\") #imputing missing values with the median value"
   ]
  },
  {
   "cell_type": "code",
   "execution_count": 16,
   "metadata": {},
   "outputs": [
    {
     "data": {
      "text/html": [
       "<style>\n",
       ".dl-inline {width: auto; margin:0; padding: 0}\n",
       ".dl-inline>dt, .dl-inline>dd {float: none; width: auto; display: inline-block}\n",
       ".dl-inline>dt::after {content: \":\\0020\"; padding-right: .5ex}\n",
       ".dl-inline>dt:not(:first-of-type) {padding-left: .5ex}\n",
       "</style><dl class=dl-inline><dt>Gender</dt><dd>0</dd><dt>loan_type</dt><dd>0</dd><dt>business_or_commercial</dt><dd>0</dd><dt>loan_amount</dt><dd>0</dd><dt>rate_of_interest</dt><dd>0</dd><dt>Upfront_charges</dt><dd>0</dd><dt>Neg_ammortization</dt><dd>0</dd><dt>lump_sum_payment</dt><dd>0</dd><dt>property_value</dt><dd>0</dd><dt>occupancy_type</dt><dd>0</dd><dt>Secured_by</dt><dd>0</dd><dt>total_units</dt><dd>0</dd><dt>income</dt><dd>0</dd><dt>credit_type</dt><dd>0</dd><dt>Credit_Score</dt><dd>0</dd><dt>co.applicant_credit_type</dt><dd>0</dd><dt>age</dt><dd>0</dd><dt>LTV</dt><dd>0</dd><dt>Region</dt><dd>0</dd><dt>Security_Type</dt><dd>0</dd><dt>Status</dt><dd>0</dd><dt>dtir1</dt><dd>0</dd></dl>\n"
      ],
      "text/latex": [
       "\\begin{description*}\n",
       "\\item[Gender] 0\n",
       "\\item[loan\\textbackslash{}\\_type] 0\n",
       "\\item[business\\textbackslash{}\\_or\\textbackslash{}\\_commercial] 0\n",
       "\\item[loan\\textbackslash{}\\_amount] 0\n",
       "\\item[rate\\textbackslash{}\\_of\\textbackslash{}\\_interest] 0\n",
       "\\item[Upfront\\textbackslash{}\\_charges] 0\n",
       "\\item[Neg\\textbackslash{}\\_ammortization] 0\n",
       "\\item[lump\\textbackslash{}\\_sum\\textbackslash{}\\_payment] 0\n",
       "\\item[property\\textbackslash{}\\_value] 0\n",
       "\\item[occupancy\\textbackslash{}\\_type] 0\n",
       "\\item[Secured\\textbackslash{}\\_by] 0\n",
       "\\item[total\\textbackslash{}\\_units] 0\n",
       "\\item[income] 0\n",
       "\\item[credit\\textbackslash{}\\_type] 0\n",
       "\\item[Credit\\textbackslash{}\\_Score] 0\n",
       "\\item[co.applicant\\textbackslash{}\\_credit\\textbackslash{}\\_type] 0\n",
       "\\item[age] 0\n",
       "\\item[LTV] 0\n",
       "\\item[Region] 0\n",
       "\\item[Security\\textbackslash{}\\_Type] 0\n",
       "\\item[Status] 0\n",
       "\\item[dtir1] 0\n",
       "\\end{description*}\n"
      ],
      "text/markdown": [
       "Gender\n",
       ":   0loan_type\n",
       ":   0business_or_commercial\n",
       ":   0loan_amount\n",
       ":   0rate_of_interest\n",
       ":   0Upfront_charges\n",
       ":   0Neg_ammortization\n",
       ":   0lump_sum_payment\n",
       ":   0property_value\n",
       ":   0occupancy_type\n",
       ":   0Secured_by\n",
       ":   0total_units\n",
       ":   0income\n",
       ":   0credit_type\n",
       ":   0Credit_Score\n",
       ":   0co.applicant_credit_type\n",
       ":   0age\n",
       ":   0LTV\n",
       ":   0Region\n",
       ":   0Security_Type\n",
       ":   0Status\n",
       ":   0dtir1\n",
       ":   0\n",
       "\n"
      ],
      "text/plain": [
       "                  Gender                loan_type   business_or_commercial \n",
       "                       0                        0                        0 \n",
       "             loan_amount         rate_of_interest          Upfront_charges \n",
       "                       0                        0                        0 \n",
       "       Neg_ammortization         lump_sum_payment           property_value \n",
       "                       0                        0                        0 \n",
       "          occupancy_type               Secured_by              total_units \n",
       "                       0                        0                        0 \n",
       "                  income              credit_type             Credit_Score \n",
       "                       0                        0                        0 \n",
       "co.applicant_credit_type                      age                      LTV \n",
       "                       0                        0                        0 \n",
       "                  Region            Security_Type                   Status \n",
       "                       0                        0                        0 \n",
       "                   dtir1 \n",
       "                       0 "
      ]
     },
     "metadata": {},
     "output_type": "display_data"
    }
   ],
   "source": [
    "sapply(loanDefault, function(x) sum(is.na(x)))"
   ]
  },
  {
   "cell_type": "markdown",
   "metadata": {},
   "source": [
    "## Exploratory Data Analysis"
   ]
  },
  {
   "cell_type": "code",
   "execution_count": 17,
   "metadata": {},
   "outputs": [
    {
     "data": {
      "text/html": [
       "<table class=\"dataframe\">\n",
       "<caption>A matrix: 9 × 9 of type dbl</caption>\n",
       "<thead>\n",
       "\t<tr><th></th><th scope=col>loan_amount</th><th scope=col>rate_of_interest</th><th scope=col>Upfront_charges</th><th scope=col>property_value</th><th scope=col>income</th><th scope=col>Credit_Score</th><th scope=col>LTV</th><th scope=col>Status</th><th scope=col>dtir1</th></tr>\n",
       "</thead>\n",
       "<tbody>\n",
       "\t<tr><th scope=row>loan_amount</th><td> 1.000000000</td><td>-0.122830204</td><td> 0.057450568</td><td> 0.686241717</td><td> 0.4407151920</td><td> 0.0044382864</td><td> 0.036361033</td><td>-0.036825276</td><td> 0.014934842</td></tr>\n",
       "\t<tr><th scope=row>rate_of_interest</th><td>-0.122830204</td><td> 1.000000000</td><td>-0.071065720</td><td>-0.102772325</td><td>-0.0143405372</td><td>-0.0013411342</td><td>-0.002258410</td><td>-0.046737565</td><td> 0.029836448</td></tr>\n",
       "\t<tr><th scope=row>Upfront_charges</th><td> 0.057450568</td><td>-0.071065720</td><td> 1.000000000</td><td> 0.050689431</td><td> 0.0271036388</td><td>-0.0016908072</td><td>-0.032498877</td><td>-0.095093512</td><td>-0.013586695</td></tr>\n",
       "\t<tr><th scope=row>property_value</th><td> 0.686241717</td><td>-0.102772325</td><td> 0.050689431</td><td> 1.000000000</td><td> 0.3894354885</td><td> 0.0021646249</td><td>-0.215870716</td><td>-0.080904966</td><td>-0.059466158</td></tr>\n",
       "\t<tr><th scope=row>income</th><td> 0.440715192</td><td>-0.014340537</td><td> 0.027103639</td><td> 0.389435488</td><td> 1.0000000000</td><td> 0.0009022136</td><td>-0.034316655</td><td>-0.060618154</td><td>-0.254863877</td></tr>\n",
       "\t<tr><th scope=row>Credit_Score</th><td> 0.004438286</td><td>-0.001341134</td><td>-0.001690807</td><td> 0.002164625</td><td> 0.0009022136</td><td> 1.0000000000</td><td>-0.005207637</td><td> 0.004003694</td><td>-0.000294348</td></tr>\n",
       "\t<tr><th scope=row>LTV</th><td> 0.036361033</td><td>-0.002258410</td><td>-0.032498877</td><td>-0.215870716</td><td>-0.0343166553</td><td>-0.0052076366</td><td> 1.000000000</td><td> 0.042655839</td><td> 0.075687805</td></tr>\n",
       "\t<tr><th scope=row>Status</th><td>-0.036825276</td><td>-0.046737565</td><td>-0.095093512</td><td>-0.080904966</td><td>-0.0606181536</td><td> 0.0040036936</td><td> 0.042655839</td><td> 1.000000000</td><td> 0.082432407</td></tr>\n",
       "\t<tr><th scope=row>dtir1</th><td> 0.014934842</td><td> 0.029836448</td><td>-0.013586695</td><td>-0.059466158</td><td>-0.2548638766</td><td>-0.0002943480</td><td> 0.075687805</td><td> 0.082432407</td><td> 1.000000000</td></tr>\n",
       "</tbody>\n",
       "</table>\n"
      ],
      "text/latex": [
       "A matrix: 9 × 9 of type dbl\n",
       "\\begin{tabular}{r|lllllllll}\n",
       "  & loan\\_amount & rate\\_of\\_interest & Upfront\\_charges & property\\_value & income & Credit\\_Score & LTV & Status & dtir1\\\\\n",
       "\\hline\n",
       "\tloan\\_amount &  1.000000000 & -0.122830204 &  0.057450568 &  0.686241717 &  0.4407151920 &  0.0044382864 &  0.036361033 & -0.036825276 &  0.014934842\\\\\n",
       "\trate\\_of\\_interest & -0.122830204 &  1.000000000 & -0.071065720 & -0.102772325 & -0.0143405372 & -0.0013411342 & -0.002258410 & -0.046737565 &  0.029836448\\\\\n",
       "\tUpfront\\_charges &  0.057450568 & -0.071065720 &  1.000000000 &  0.050689431 &  0.0271036388 & -0.0016908072 & -0.032498877 & -0.095093512 & -0.013586695\\\\\n",
       "\tproperty\\_value &  0.686241717 & -0.102772325 &  0.050689431 &  1.000000000 &  0.3894354885 &  0.0021646249 & -0.215870716 & -0.080904966 & -0.059466158\\\\\n",
       "\tincome &  0.440715192 & -0.014340537 &  0.027103639 &  0.389435488 &  1.0000000000 &  0.0009022136 & -0.034316655 & -0.060618154 & -0.254863877\\\\\n",
       "\tCredit\\_Score &  0.004438286 & -0.001341134 & -0.001690807 &  0.002164625 &  0.0009022136 &  1.0000000000 & -0.005207637 &  0.004003694 & -0.000294348\\\\\n",
       "\tLTV &  0.036361033 & -0.002258410 & -0.032498877 & -0.215870716 & -0.0343166553 & -0.0052076366 &  1.000000000 &  0.042655839 &  0.075687805\\\\\n",
       "\tStatus & -0.036825276 & -0.046737565 & -0.095093512 & -0.080904966 & -0.0606181536 &  0.0040036936 &  0.042655839 &  1.000000000 &  0.082432407\\\\\n",
       "\tdtir1 &  0.014934842 &  0.029836448 & -0.013586695 & -0.059466158 & -0.2548638766 & -0.0002943480 &  0.075687805 &  0.082432407 &  1.000000000\\\\\n",
       "\\end{tabular}\n"
      ],
      "text/markdown": [
       "\n",
       "A matrix: 9 × 9 of type dbl\n",
       "\n",
       "| <!--/--> | loan_amount | rate_of_interest | Upfront_charges | property_value | income | Credit_Score | LTV | Status | dtir1 |\n",
       "|---|---|---|---|---|---|---|---|---|---|\n",
       "| loan_amount |  1.000000000 | -0.122830204 |  0.057450568 |  0.686241717 |  0.4407151920 |  0.0044382864 |  0.036361033 | -0.036825276 |  0.014934842 |\n",
       "| rate_of_interest | -0.122830204 |  1.000000000 | -0.071065720 | -0.102772325 | -0.0143405372 | -0.0013411342 | -0.002258410 | -0.046737565 |  0.029836448 |\n",
       "| Upfront_charges |  0.057450568 | -0.071065720 |  1.000000000 |  0.050689431 |  0.0271036388 | -0.0016908072 | -0.032498877 | -0.095093512 | -0.013586695 |\n",
       "| property_value |  0.686241717 | -0.102772325 |  0.050689431 |  1.000000000 |  0.3894354885 |  0.0021646249 | -0.215870716 | -0.080904966 | -0.059466158 |\n",
       "| income |  0.440715192 | -0.014340537 |  0.027103639 |  0.389435488 |  1.0000000000 |  0.0009022136 | -0.034316655 | -0.060618154 | -0.254863877 |\n",
       "| Credit_Score |  0.004438286 | -0.001341134 | -0.001690807 |  0.002164625 |  0.0009022136 |  1.0000000000 | -0.005207637 |  0.004003694 | -0.000294348 |\n",
       "| LTV |  0.036361033 | -0.002258410 | -0.032498877 | -0.215870716 | -0.0343166553 | -0.0052076366 |  1.000000000 |  0.042655839 |  0.075687805 |\n",
       "| Status | -0.036825276 | -0.046737565 | -0.095093512 | -0.080904966 | -0.0606181536 |  0.0040036936 |  0.042655839 |  1.000000000 |  0.082432407 |\n",
       "| dtir1 |  0.014934842 |  0.029836448 | -0.013586695 | -0.059466158 | -0.2548638766 | -0.0002943480 |  0.075687805 |  0.082432407 |  1.000000000 |\n",
       "\n"
      ],
      "text/plain": [
       "                 loan_amount  rate_of_interest Upfront_charges property_value\n",
       "loan_amount       1.000000000 -0.122830204      0.057450568     0.686241717  \n",
       "rate_of_interest -0.122830204  1.000000000     -0.071065720    -0.102772325  \n",
       "Upfront_charges   0.057450568 -0.071065720      1.000000000     0.050689431  \n",
       "property_value    0.686241717 -0.102772325      0.050689431     1.000000000  \n",
       "income            0.440715192 -0.014340537      0.027103639     0.389435488  \n",
       "Credit_Score      0.004438286 -0.001341134     -0.001690807     0.002164625  \n",
       "LTV               0.036361033 -0.002258410     -0.032498877    -0.215870716  \n",
       "Status           -0.036825276 -0.046737565     -0.095093512    -0.080904966  \n",
       "dtir1             0.014934842  0.029836448     -0.013586695    -0.059466158  \n",
       "                 income        Credit_Score  LTV          Status      \n",
       "loan_amount       0.4407151920  0.0044382864  0.036361033 -0.036825276\n",
       "rate_of_interest -0.0143405372 -0.0013411342 -0.002258410 -0.046737565\n",
       "Upfront_charges   0.0271036388 -0.0016908072 -0.032498877 -0.095093512\n",
       "property_value    0.3894354885  0.0021646249 -0.215870716 -0.080904966\n",
       "income            1.0000000000  0.0009022136 -0.034316655 -0.060618154\n",
       "Credit_Score      0.0009022136  1.0000000000 -0.005207637  0.004003694\n",
       "LTV              -0.0343166553 -0.0052076366  1.000000000  0.042655839\n",
       "Status           -0.0606181536  0.0040036936  0.042655839  1.000000000\n",
       "dtir1            -0.2548638766 -0.0002943480  0.075687805  0.082432407\n",
       "                 dtir1       \n",
       "loan_amount       0.014934842\n",
       "rate_of_interest  0.029836448\n",
       "Upfront_charges  -0.013586695\n",
       "property_value   -0.059466158\n",
       "income           -0.254863877\n",
       "Credit_Score     -0.000294348\n",
       "LTV               0.075687805\n",
       "Status            0.082432407\n",
       "dtir1             1.000000000"
      ]
     },
     "metadata": {},
     "output_type": "display_data"
    }
   ],
   "source": [
    "cor(select_if(loanDefault,is.numeric))"
   ]
  },
  {
   "cell_type": "code",
   "execution_count": 18,
   "metadata": {},
   "outputs": [
    {
     "name": "stderr",
     "output_type": "stream",
     "text": [
      "Updating HTML index of packages in '.Library'\n",
      "\n",
      "Making 'packages.html' ...\n",
      " done\n",
      "\n",
      "corrplot 0.92 loaded\n",
      "\n"
     ]
    },
    {
     "data": {
      "image/png": "[encoded data removed]",
      "text/plain": [
       "Plot with title “”"
      ]
     },
     "metadata": {
      "image/png": {
       "height": 420,
       "width": 420
      }
     },
     "output_type": "display_data"
    }
   ],
   "source": [
    "install.packages('corrplot')\n",
    "library(corrplot)\n",
    "cormat=cor(select_if(loanDefault,is.numeric),method=\"s\")\n",
    "corrplot(cormat)"
   ]
  },
  {
   "cell_type": "markdown",
   "metadata": {},
   "source": [
    "#### We can see that loan amount and property value are highly positively correlated, which is expected as the applicant will apply for a loan corresponding to the property they want to purchase. \n",
    "#### The positive correlation between loan amount and income suggests that higher the income, higher the likeliness that amount for the loan applied will be high. The positive correlation between income and property value can be explained similarly.\n",
    "#### LTV is negatively correlated to property value as it is inversely proportional to property value. Formula for LTV = loan amount/ property value. Similarly, debt-to-income ratio is inversely proportional to income."
   ]
  },
  {
   "cell_type": "code",
   "execution_count": 19,
   "metadata": {},
   "outputs": [
    {
     "name": "stderr",
     "output_type": "stream",
     "text": [
      "\n",
      "Attaching package: ‘pastecs’\n",
      "\n",
      "\n",
      "The following objects are masked from ‘package:dplyr’:\n",
      "\n",
      "    first, last\n",
      "\n",
      "\n",
      "The following object is masked from ‘package:tidyr’:\n",
      "\n",
      "    extract\n",
      "\n",
      "\n"
     ]
    },
    {
     "data": {
      "text/html": [
       "<table class=\"dataframe\">\n",
       "<caption>A data.frame: 14 × 9</caption>\n",
       "<thead>\n",
       "\t<tr><th></th><th scope=col>loan_amount</th><th scope=col>rate_of_interest</th><th scope=col>Upfront_charges</th><th scope=col>property_value</th><th scope=col>income</th><th scope=col>Credit_Score</th><th scope=col>LTV</th><th scope=col>Status</th><th scope=col>dtir1</th></tr>\n",
       "\t<tr><th></th><th scope=col>&lt;dbl&gt;</th><th scope=col>&lt;dbl&gt;</th><th scope=col>&lt;dbl&gt;</th><th scope=col>&lt;dbl&gt;</th><th scope=col>&lt;dbl&gt;</th><th scope=col>&lt;dbl&gt;</th><th scope=col>&lt;dbl&gt;</th><th scope=col>&lt;dbl&gt;</th><th scope=col>&lt;dbl&gt;</th></tr>\n",
       "</thead>\n",
       "<tbody>\n",
       "\t<tr><th scope=row>nbr.val</th><td>     148670.0000000</td><td>148670.000000000</td><td>   148670.0000000</td><td>      148670.0000000</td><td>    148670.0000000</td><td>   148670.0000000</td><td>  148670.00000000</td><td>148670.000000000</td><td> 148670.00000000</td></tr>\n",
       "\t<tr><th scope=row>nbr.null</th><td>          0.0000000</td><td>     1.000000000</td><td>    20770.0000000</td><td>           0.0000000</td><td>      1260.0000000</td><td>        0.0000000</td><td>       0.00000000</td><td>112031.000000000</td><td>      0.00000000</td></tr>\n",
       "\t<tr><th scope=row>nbr.na</th><td>          0.0000000</td><td>     0.000000000</td><td>        0.0000000</td><td>           0.0000000</td><td>         0.0000000</td><td>        0.0000000</td><td>       0.00000000</td><td>     0.000000000</td><td>      0.00000000</td></tr>\n",
       "\t<tr><th scope=row>min</th><td>      16500.0000000</td><td>     0.000000000</td><td>        0.0000000</td><td>        8000.0000000</td><td>         0.0000000</td><td>      500.0000000</td><td>       0.96747820</td><td>     0.000000000</td><td>      5.00000000</td></tr>\n",
       "\t<tr><th scope=row>max</th><td>    3576500.0000000</td><td>     8.000000000</td><td>    60000.0000000</td><td>    16508000.0000000</td><td>    578580.0000000</td><td>      900.0000000</td><td>    7831.25000000</td><td>     1.000000000</td><td>     61.00000000</td></tr>\n",
       "\t<tr><th scope=row>range</th><td>    3560000.0000000</td><td>     8.000000000</td><td>    60000.0000000</td><td>    16500000.0000000</td><td>    578580.0000000</td><td>      400.0000000</td><td>    7830.28252180</td><td>     1.000000000</td><td>     56.00000000</td></tr>\n",
       "\t<tr><th scope=row>sum</th><td>49227275000.0000000</td><td>599419.405000000</td><td>454543348.5900002</td><td> 72815590000.0000000</td><td>1023391920.0000000</td><td>104037646.0000000</td><td>10851291.15776773</td><td> 36639.000000000</td><td>5640318.00000000</td></tr>\n",
       "\t<tr><th scope=row>median</th><td>     296500.0000000</td><td>     3.990000000</td><td>     2596.4500000</td><td>      418000.0000000</td><td>      5760.0000000</td><td>      699.0000000</td><td>      75.13586957</td><td>     0.000000000</td><td>     39.00000000</td></tr>\n",
       "\t<tr><th scope=row>mean</th><td>     331117.7439968</td><td>     4.031878691</td><td>     3057.3979188</td><td>      489779.9825116</td><td>      6883.6478106</td><td>      699.7891034</td><td>      72.98911117</td><td>     0.246445147</td><td>     37.93850811</td></tr>\n",
       "\t<tr><th scope=row>SE.mean</th><td>        476.9710769</td><td>     0.001266535</td><td>        7.2565776</td><td>         887.0384650</td><td>        16.3393021</td><td>        0.3005255</td><td>       0.09827004</td><td>     0.001117654</td><td>      0.02506219</td></tr>\n",
       "\t<tr><th scope=row>CI.mean.0.95</th><td>        934.8537433</td><td>     0.002482384</td><td>       14.2227465</td><td>        1738.5775987</td><td>        32.0247043</td><td>        0.5890239</td><td>       0.19260730</td><td>     0.002190579</td><td>      0.04912139</td></tr>\n",
       "\t<tr><th scope=row>var</th><td>33822634351.4205132</td><td>     0.238483288</td><td>  7828652.7115135</td><td>116979092233.2695923</td><td>  39690844.9624290</td><td>    13427.2141438</td><td>    1435.70617336</td><td>     0.185711186</td><td>     93.38161850</td></tr>\n",
       "\t<tr><th scope=row>std.dev</th><td>     183909.3101271</td><td>     0.488347507</td><td>     2797.9729648</td><td>      342022.0639568</td><td>      6300.0670602</td><td>      115.8758566</td><td>      37.89071355</td><td>     0.430942207</td><td>      9.66341650</td></tr>\n",
       "\t<tr><th scope=row>coef.var</th><td>          0.5554197</td><td>     0.121121578</td><td>        0.9151484</td><td>           0.6983178</td><td>         0.9152222</td><td>        0.1655868</td><td>       0.51912830</td><td>     1.748633366</td><td>      0.25471261</td></tr>\n",
       "</tbody>\n",
       "</table>\n"
      ],
      "text/latex": [
       "A data.frame: 14 × 9\n",
       "\\begin{tabular}{r|lllllllll}\n",
       "  & loan\\_amount & rate\\_of\\_interest & Upfront\\_charges & property\\_value & income & Credit\\_Score & LTV & Status & dtir1\\\\\n",
       "  & <dbl> & <dbl> & <dbl> & <dbl> & <dbl> & <dbl> & <dbl> & <dbl> & <dbl>\\\\\n",
       "\\hline\n",
       "\tnbr.val &      148670.0000000 & 148670.000000000 &    148670.0000000 &       148670.0000000 &     148670.0000000 &    148670.0000000 &   148670.00000000 & 148670.000000000 &  148670.00000000\\\\\n",
       "\tnbr.null &           0.0000000 &      1.000000000 &     20770.0000000 &            0.0000000 &       1260.0000000 &         0.0000000 &        0.00000000 & 112031.000000000 &       0.00000000\\\\\n",
       "\tnbr.na &           0.0000000 &      0.000000000 &         0.0000000 &            0.0000000 &          0.0000000 &         0.0000000 &        0.00000000 &      0.000000000 &       0.00000000\\\\\n",
       "\tmin &       16500.0000000 &      0.000000000 &         0.0000000 &         8000.0000000 &          0.0000000 &       500.0000000 &        0.96747820 &      0.000000000 &       5.00000000\\\\\n",
       "\tmax &     3576500.0000000 &      8.000000000 &     60000.0000000 &     16508000.0000000 &     578580.0000000 &       900.0000000 &     7831.25000000 &      1.000000000 &      61.00000000\\\\\n",
       "\trange &     3560000.0000000 &      8.000000000 &     60000.0000000 &     16500000.0000000 &     578580.0000000 &       400.0000000 &     7830.28252180 &      1.000000000 &      56.00000000\\\\\n",
       "\tsum & 49227275000.0000000 & 599419.405000000 & 454543348.5900002 &  72815590000.0000000 & 1023391920.0000000 & 104037646.0000000 & 10851291.15776773 &  36639.000000000 & 5640318.00000000\\\\\n",
       "\tmedian &      296500.0000000 &      3.990000000 &      2596.4500000 &       418000.0000000 &       5760.0000000 &       699.0000000 &       75.13586957 &      0.000000000 &      39.00000000\\\\\n",
       "\tmean &      331117.7439968 &      4.031878691 &      3057.3979188 &       489779.9825116 &       6883.6478106 &       699.7891034 &       72.98911117 &      0.246445147 &      37.93850811\\\\\n",
       "\tSE.mean &         476.9710769 &      0.001266535 &         7.2565776 &          887.0384650 &         16.3393021 &         0.3005255 &        0.09827004 &      0.001117654 &       0.02506219\\\\\n",
       "\tCI.mean.0.95 &         934.8537433 &      0.002482384 &        14.2227465 &         1738.5775987 &         32.0247043 &         0.5890239 &        0.19260730 &      0.002190579 &       0.04912139\\\\\n",
       "\tvar & 33822634351.4205132 &      0.238483288 &   7828652.7115135 & 116979092233.2695923 &   39690844.9624290 &     13427.2141438 &     1435.70617336 &      0.185711186 &      93.38161850\\\\\n",
       "\tstd.dev &      183909.3101271 &      0.488347507 &      2797.9729648 &       342022.0639568 &       6300.0670602 &       115.8758566 &       37.89071355 &      0.430942207 &       9.66341650\\\\\n",
       "\tcoef.var &           0.5554197 &      0.121121578 &         0.9151484 &            0.6983178 &          0.9152222 &         0.1655868 &        0.51912830 &      1.748633366 &       0.25471261\\\\\n",
       "\\end{tabular}\n"
      ],
      "text/markdown": [
       "\n",
       "A data.frame: 14 × 9\n",
       "\n",
       "| <!--/--> | loan_amount &lt;dbl&gt; | rate_of_interest &lt;dbl&gt; | Upfront_charges &lt;dbl&gt; | property_value &lt;dbl&gt; | income &lt;dbl&gt; | Credit_Score &lt;dbl&gt; | LTV &lt;dbl&gt; | Status &lt;dbl&gt; | dtir1 &lt;dbl&gt; |\n",
       "|---|---|---|---|---|---|---|---|---|---|\n",
       "| nbr.val |      148670.0000000 | 148670.000000000 |    148670.0000000 |       148670.0000000 |     148670.0000000 |    148670.0000000 |   148670.00000000 | 148670.000000000 |  148670.00000000 |\n",
       "| nbr.null |           0.0000000 |      1.000000000 |     20770.0000000 |            0.0000000 |       1260.0000000 |         0.0000000 |        0.00000000 | 112031.000000000 |       0.00000000 |\n",
       "| nbr.na |           0.0000000 |      0.000000000 |         0.0000000 |            0.0000000 |          0.0000000 |         0.0000000 |        0.00000000 |      0.000000000 |       0.00000000 |\n",
       "| min |       16500.0000000 |      0.000000000 |         0.0000000 |         8000.0000000 |          0.0000000 |       500.0000000 |        0.96747820 |      0.000000000 |       5.00000000 |\n",
       "| max |     3576500.0000000 |      8.000000000 |     60000.0000000 |     16508000.0000000 |     578580.0000000 |       900.0000000 |     7831.25000000 |      1.000000000 |      61.00000000 |\n",
       "| range |     3560000.0000000 |      8.000000000 |     60000.0000000 |     16500000.0000000 |     578580.0000000 |       400.0000000 |     7830.28252180 |      1.000000000 |      56.00000000 |\n",
       "| sum | 49227275000.0000000 | 599419.405000000 | 454543348.5900002 |  72815590000.0000000 | 1023391920.0000000 | 104037646.0000000 | 10851291.15776773 |  36639.000000000 | 5640318.00000000 |\n",
       "| median |      296500.0000000 |      3.990000000 |      2596.4500000 |       418000.0000000 |       5760.0000000 |       699.0000000 |       75.13586957 |      0.000000000 |      39.00000000 |\n",
       "| mean |      331117.7439968 |      4.031878691 |      3057.3979188 |       489779.9825116 |       6883.6478106 |       699.7891034 |       72.98911117 |      0.246445147 |      37.93850811 |\n",
       "| SE.mean |         476.9710769 |      0.001266535 |         7.2565776 |          887.0384650 |         16.3393021 |         0.3005255 |        0.09827004 |      0.001117654 |       0.02506219 |\n",
       "| CI.mean.0.95 |         934.8537433 |      0.002482384 |        14.2227465 |         1738.5775987 |         32.0247043 |         0.5890239 |        0.19260730 |      0.002190579 |       0.04912139 |\n",
       "| var | 33822634351.4205132 |      0.238483288 |   7828652.7115135 | 116979092233.2695923 |   39690844.9624290 |     13427.2141438 |     1435.70617336 |      0.185711186 |      93.38161850 |\n",
       "| std.dev |      183909.3101271 |      0.488347507 |      2797.9729648 |       342022.0639568 |       6300.0670602 |       115.8758566 |       37.89071355 |      0.430942207 |       9.66341650 |\n",
       "| coef.var |           0.5554197 |      0.121121578 |         0.9151484 |            0.6983178 |          0.9152222 |         0.1655868 |        0.51912830 |      1.748633366 |       0.25471261 |\n",
       "\n"
      ],
      "text/plain": [
       "             loan_amount         rate_of_interest Upfront_charges  \n",
       "nbr.val           148670.0000000 148670.000000000    148670.0000000\n",
       "nbr.null               0.0000000      1.000000000     20770.0000000\n",
       "nbr.na                 0.0000000      0.000000000         0.0000000\n",
       "min                16500.0000000      0.000000000         0.0000000\n",
       "max              3576500.0000000      8.000000000     60000.0000000\n",
       "range            3560000.0000000      8.000000000     60000.0000000\n",
       "sum          49227275000.0000000 599419.405000000 454543348.5900002\n",
       "median            296500.0000000      3.990000000      2596.4500000\n",
       "mean              331117.7439968      4.031878691      3057.3979188\n",
       "SE.mean              476.9710769      0.001266535         7.2565776\n",
       "CI.mean.0.95         934.8537433      0.002482384        14.2227465\n",
       "var          33822634351.4205132      0.238483288   7828652.7115135\n",
       "std.dev           183909.3101271      0.488347507      2797.9729648\n",
       "coef.var               0.5554197      0.121121578         0.9151484\n",
       "             property_value       income             Credit_Score     \n",
       "nbr.val            148670.0000000     148670.0000000    148670.0000000\n",
       "nbr.null                0.0000000       1260.0000000         0.0000000\n",
       "nbr.na                  0.0000000          0.0000000         0.0000000\n",
       "min                  8000.0000000          0.0000000       500.0000000\n",
       "max              16508000.0000000     578580.0000000       900.0000000\n",
       "range            16500000.0000000     578580.0000000       400.0000000\n",
       "sum           72815590000.0000000 1023391920.0000000 104037646.0000000\n",
       "median             418000.0000000       5760.0000000       699.0000000\n",
       "mean               489779.9825116       6883.6478106       699.7891034\n",
       "SE.mean               887.0384650         16.3393021         0.3005255\n",
       "CI.mean.0.95         1738.5775987         32.0247043         0.5890239\n",
       "var          116979092233.2695923   39690844.9624290     13427.2141438\n",
       "std.dev            342022.0639568       6300.0670602       115.8758566\n",
       "coef.var                0.6983178          0.9152222         0.1655868\n",
       "             LTV               Status           dtir1           \n",
       "nbr.val        148670.00000000 148670.000000000  148670.00000000\n",
       "nbr.null            0.00000000 112031.000000000       0.00000000\n",
       "nbr.na              0.00000000      0.000000000       0.00000000\n",
       "min                 0.96747820      0.000000000       5.00000000\n",
       "max              7831.25000000      1.000000000      61.00000000\n",
       "range            7830.28252180      1.000000000      56.00000000\n",
       "sum          10851291.15776773  36639.000000000 5640318.00000000\n",
       "median             75.13586957      0.000000000      39.00000000\n",
       "mean               72.98911117      0.246445147      37.93850811\n",
       "SE.mean             0.09827004      0.001117654       0.02506219\n",
       "CI.mean.0.95        0.19260730      0.002190579       0.04912139\n",
       "var              1435.70617336      0.185711186      93.38161850\n",
       "std.dev            37.89071355      0.430942207       9.66341650\n",
       "coef.var            0.51912830      1.748633366       0.25471261"
      ]
     },
     "metadata": {},
     "output_type": "display_data"
    }
   ],
   "source": [
    "library(pastecs)\n",
    "options(scipen=999)\n",
    "ld1=select_if(loanDefault, is.numeric)\n",
    "stat.desc(ld1)"
   ]
  },
  {
   "cell_type": "code",
   "execution_count": 20,
   "metadata": {},
   "outputs": [
    {
     "data": {
      "image/png": "[encoded data removed]",
      "text/plain": [
       "Plot with title “Histogram of loanDefault$dtir1”"
      ]
     },
     "metadata": {
      "image/png": {
       "height": 420,
       "width": 420
      }
     },
     "output_type": "display_data"
    }
   ],
   "source": [
    "par(mfrow=c(2,2))\n",
    "hist(loanDefault$Credit_Score)\n",
    "hist(loanDefault$loan_amount)\n",
    "hist(loanDefault$rate_of_interest)\n",
    "hist(loanDefault$dtir1)"
   ]
  },
  {
   "cell_type": "markdown",
   "metadata": {},
   "source": [
    "#### Credit Score is uniformly distributed.Loan amount is positively skewed. \n",
    "\n",
    "#### Rate of interest and debt-to-income ratio seem to resemble normal distribution."
   ]
  },
  {
   "cell_type": "markdown",
   "metadata": {},
   "source": [
    "## Linear model"
   ]
  },
  {
   "cell_type": "code",
   "execution_count": 21,
   "metadata": {},
   "outputs": [
    {
     "data": {
      "text/plain": [
       "\n",
       "Call:\n",
       "lm(formula = Status ~ property_value + loan_amount + Upfront_charges + \n",
       "    income, data = loanDefault)\n",
       "\n",
       "Coefficients:\n",
       "    (Intercept)   property_value      loan_amount  Upfront_charges  \n",
       "   0.3281497010    -0.0000001208     0.0000001263    -0.0000141887  \n",
       "         income  \n",
       "  -0.0000030462  \n"
      ]
     },
     "metadata": {},
     "output_type": "display_data"
    },
    {
     "data": {
      "text/plain": [
       "\n",
       "Call:\n",
       "lm(formula = Status ~ property_value + loan_amount + Upfront_charges + \n",
       "    income, data = loanDefault)\n",
       "\n",
       "Residuals:\n",
       "    Min      1Q  Median      3Q     Max \n",
       "-0.3887 -0.2731 -0.2336  0.0264  2.6460 \n",
       "\n",
       "Coefficients:\n",
       "                       Estimate      Std. Error t value            Pr(>|t|)    \n",
       "(Intercept)      0.328149701012  0.002569612356  127.70 <0.0000000000000002 ***\n",
       "property_value  -0.000000120794  0.000000004494  -26.88 <0.0000000000000002 ***\n",
       "loan_amount      0.000000126261  0.000000008579   14.72 <0.0000000000000002 ***\n",
       "Upfront_charges -0.000014188664  0.000000396704  -35.77 <0.0000000000000002 ***\n",
       "income          -0.000003046222  0.000000197688  -15.41 <0.0000000000000002 ***\n",
       "---\n",
       "Signif. codes:  0 ‘***’ 0.001 ‘**’ 0.01 ‘*’ 0.05 ‘.’ 0.1 ‘ ’ 1\n",
       "\n",
       "Residual standard error: 0.4272 on 148665 degrees of freedom\n",
       "Multiple R-squared:  0.01723,\tAdjusted R-squared:  0.01721 \n",
       "F-statistic: 651.7 on 4 and 148665 DF,  p-value: < 0.00000000000000022\n"
      ]
     },
     "metadata": {},
     "output_type": "display_data"
    }
   ],
   "source": [
    "#fit <- lm(Status ~ loan_amount + property_value + rate_of_interest + Upfront_charges + Credit_Score + LTV, data=loanDefault)\n",
    "fit <- lm(Status ~ property_value+loan_amount+Upfront_charges+income, data=loanDefault)\n",
    "fit  # Show the model, e.g., coefficients computed.\n",
    "\n",
    "summary(fit)"
   ]
  },
  {
   "cell_type": "markdown",
   "metadata": {},
   "source": [
    "#### Upon trying various combinations of columns and observing the R-squared, Adjusted R-squared and F-statistic value, the above fit has the highest value for Adjusted R-Squared and high F-statistic of 651.7\n",
    "\n",
    "#### The farther the F-statistic is from 1, the better the fit. We can also see that the p-value is very small, which supports the efficiency of this model. But as the R-squared value is low, there is some variability that connot be accounted for by this model"
   ]
  },
  {
   "cell_type": "markdown",
   "metadata": {},
   "source": [
    "## Factor Analysis"
   ]
  },
  {
   "cell_type": "code",
   "execution_count": 22,
   "metadata": {},
   "outputs": [
    {
     "name": "stdout",
     "output_type": "stream",
     "text": [
      "\n",
      "Call:\n",
      "factanal(x = numericdf, factors = n.factors, scores = c(\"regression\"),     rotation = \"none\")\n",
      "\n",
      "Uniquenesses:\n",
      "     loan_amount rate_of_interest  Upfront_charges   property_value \n",
      "            0.00             0.98             1.00             0.12 \n",
      "          income     Credit_Score              LTV           Status \n",
      "            0.73             1.00             0.85             0.99 \n",
      "           dtir1 \n",
      "            0.00 \n",
      "\n",
      "Loadings:\n",
      "                 Factor1 Factor2 Factor3\n",
      "loan_amount       0.91    0.41          \n",
      "dtir1             0.43   -0.90          \n",
      "property_value    0.61    0.36    0.62  \n",
      "rate_of_interest                        \n",
      "Upfront_charges                         \n",
      "income                    0.42          \n",
      "Credit_Score                            \n",
      "LTV                              -0.37  \n",
      "Status                                  \n",
      "\n",
      "               Factor1 Factor2 Factor3\n",
      "SS loadings       1.48    1.31    0.54\n",
      "Proportion Var    0.16    0.15    0.06\n",
      "Cumulative Var    0.16    0.31    0.37\n",
      "\n",
      "Test of the hypothesis that 3 factors are sufficient.\n",
      "The chi square statistic is 3173.69 on 12 degrees of freedom.\n",
      "The p-value is 0 \n"
     ]
    }
   ],
   "source": [
    "n.factors <- 3   \n",
    "numericdf=select_if(loanDefault, is.numeric)\n",
    "FAfit <- factanal(numericdf, n.factors,  scores=c(\"regression\"), rotation=\"none\") # number of factors to extract\n",
    "print(FAfit, digits=2, cutoff=.3, sort=TRUE)"
   ]
  },
  {
   "cell_type": "code",
   "execution_count": 23,
   "metadata": {},
   "outputs": [
    {
     "data": {
      "text/html": [
       "<table class=\"dataframe\">\n",
       "<caption>A matrix: 6 × 3 of type dbl</caption>\n",
       "<thead>\n",
       "\t<tr><th scope=col>Factor1</th><th scope=col>Factor2</th><th scope=col>Factor3</th></tr>\n",
       "</thead>\n",
       "<tbody>\n",
       "\t<tr><td>-0.7535918</td><td>-1.16735495</td><td>-0.34619401</td></tr>\n",
       "\t<tr><td>-0.5583285</td><td>-0.38668042</td><td> 0.27981533</td></tr>\n",
       "\t<tr><td> 0.7114495</td><td>-0.58283457</td><td>-0.19713082</td></tr>\n",
       "\t<tr><td> 0.7906334</td><td>-0.08674335</td><td> 0.09018324</td></tr>\n",
       "\t<tr><td> 1.8205836</td><td> 0.74168236</td><td>-0.74622521</td></tr>\n",
       "\t<tr><td> 1.9292726</td><td> 0.68147557</td><td> 0.11969796</td></tr>\n",
       "</tbody>\n",
       "</table>\n"
      ],
      "text/latex": [
       "A matrix: 6 × 3 of type dbl\n",
       "\\begin{tabular}{lll}\n",
       " Factor1 & Factor2 & Factor3\\\\\n",
       "\\hline\n",
       "\t -0.7535918 & -1.16735495 & -0.34619401\\\\\n",
       "\t -0.5583285 & -0.38668042 &  0.27981533\\\\\n",
       "\t  0.7114495 & -0.58283457 & -0.19713082\\\\\n",
       "\t  0.7906334 & -0.08674335 &  0.09018324\\\\\n",
       "\t  1.8205836 &  0.74168236 & -0.74622521\\\\\n",
       "\t  1.9292726 &  0.68147557 &  0.11969796\\\\\n",
       "\\end{tabular}\n"
      ],
      "text/markdown": [
       "\n",
       "A matrix: 6 × 3 of type dbl\n",
       "\n",
       "| Factor1 | Factor2 | Factor3 |\n",
       "|---|---|---|\n",
       "| -0.7535918 | -1.16735495 | -0.34619401 |\n",
       "| -0.5583285 | -0.38668042 |  0.27981533 |\n",
       "|  0.7114495 | -0.58283457 | -0.19713082 |\n",
       "|  0.7906334 | -0.08674335 |  0.09018324 |\n",
       "|  1.8205836 |  0.74168236 | -0.74622521 |\n",
       "|  1.9292726 |  0.68147557 |  0.11969796 |\n",
       "\n"
      ],
      "text/plain": [
       "     Factor1    Factor2     Factor3    \n",
       "[1,] -0.7535918 -1.16735495 -0.34619401\n",
       "[2,] -0.5583285 -0.38668042  0.27981533\n",
       "[3,]  0.7114495 -0.58283457 -0.19713082\n",
       "[4,]  0.7906334 -0.08674335  0.09018324\n",
       "[5,]  1.8205836  0.74168236 -0.74622521\n",
       "[6,]  1.9292726  0.68147557  0.11969796"
      ]
     },
     "metadata": {},
     "output_type": "display_data"
    }
   ],
   "source": [
    "head(FAfit$scores)"
   ]
  },
  {
   "cell_type": "code",
   "execution_count": 24,
   "metadata": {},
   "outputs": [
    {
     "data": {
      "text/html": [
       "<table class=\"dataframe\">\n",
       "<caption>A matrix: 9 × 2 of type dbl</caption>\n",
       "<thead>\n",
       "\t<tr><th></th><th scope=col>Factor1</th><th scope=col>Factor2</th></tr>\n",
       "</thead>\n",
       "<tbody>\n",
       "\t<tr><th scope=row>loan_amount</th><td> 0.9070249885</td><td> 0.414700454</td></tr>\n",
       "\t<tr><th scope=row>rate_of_interest</th><td>-0.0990656768</td><td>-0.080158014</td></tr>\n",
       "\t<tr><th scope=row>Upfront_charges</th><td> 0.0466074654</td><td> 0.037342126</td></tr>\n",
       "\t<tr><th scope=row>property_value</th><td> 0.6062896666</td><td> 0.355844044</td></tr>\n",
       "\t<tr><th scope=row>income</th><td> 0.2943504510</td><td> 0.423127810</td></tr>\n",
       "\t<tr><th scope=row>Credit_Score</th><td> 0.0038687430</td><td> 0.002161698</td></tr>\n",
       "\t<tr><th scope=row>LTV</th><td> 0.0587115536</td><td>-0.057001314</td></tr>\n",
       "\t<tr><th scope=row>Status</th><td>-0.0002064151</td><td>-0.091825973</td></tr>\n",
       "\t<tr><th scope=row>dtir1</th><td> 0.4283763791</td><td>-0.900826748</td></tr>\n",
       "</tbody>\n",
       "</table>\n"
      ],
      "text/latex": [
       "A matrix: 9 × 2 of type dbl\n",
       "\\begin{tabular}{r|ll}\n",
       "  & Factor1 & Factor2\\\\\n",
       "\\hline\n",
       "\tloan\\_amount &  0.9070249885 &  0.414700454\\\\\n",
       "\trate\\_of\\_interest & -0.0990656768 & -0.080158014\\\\\n",
       "\tUpfront\\_charges &  0.0466074654 &  0.037342126\\\\\n",
       "\tproperty\\_value &  0.6062896666 &  0.355844044\\\\\n",
       "\tincome &  0.2943504510 &  0.423127810\\\\\n",
       "\tCredit\\_Score &  0.0038687430 &  0.002161698\\\\\n",
       "\tLTV &  0.0587115536 & -0.057001314\\\\\n",
       "\tStatus & -0.0002064151 & -0.091825973\\\\\n",
       "\tdtir1 &  0.4283763791 & -0.900826748\\\\\n",
       "\\end{tabular}\n"
      ],
      "text/markdown": [
       "\n",
       "A matrix: 9 × 2 of type dbl\n",
       "\n",
       "| <!--/--> | Factor1 | Factor2 |\n",
       "|---|---|---|\n",
       "| loan_amount |  0.9070249885 |  0.414700454 |\n",
       "| rate_of_interest | -0.0990656768 | -0.080158014 |\n",
       "| Upfront_charges |  0.0466074654 |  0.037342126 |\n",
       "| property_value |  0.6062896666 |  0.355844044 |\n",
       "| income |  0.2943504510 |  0.423127810 |\n",
       "| Credit_Score |  0.0038687430 |  0.002161698 |\n",
       "| LTV |  0.0587115536 | -0.057001314 |\n",
       "| Status | -0.0002064151 | -0.091825973 |\n",
       "| dtir1 |  0.4283763791 | -0.900826748 |\n",
       "\n"
      ],
      "text/plain": [
       "                 Factor1       Factor2     \n",
       "loan_amount       0.9070249885  0.414700454\n",
       "rate_of_interest -0.0990656768 -0.080158014\n",
       "Upfront_charges   0.0466074654  0.037342126\n",
       "property_value    0.6062896666  0.355844044\n",
       "income            0.2943504510  0.423127810\n",
       "Credit_Score      0.0038687430  0.002161698\n",
       "LTV               0.0587115536 -0.057001314\n",
       "Status           -0.0002064151 -0.091825973\n",
       "dtir1             0.4283763791 -0.900826748"
      ]
     },
     "metadata": {},
     "output_type": "display_data"
    }
   ],
   "source": [
    "FAfit$loadings[,1:2] "
   ]
  },
  {
   "cell_type": "code",
   "execution_count": 25,
   "metadata": {},
   "outputs": [
    {
     "data": {
      "image/png": "[encoded data removed]",
      "text/plain": [
       "plot without title"
      ]
     },
     "metadata": {
      "image/png": {
       "height": 420,
       "width": 420
      }
     },
     "output_type": "display_data"
    }
   ],
   "source": [
    "# plot factor 1 by factor 2 \n",
    "load <- FAfit$loadings[,1:2] \n",
    "plot(load, type = \"n\") # Set up plot. type = 'n' tells R not to plot the points. \n",
    "\n",
    "text(load, labels = names(loanDefault), cex = 0.7) # text() adds variable names.  cex() controls the font size"
   ]
  },
  {
   "cell_type": "markdown",
   "metadata": {},
   "source": [
    "#### The main influential factors that can be used to explain the variance of the data with respect to the applicant is inflow and outflow.\n",
    "#### Inflow here contains factors like income anddebt-to-income ratio which tells about the credit worthiness. Whereas, Outflow contains the loan amount(to pay) and property value(to purchase) , in other words, liability"
   ]
  },
  {
   "cell_type": "markdown",
   "metadata": {},
   "source": [
    "## Logistic Regression"
   ]
  },
  {
   "cell_type": "markdown",
   "metadata": {},
   "source": [
    "Logistic regression is a statistical analysis method to predict a binary outcome, such as yes or no, based on prior observations of a data set. A logistic regression model predicts a dependent data variable by analyzing the relationship between one or more existing independent variables.\n",
    "\n",
    "With the loan dataset the goal is to predict whether the loan applicant will default the loan or not. This is found in the column- Status. 1- default, 0- no default. As this is a binary outcome, we can use logistic regression for classifcation.\n",
    "\n"
   ]
  },
  {
   "cell_type": "code",
   "execution_count": 26,
   "metadata": {},
   "outputs": [],
   "source": [
    "#Logistic Regression\n",
    "library(caTools)\n",
    "set.seed(1000) # set.seed() will help us to reproduce the results.\n",
    "split = sample.split(loanDefault$Status, SplitRatio=0.7)"
   ]
  },
  {
   "cell_type": "code",
   "execution_count": 27,
   "metadata": {},
   "outputs": [],
   "source": [
    "# split up the data using subset(). split==TRUE will give 70% of data as we mentioned above using SplitRatio parameter. \n",
    "train_data  = subset(loanDefault, split==TRUE)\n",
    "\n",
    "# Test data will have the remaining 30% of data\n",
    "test_data  = subset(loanDefault, split==FALSE)"
   ]
  },
  {
   "cell_type": "code",
   "execution_count": 28,
   "metadata": {},
   "outputs": [
    {
     "name": "stderr",
     "output_type": "stream",
     "text": [
      "Warning message:\n",
      "“glm.fit: fitted probabilities numerically 0 or 1 occurred”\n"
     ]
    }
   ],
   "source": [
    "# Logistic Regression model\n",
    "loanDefault_log = glm(Status ~., \n",
    "                     data=train_data,family=binomial) \n",
    "                # family=binomial tell glm() to build  \n",
    "                # a logistic regression model."
   ]
  },
  {
   "cell_type": "code",
   "execution_count": 29,
   "metadata": {},
   "outputs": [
    {
     "data": {
      "text/plain": [
       "\n",
       "Call:\n",
       "glm(formula = Status ~ ., family = binomial, data = train_data)\n",
       "\n",
       "Deviance Residuals: \n",
       "    Min       1Q   Median       3Q      Max  \n",
       "-8.4904  -0.5777  -0.4488  -0.1924   6.9706  \n",
       "\n",
       "Coefficients: (2 not defined because of singularities)\n",
       "                                   Estimate      Std. Error z value\n",
       "(Intercept)                   7.59814160373  70.85508133450   0.107\n",
       "GenderJoint                  -0.12528331024   0.03957949983  -3.165\n",
       "GenderMale                    0.17009064045   0.02801552146   6.071\n",
       "GenderSex Not Available       0.35922149445   0.03535511819  10.160\n",
       "loan_typetype2                0.38083693826   0.02769453704  13.751\n",
       "loan_typetype3               -0.46421071835   0.03689635836 -12.581\n",
       "business_or_commercialnob/c              NA              NA      NA\n",
       "loan_amount                  -0.00000020553   0.00000010454  -1.966\n",
       "rate_of_interest             -0.56680420173   0.02137135832 -26.522\n",
       "Upfront_charges              -0.00010353752   0.00000407571 -25.404\n",
       "Neg_ammortizationneg_amm      0.75107148575   0.29658798989   2.532\n",
       "Neg_ammortizationnot_neg     -0.50646919569   0.29592526045  -1.711\n",
       "lump_sum_paymentnot_lpsm     -2.53974767209   0.05732577850 -44.304\n",
       "property_value                0.00000034884   0.00000005317   6.560\n",
       "occupancy_typepr             -0.82326899610   0.04419473071 -18.628\n",
       "occupancy_typesr             -0.41745035008   0.07482028090  -5.579\n",
       "Secured_byland               16.24007370055 173.33334734365   0.094\n",
       "total_units2U                 0.66616301244   0.08111571283   8.213\n",
       "total_units3U                 0.84262576686   0.15764190013   5.345\n",
       "total_units4U                 0.44645336148   0.18942401126   2.357\n",
       "income                       -0.00004117413   0.00000307520 -13.389\n",
       "credit_typeCRIF               0.01261508609   0.02264847384   0.557\n",
       "credit_typeEQUI              11.45028136269   1.02757984247  11.143\n",
       "credit_typeEXP               -0.04409266932   0.02320178594  -1.900\n",
       "Credit_Score                  0.00013721340   0.00008126174   1.689\n",
       "co.applicant_credit_typeEXP  -0.22728566166   0.02874789361  -7.906\n",
       "age<25                       -4.02585099339  70.85435109445  -0.057\n",
       "age>74                       -3.65593322289  70.85432042190  -0.052\n",
       "age25-34                     -4.38930816185  70.85431668330  -0.062\n",
       "age35-44                     -4.22458478439  70.85431762649  -0.060\n",
       "age45-54                     -3.98881634413  70.85431823925  -0.056\n",
       "age55-64                     -3.82207708009  70.85431634817  -0.054\n",
       "age65-74                     -3.78835123488  70.85431487610  -0.053\n",
       "LTV                           0.01107275499   0.00077213259  14.340\n",
       "RegionNorth                  -0.38743803005   0.03859832176 -10.038\n",
       "RegionNorth-East             -0.03425934734   0.10117913928  -0.339\n",
       "Regionsouth                  -0.30381449071   0.04258378496  -7.135\n",
       "Security_TypeIndriect                    NA              NA      NA\n",
       "dtir1                         0.01142144187   0.00102464261  11.147\n",
       "                                        Pr(>|z|)    \n",
       "(Intercept)                              0.91460    \n",
       "GenderJoint                              0.00155 ** \n",
       "GenderMale                   0.00000000126878767 ***\n",
       "GenderSex Not Available     < 0.0000000000000002 ***\n",
       "loan_typetype2              < 0.0000000000000002 ***\n",
       "loan_typetype3              < 0.0000000000000002 ***\n",
       "business_or_commercialnob/c                   NA    \n",
       "loan_amount                              0.04930 *  \n",
       "rate_of_interest            < 0.0000000000000002 ***\n",
       "Upfront_charges             < 0.0000000000000002 ***\n",
       "Neg_ammortizationneg_amm                 0.01133 *  \n",
       "Neg_ammortizationnot_neg                 0.08699 .  \n",
       "lump_sum_paymentnot_lpsm    < 0.0000000000000002 ***\n",
       "property_value               0.00000000005370893 ***\n",
       "occupancy_typepr            < 0.0000000000000002 ***\n",
       "occupancy_typesr             0.00000002413853517 ***\n",
       "Secured_byland                           0.92535    \n",
       "total_units2U               < 0.0000000000000002 ***\n",
       "total_units3U                0.00000009032270493 ***\n",
       "total_units4U                            0.01843 *  \n",
       "income                      < 0.0000000000000002 ***\n",
       "credit_typeCRIF                          0.57753    \n",
       "credit_typeEQUI             < 0.0000000000000002 ***\n",
       "credit_typeEXP                           0.05738 .  \n",
       "Credit_Score                             0.09131 .  \n",
       "co.applicant_credit_typeEXP  0.00000000000000265 ***\n",
       "age<25                                   0.95469    \n",
       "age>74                                   0.95885    \n",
       "age25-34                                 0.95060    \n",
       "age35-44                                 0.95246    \n",
       "age45-54                                 0.95511    \n",
       "age55-64                                 0.95698    \n",
       "age65-74                                 0.95736    \n",
       "LTV                         < 0.0000000000000002 ***\n",
       "RegionNorth                 < 0.0000000000000002 ***\n",
       "RegionNorth-East                         0.73491    \n",
       "Regionsouth                  0.00000000000097132 ***\n",
       "Security_TypeIndriect                         NA    \n",
       "dtir1                       < 0.0000000000000002 ***\n",
       "---\n",
       "Signif. codes:  0 ‘***’ 0.001 ‘**’ 0.01 ‘*’ 0.05 ‘.’ 0.1 ‘ ’ 1\n",
       "\n",
       "(Dispersion parameter for binomial family taken to be 1)\n",
       "\n",
       "    Null deviance: 116223  on 104068  degrees of freedom\n",
       "Residual deviance:  73906  on 104032  degrees of freedom\n",
       "AIC: 73980\n",
       "\n",
       "Number of Fisher Scoring iterations: 13\n"
      ]
     },
     "metadata": {},
     "output_type": "display_data"
    }
   ],
   "source": [
    "summary(loanDefault_log)"
   ]
  },
  {
   "cell_type": "code",
   "execution_count": 30,
   "metadata": {},
   "outputs": [
    {
     "name": "stderr",
     "output_type": "stream",
     "text": [
      "Warning message in predict.lm(object, newdata, se.fit, scale = 1, type = if (type == :\n",
      "“prediction from a rank-deficient fit may be misleading”\n"
     ]
    }
   ],
   "source": [
    "# Predictions on the test set\n",
    "predictTest = predict(loanDefault_log, type=\"response\", newdata=test_data) # Type='response' gives us probabilities."
   ]
  },
  {
   "cell_type": "code",
   "execution_count": 31,
   "metadata": {},
   "outputs": [
    {
     "data": {
      "text/plain": [
       "     Min.   1st Qu.    Median      Mean   3rd Qu.      Max. \n",
       "0.0000002 0.0926461 0.1400324 0.2473101 0.2331080 1.0000000 "
      ]
     },
     "metadata": {},
     "output_type": "display_data"
    }
   ],
   "source": [
    "summary(predictTest)"
   ]
  },
  {
   "cell_type": "code",
   "execution_count": 32,
   "metadata": {},
   "outputs": [
    {
     "data": {
      "text/plain": [
       "   \n",
       "    FALSE  TRUE\n",
       "  0 33254   355\n",
       "  1  5685  5307"
      ]
     },
     "metadata": {},
     "output_type": "display_data"
    }
   ],
   "source": [
    "table(test_data$Status, predictTest>0.5)"
   ]
  },
  {
   "cell_type": "code",
   "execution_count": 33,
   "metadata": {},
   "outputs": [
    {
     "data": {
      "text/html": [
       "0.86457702742091"
      ],
      "text/latex": [
       "0.86457702742091"
      ],
      "text/markdown": [
       "0.86457702742091"
      ],
      "text/plain": [
       "[1] 0.864577"
      ]
     },
     "metadata": {},
     "output_type": "display_data"
    }
   ],
   "source": [
    "(33254+5307)/(355+5685+33254+5307)  # calculating model accuracy"
   ]
  },
  {
   "cell_type": "code",
   "execution_count": 34,
   "metadata": {},
   "outputs": [
    {
     "data": {
      "text/html": [
       "0.753548126723616"
      ],
      "text/latex": [
       "0.753548126723616"
      ],
      "text/markdown": [
       "0.753548126723616"
      ],
      "text/plain": [
       "[1] 0.7535481"
      ]
     },
     "metadata": {},
     "output_type": "display_data"
    }
   ],
   "source": [
    "(33254+355)/(355+5685+33254+5307)  # calculating baseline accuracy"
   ]
  },
  {
   "cell_type": "markdown",
   "metadata": {},
   "source": [
    "#### The accuracy obtained with the logistic regression model is 86.5% which is much greater than the baseline model accuracy, which is 75%."
   ]
  },
  {
   "cell_type": "code",
   "execution_count": 35,
   "metadata": {},
   "outputs": [],
   "source": [
    "library(ROCR)"
   ]
  },
  {
   "cell_type": "code",
   "execution_count": 36,
   "metadata": {},
   "outputs": [
    {
     "data": {
      "text/html": [
       "0.836851224543304"
      ],
      "text/latex": [
       "0.836851224543304"
      ],
      "text/markdown": [
       "0.836851224543304"
      ],
      "text/plain": [
       "[1] 0.8368512"
      ]
     },
     "metadata": {},
     "output_type": "display_data"
    },
    {
     "data": {
      "image/png": "[encoded data removed]",
      "text/plain": [
       "plot without title"
      ]
     },
     "metadata": {
      "image/png": {
       "height": 420,
       "width": 420
      }
     },
     "output_type": "display_data"
    }
   ],
   "source": [
    "# Use predict function of ROCR package to make the predictions\n",
    "ROCR_predictions = prediction(predictTest, test_data$Status)\n",
    "\n",
    "perf <- performance(ROCR_predictions,\"tpr\",\"fpr\")\n",
    "\n",
    "plot(perf,colorize=TRUE)\n",
    "abline(0,1)\n",
    "as.numeric(performance(ROCR_predictions,\"auc\")@y.values)"
   ]
  },
  {
   "cell_type": "markdown",
   "metadata": {},
   "source": [
    "#### The closer the curve comes to the 45-degree diagonal of the ROC space, the less accurate the test. Observing the above ROC curve, we can see that curve is far from 45 degree line, which suggests high performance of the model."
   ]
  },
  {
   "cell_type": "code",
   "execution_count": null,
   "metadata": {},
   "outputs": [],
   "source": []
  },
  {
   "cell_type": "markdown",
   "metadata": {},
   "source": [
    "### Viusalizations"
   ]
  },
  {
   "cell_type": "code",
   "execution_count": 73,
   "metadata": {},
   "outputs": [
    {
     "data": {
      "image/png": "[encoded data removed]",
      "text/plain": [
       "plot without title"
      ]
     },
     "metadata": {
      "image/png": {
       "height": 420,
       "width": 420
      }
     },
     "output_type": "display_data"
    }
   ],
   "source": [
    "pairs(~loan_amount+property_value+rate_of_interest+dtir1+Credit_Score,data=loanDefault1,\n",
    "   main=\"ScatterPlot for numeric data\")"
   ]
  },
  {
   "cell_type": "code",
   "execution_count": null,
   "metadata": {},
   "outputs": [],
   "source": []
  },
  {
   "cell_type": "markdown",
   "metadata": {},
   "source": [
    "## Probability"
   ]
  },
  {
   "cell_type": "markdown",
   "metadata": {},
   "source": [
    "Does the Region to which an applicant belongs tell us about the chance of loan default?"
   ]
  },
  {
   "cell_type": "markdown",
   "metadata": {},
   "source": [
    "### Q1) What is the probability that the applicant belongs to the South Region, given that they have defaulted the loan?"
   ]
  },
  {
   "cell_type": "code",
   "execution_count": 41,
   "metadata": {},
   "outputs": [
    {
     "data": {
      "text/plain": [
       "            \n",
       "                 0     1\n",
       "  central     6302  2395\n",
       "  North      57901 16821\n",
       "  North-East   859   376\n",
       "  south      46969 17047"
      ]
     },
     "metadata": {},
     "output_type": "display_data"
    },
    {
     "data": {
      "text/html": [
       "<table class=\"dataframe\">\n",
       "<caption>A table: 5 × 3 of type dbl</caption>\n",
       "<thead>\n",
       "\t<tr><th></th><th scope=col>0</th><th scope=col>1</th><th scope=col>Sum</th></tr>\n",
       "</thead>\n",
       "<tbody>\n",
       "\t<tr><th scope=row>central</th><td>  6302</td><td> 2395</td><td>  8697</td></tr>\n",
       "\t<tr><th scope=row>North</th><td> 57901</td><td>16821</td><td> 74722</td></tr>\n",
       "\t<tr><th scope=row>North-East</th><td>   859</td><td>  376</td><td>  1235</td></tr>\n",
       "\t<tr><th scope=row>south</th><td> 46969</td><td>17047</td><td> 64016</td></tr>\n",
       "\t<tr><th scope=row>Sum</th><td>112031</td><td>36639</td><td>148670</td></tr>\n",
       "</tbody>\n",
       "</table>\n"
      ],
      "text/latex": [
       "A table: 5 × 3 of type dbl\n",
       "\\begin{tabular}{r|lll}\n",
       "  & 0 & 1 & Sum\\\\\n",
       "\\hline\n",
       "\tcentral &   6302 &  2395 &   8697\\\\\n",
       "\tNorth &  57901 & 16821 &  74722\\\\\n",
       "\tNorth-East &    859 &   376 &   1235\\\\\n",
       "\tsouth &  46969 & 17047 &  64016\\\\\n",
       "\tSum & 112031 & 36639 & 148670\\\\\n",
       "\\end{tabular}\n"
      ],
      "text/markdown": [
       "\n",
       "A table: 5 × 3 of type dbl\n",
       "\n",
       "| <!--/--> | 0 | 1 | Sum |\n",
       "|---|---|---|---|\n",
       "| central |   6302 |  2395 |   8697 |\n",
       "| North |  57901 | 16821 |  74722 |\n",
       "| North-East |    859 |   376 |   1235 |\n",
       "| south |  46969 | 17047 |  64016 |\n",
       "| Sum | 112031 | 36639 | 148670 |\n",
       "\n"
      ],
      "text/plain": [
       "            \n",
       "             0      1     Sum   \n",
       "  central      6302  2395   8697\n",
       "  North       57901 16821  74722\n",
       "  North-East    859   376   1235\n",
       "  south       46969 17047  64016\n",
       "  Sum        112031 36639 148670"
      ]
     },
     "metadata": {},
     "output_type": "display_data"
    }
   ],
   "source": [
    "table(loanDefault$Region, loanDefault$Status)\n",
    "addmargins(table(loanDefault$Region, loanDefault$Status))"
   ]
  },
  {
   "cell_type": "markdown",
   "metadata": {},
   "source": [
    "P(South|1) = P(South and 1) / P(1)\n",
    "\n",
    "P(North|1) = P(North and 1) / P(1)"
   ]
  },
  {
   "cell_type": "code",
   "execution_count": 42,
   "metadata": {},
   "outputs": [
    {
     "data": {
      "text/html": [
       "0.465269248614864"
      ],
      "text/latex": [
       "0.465269248614864"
      ],
      "text/markdown": [
       "0.465269248614864"
      ],
      "text/plain": [
       "[1] 0.4652692"
      ]
     },
     "metadata": {},
     "output_type": "display_data"
    }
   ],
   "source": [
    "#Q1\n",
    "17047/36639"
   ]
  },
  {
   "cell_type": "markdown",
   "metadata": {},
   "source": [
    "### Q2) What is the probability that the applicant belongs to the North Region, given that they have defaulted the loan?"
   ]
  },
  {
   "cell_type": "code",
   "execution_count": 43,
   "metadata": {},
   "outputs": [
    {
     "data": {
      "text/html": [
       "0.459100957995578"
      ],
      "text/latex": [
       "0.459100957995578"
      ],
      "text/markdown": [
       "0.459100957995578"
      ],
      "text/plain": [
       "[1] 0.459101"
      ]
     },
     "metadata": {},
     "output_type": "display_data"
    }
   ],
   "source": [
    "#Q2\n",
    "16821/36639"
   ]
  },
  {
   "cell_type": "markdown",
   "metadata": {},
   "source": [
    "#### From above results, we can say that we cannot tell if applicant comes from the North or South confidently, knowing that they have defaulted. 46.5% and 45.9% suggest almost equal chance."
   ]
  },
  {
   "cell_type": "markdown",
   "metadata": {},
   "source": [
    "### Q3) What is the propability that the applicant belongs to neither North or South Region given they have defaulted the loan?"
   ]
  },
  {
   "cell_type": "code",
   "execution_count": 44,
   "metadata": {},
   "outputs": [
    {
     "data": {
      "text/html": [
       "0.0756297933895576"
      ],
      "text/latex": [
       "0.0756297933895576"
      ],
      "text/markdown": [
       "0.0756297933895576"
      ],
      "text/plain": [
       "[1] 0.07562979"
      ]
     },
     "metadata": {},
     "output_type": "display_data"
    }
   ],
   "source": [
    "#Q3\n",
    "(2395+376)/36639"
   ]
  },
  {
   "cell_type": "code",
   "execution_count": 72,
   "metadata": {},
   "outputs": [
    {
     "data": {
      "image/png": "[encoded data removed]",
      "text/plain": [
       "Plot with title “Region vs Default Status”"
      ]
     },
     "metadata": {
      "image/png": {
       "height": 420,
       "width": 420
      }
     },
     "output_type": "display_data"
    }
   ],
   "source": [
    "counts <- table(h3$Region,h3$Status)\n",
    "#create mosaic plot\n",
    "mosaicplot(counts, col='grey',main=\"Region vs Default Status\",xlab=\"Region\",ylab=\"Status\")"
   ]
  },
  {
   "cell_type": "code",
   "execution_count": null,
   "metadata": {},
   "outputs": [],
   "source": []
  },
  {
   "cell_type": "markdown",
   "metadata": {},
   "source": [
    "#### Given that the applicant has defaulted, there is only 7.6% chance that they come from North-East or Central region. This could be due to overall population count of those regions"
   ]
  },
  {
   "cell_type": "markdown",
   "metadata": {},
   "source": [
    "## Hypothesis Testing"
   ]
  },
  {
   "cell_type": "markdown",
   "metadata": {},
   "source": [
    "### 1) The mean Credit Score is not equal for the genders- Male and Female. "
   ]
  },
  {
   "cell_type": "markdown",
   "metadata": {},
   "source": [
    " H0 : Male and Female have the same mean Credit Score\n",
    " \n",
    " H1 : Male and Female have different mean Credit Score"
   ]
  },
  {
   "cell_type": "markdown",
   "metadata": {},
   "source": [
    " As we have seen earlier, the Credit score does not follow a normal distribution, so we must use a non-parametric test to evaluate our hypothesis. wilcoxon rank test can be described as a non-paramtric version of a two-sample t test"
   ]
  },
  {
   "cell_type": "code",
   "execution_count": 45,
   "metadata": {},
   "outputs": [
    {
     "data": {
      "text/plain": [
       "\n",
       "\tWilcoxon rank sum test with continuity correction\n",
       "\n",
       "data:  Credit_Score[Gender == \"Male\"] and Credit_Score[Gender == \"Female\"]\n",
       "W = 273401872, p-value = 0.1169\n",
       "alternative hypothesis: true location shift is not equal to 0\n"
      ]
     },
     "metadata": {},
     "output_type": "display_data"
    }
   ],
   "source": [
    "with(loanDefault1, wilcox.test(x=Credit_Score[Gender==\"Male\"], \n",
    "                     y=Credit_Score[Gender==\"Female\"]))"
   ]
  },
  {
   "cell_type": "markdown",
   "metadata": {},
   "source": [
    "#### The p-value is greater than 0.5, hence we cannot reject the null hypothesis. This means that we cannot reject the statement that Male and Female have equal average credit scores."
   ]
  },
  {
   "cell_type": "markdown",
   "metadata": {},
   "source": [
    "### 2) Age 25-54 can be considered as the working class. Does this age group have interest rates higher than 3.5 % ?"
   ]
  },
  {
   "cell_type": "markdown",
   "metadata": {},
   "source": [
    " H0: Age group 25-54 have rate of interest equal to 3.5\n",
    "\n",
    " H1: Age group 25-54 have rate of interest greater than 3.5\n",
    "\n",
    "What is the probability that people between ages 25-54 have ROI greater then 3.5%. P(X>3.5)"
   ]
  },
  {
   "cell_type": "code",
   "execution_count": 46,
   "metadata": {},
   "outputs": [
    {
     "data": {
      "text/html": [
       "<table class=\"dataframe\">\n",
       "<caption>A data.frame: 6 × 22</caption>\n",
       "<thead>\n",
       "\t<tr><th></th><th scope=col>Gender</th><th scope=col>loan_type</th><th scope=col>business_or_commercial</th><th scope=col>loan_amount</th><th scope=col>rate_of_interest</th><th scope=col>Upfront_charges</th><th scope=col>Neg_ammortization</th><th scope=col>lump_sum_payment</th><th scope=col>property_value</th><th scope=col>occupancy_type</th><th scope=col>⋯</th><th scope=col>income</th><th scope=col>credit_type</th><th scope=col>Credit_Score</th><th scope=col>co.applicant_credit_type</th><th scope=col>age</th><th scope=col>LTV</th><th scope=col>Region</th><th scope=col>Security_Type</th><th scope=col>Status</th><th scope=col>dtir1</th></tr>\n",
       "\t<tr><th></th><th scope=col>&lt;fct&gt;</th><th scope=col>&lt;fct&gt;</th><th scope=col>&lt;fct&gt;</th><th scope=col>&lt;int&gt;</th><th scope=col>&lt;dbl&gt;</th><th scope=col>&lt;dbl&gt;</th><th scope=col>&lt;fct&gt;</th><th scope=col>&lt;fct&gt;</th><th scope=col>&lt;dbl&gt;</th><th scope=col>&lt;fct&gt;</th><th scope=col>⋯</th><th scope=col>&lt;dbl&gt;</th><th scope=col>&lt;fct&gt;</th><th scope=col>&lt;int&gt;</th><th scope=col>&lt;fct&gt;</th><th scope=col>&lt;fct&gt;</th><th scope=col>&lt;dbl&gt;</th><th scope=col>&lt;fct&gt;</th><th scope=col>&lt;fct&gt;</th><th scope=col>&lt;int&gt;</th><th scope=col>&lt;dbl&gt;</th></tr>\n",
       "</thead>\n",
       "<tbody>\n",
       "\t<tr><th scope=row>1</th><td>Sex Not Available</td><td>type1</td><td>nob/c</td><td>116500</td><td>3.990</td><td>2596.45</td><td>not_neg</td><td>not_lpsm</td><td> 118000</td><td>pr</td><td>⋯</td><td> 1740</td><td>EXP </td><td>758</td><td>CIB</td><td>25-34</td><td>98.72881</td><td>south</td><td>direct</td><td>1</td><td>45</td></tr>\n",
       "\t<tr><th scope=row>2</th><td>Male             </td><td>type1</td><td>nob/c</td><td>406500</td><td>4.560</td><td> 595.00</td><td>neg_amm</td><td>not_lpsm</td><td> 508000</td><td>pr</td><td>⋯</td><td> 9480</td><td>EXP </td><td>834</td><td>CIB</td><td>35-44</td><td>80.01969</td><td>south</td><td>direct</td><td>0</td><td>46</td></tr>\n",
       "\t<tr><th scope=row>3</th><td>Joint            </td><td>type1</td><td>nob/c</td><td>696500</td><td>4.000</td><td>   0.00</td><td>not_neg</td><td>not_lpsm</td><td> 758000</td><td>pr</td><td>⋯</td><td>10440</td><td>CRIF</td><td>602</td><td>EXP</td><td>25-34</td><td>91.88654</td><td>North</td><td>direct</td><td>0</td><td>39</td></tr>\n",
       "\t<tr><th scope=row>4</th><td>Joint            </td><td>type1</td><td>nob/c</td><td>706500</td><td>3.990</td><td> 370.00</td><td>not_neg</td><td>not_lpsm</td><td>1008000</td><td>pr</td><td>⋯</td><td>10080</td><td>EXP </td><td>864</td><td>EXP</td><td>35-44</td><td>70.08929</td><td>North</td><td>direct</td><td>0</td><td>40</td></tr>\n",
       "\t<tr><th scope=row>5</th><td>Sex Not Available</td><td>type1</td><td>nob/c</td><td>466500</td><td>4.375</td><td>1150.00</td><td>not_neg</td><td>not_lpsm</td><td> 708000</td><td>pr</td><td>⋯</td><td> 9540</td><td>EXP </td><td>501</td><td>EXP</td><td>35-44</td><td>65.88983</td><td>south</td><td>direct</td><td>0</td><td>36</td></tr>\n",
       "\t<tr><th scope=row>6</th><td>Female           </td><td>type1</td><td>nob/c</td><td>226500</td><td>4.500</td><td>3953.13</td><td>not_neg</td><td>not_lpsm</td><td> 298000</td><td>pr</td><td>⋯</td><td> 7860</td><td>CIB </td><td>773</td><td>CIB</td><td>35-44</td><td>76.00671</td><td>North</td><td>direct</td><td>0</td><td>39</td></tr>\n",
       "</tbody>\n",
       "</table>\n"
      ],
      "text/latex": [
       "A data.frame: 6 × 22\n",
       "\\begin{tabular}{r|lllllllllllllllllllll}\n",
       "  & Gender & loan\\_type & business\\_or\\_commercial & loan\\_amount & rate\\_of\\_interest & Upfront\\_charges & Neg\\_ammortization & lump\\_sum\\_payment & property\\_value & occupancy\\_type & ⋯ & income & credit\\_type & Credit\\_Score & co.applicant\\_credit\\_type & age & LTV & Region & Security\\_Type & Status & dtir1\\\\\n",
       "  & <fct> & <fct> & <fct> & <int> & <dbl> & <dbl> & <fct> & <fct> & <dbl> & <fct> & ⋯ & <dbl> & <fct> & <int> & <fct> & <fct> & <dbl> & <fct> & <fct> & <int> & <dbl>\\\\\n",
       "\\hline\n",
       "\t1 & Sex Not Available & type1 & nob/c & 116500 & 3.990 & 2596.45 & not\\_neg & not\\_lpsm &  118000 & pr & ⋯ &  1740 & EXP  & 758 & CIB & 25-34 & 98.72881 & south & direct & 1 & 45\\\\\n",
       "\t2 & Male              & type1 & nob/c & 406500 & 4.560 &  595.00 & neg\\_amm & not\\_lpsm &  508000 & pr & ⋯ &  9480 & EXP  & 834 & CIB & 35-44 & 80.01969 & south & direct & 0 & 46\\\\\n",
       "\t3 & Joint             & type1 & nob/c & 696500 & 4.000 &    0.00 & not\\_neg & not\\_lpsm &  758000 & pr & ⋯ & 10440 & CRIF & 602 & EXP & 25-34 & 91.88654 & North & direct & 0 & 39\\\\\n",
       "\t4 & Joint             & type1 & nob/c & 706500 & 3.990 &  370.00 & not\\_neg & not\\_lpsm & 1008000 & pr & ⋯ & 10080 & EXP  & 864 & EXP & 35-44 & 70.08929 & North & direct & 0 & 40\\\\\n",
       "\t5 & Sex Not Available & type1 & nob/c & 466500 & 4.375 & 1150.00 & not\\_neg & not\\_lpsm &  708000 & pr & ⋯ &  9540 & EXP  & 501 & EXP & 35-44 & 65.88983 & south & direct & 0 & 36\\\\\n",
       "\t6 & Female            & type1 & nob/c & 226500 & 4.500 & 3953.13 & not\\_neg & not\\_lpsm &  298000 & pr & ⋯ &  7860 & CIB  & 773 & CIB & 35-44 & 76.00671 & North & direct & 0 & 39\\\\\n",
       "\\end{tabular}\n"
      ],
      "text/markdown": [
       "\n",
       "A data.frame: 6 × 22\n",
       "\n",
       "| <!--/--> | Gender &lt;fct&gt; | loan_type &lt;fct&gt; | business_or_commercial &lt;fct&gt; | loan_amount &lt;int&gt; | rate_of_interest &lt;dbl&gt; | Upfront_charges &lt;dbl&gt; | Neg_ammortization &lt;fct&gt; | lump_sum_payment &lt;fct&gt; | property_value &lt;dbl&gt; | occupancy_type &lt;fct&gt; | ⋯ ⋯ | income &lt;dbl&gt; | credit_type &lt;fct&gt; | Credit_Score &lt;int&gt; | co.applicant_credit_type &lt;fct&gt; | age &lt;fct&gt; | LTV &lt;dbl&gt; | Region &lt;fct&gt; | Security_Type &lt;fct&gt; | Status &lt;int&gt; | dtir1 &lt;dbl&gt; |\n",
       "|---|---|---|---|---|---|---|---|---|---|---|---|---|---|---|---|---|---|---|---|---|---|\n",
       "| 1 | Sex Not Available | type1 | nob/c | 116500 | 3.990 | 2596.45 | not_neg | not_lpsm |  118000 | pr | ⋯ |  1740 | EXP  | 758 | CIB | 25-34 | 98.72881 | south | direct | 1 | 45 |\n",
       "| 2 | Male              | type1 | nob/c | 406500 | 4.560 |  595.00 | neg_amm | not_lpsm |  508000 | pr | ⋯ |  9480 | EXP  | 834 | CIB | 35-44 | 80.01969 | south | direct | 0 | 46 |\n",
       "| 3 | Joint             | type1 | nob/c | 696500 | 4.000 |    0.00 | not_neg | not_lpsm |  758000 | pr | ⋯ | 10440 | CRIF | 602 | EXP | 25-34 | 91.88654 | North | direct | 0 | 39 |\n",
       "| 4 | Joint             | type1 | nob/c | 706500 | 3.990 |  370.00 | not_neg | not_lpsm | 1008000 | pr | ⋯ | 10080 | EXP  | 864 | EXP | 35-44 | 70.08929 | North | direct | 0 | 40 |\n",
       "| 5 | Sex Not Available | type1 | nob/c | 466500 | 4.375 | 1150.00 | not_neg | not_lpsm |  708000 | pr | ⋯ |  9540 | EXP  | 501 | EXP | 35-44 | 65.88983 | south | direct | 0 | 36 |\n",
       "| 6 | Female            | type1 | nob/c | 226500 | 4.500 | 3953.13 | not_neg | not_lpsm |  298000 | pr | ⋯ |  7860 | CIB  | 773 | CIB | 35-44 | 76.00671 | North | direct | 0 | 39 |\n",
       "\n"
      ],
      "text/plain": [
       "  Gender            loan_type business_or_commercial loan_amount\n",
       "1 Sex Not Available type1     nob/c                  116500     \n",
       "2 Male              type1     nob/c                  406500     \n",
       "3 Joint             type1     nob/c                  696500     \n",
       "4 Joint             type1     nob/c                  706500     \n",
       "5 Sex Not Available type1     nob/c                  466500     \n",
       "6 Female            type1     nob/c                  226500     \n",
       "  rate_of_interest Upfront_charges Neg_ammortization lump_sum_payment\n",
       "1 3.990            2596.45         not_neg           not_lpsm        \n",
       "2 4.560             595.00         neg_amm           not_lpsm        \n",
       "3 4.000               0.00         not_neg           not_lpsm        \n",
       "4 3.990             370.00         not_neg           not_lpsm        \n",
       "5 4.375            1150.00         not_neg           not_lpsm        \n",
       "6 4.500            3953.13         not_neg           not_lpsm        \n",
       "  property_value occupancy_type ⋯ income credit_type Credit_Score\n",
       "1  118000        pr             ⋯  1740  EXP         758         \n",
       "2  508000        pr             ⋯  9480  EXP         834         \n",
       "3  758000        pr             ⋯ 10440  CRIF        602         \n",
       "4 1008000        pr             ⋯ 10080  EXP         864         \n",
       "5  708000        pr             ⋯  9540  EXP         501         \n",
       "6  298000        pr             ⋯  7860  CIB         773         \n",
       "  co.applicant_credit_type age   LTV      Region Security_Type Status dtir1\n",
       "1 CIB                      25-34 98.72881 south  direct        1      45   \n",
       "2 CIB                      35-44 80.01969 south  direct        0      46   \n",
       "3 EXP                      25-34 91.88654 North  direct        0      39   \n",
       "4 EXP                      35-44 70.08929 North  direct        0      40   \n",
       "5 EXP                      35-44 65.88983 south  direct        0      36   \n",
       "6 CIB                      35-44 76.00671 North  direct        0      39   "
      ]
     },
     "metadata": {},
     "output_type": "display_data"
    }
   ],
   "source": [
    "h2= loanDefault %>% filter(age == \"25-34\"|age == \"35-44\"|age==\"45=54\")\n",
    "head(h2)"
   ]
  },
  {
   "cell_type": "code",
   "execution_count": 47,
   "metadata": {},
   "outputs": [
    {
     "data": {
      "text/html": [
       "4.01181254811393"
      ],
      "text/latex": [
       "4.01181254811393"
      ],
      "text/markdown": [
       "4.01181254811393"
      ],
      "text/plain": [
       "[1] 4.011813"
      ]
     },
     "metadata": {},
     "output_type": "display_data"
    },
    {
     "data": {
      "text/html": [
       "1.10726564114717"
      ],
      "text/latex": [
       "1.10726564114717"
      ],
      "text/markdown": [
       "1.10726564114717"
      ],
      "text/plain": [
       "[1] 1.107266"
      ]
     },
     "metadata": {},
     "output_type": "display_data"
    }
   ],
   "source": [
    "mubar = mean(h2$rate_of_interest)\n",
    "mubar\n",
    "mu = 3.5\n",
    "s = sd(h2$rate_of_interest)\n",
    "z <- (mubar-mu)/(s/sqrt(1))\n",
    "z"
   ]
  },
  {
   "cell_type": "code",
   "execution_count": 48,
   "metadata": {},
   "outputs": [
    {
     "data": {
      "text/html": [
       "0.8659104525952"
      ],
      "text/latex": [
       "0.8659104525952"
      ],
      "text/markdown": [
       "0.8659104525952"
      ],
      "text/plain": [
       "[1] 0.8659105"
      ]
     },
     "metadata": {},
     "output_type": "display_data"
    }
   ],
   "source": [
    "pnorm(-z,lower.tail=FALSE)"
   ]
  },
  {
   "cell_type": "markdown",
   "metadata": {},
   "source": [
    "#### There is 86.6% chance that people of ages 25-54 pay interest over 3.5%."
   ]
  },
  {
   "cell_type": "markdown",
   "metadata": {},
   "source": [
    "### 3) Co-applicant credit type has no effect on the status of the loan (default:1/0)"
   ]
  },
  {
   "cell_type": "markdown",
   "metadata": {},
   "source": [
    " H0: There is no relationship between co-applicant credit type and loan status\n",
    " \n",
    " H1: There is relationship between co-applicant credit type and loan status\n",
    "\n",
    "As we are dealing with categorical variables we use the Chi-Square test"
   ]
  },
  {
   "cell_type": "code",
   "execution_count": 69,
   "metadata": {},
   "outputs": [
    {
     "name": "stdout",
     "output_type": "stream",
     "text": [
      " Factor w/ 2 levels \"0\",\"1\": 2 2 1 1 1 1 1 1 1 1 ...\n"
     ]
    }
   ],
   "source": [
    "h3=loanDefault\n",
    "h3$Status= as.factor(h3$Status)\n",
    "str(h3$Status)"
   ]
  },
  {
   "cell_type": "code",
   "execution_count": 50,
   "metadata": {},
   "outputs": [
    {
     "data": {
      "text/plain": [
       "     \n",
       "          0     1\n",
       "  CIB 60679 13713\n",
       "  EXP 51352 22926"
      ]
     },
     "metadata": {},
     "output_type": "display_data"
    }
   ],
   "source": [
    "table(loanDefault$co.applicant_credit_type,loanDefault$Status)"
   ]
  },
  {
   "cell_type": "code",
   "execution_count": 51,
   "metadata": {},
   "outputs": [
    {
     "data": {
      "text/plain": [
       "\n",
       "\tPearson's Chi-squared test with Yates' continuity correction\n",
       "\n",
       "data:  table(loanDefault$co.applicant_credit_type, loanDefault$Status)\n",
       "X-squared = 3092.4, df = 1, p-value < 0.00000000000000022\n"
      ]
     },
     "metadata": {},
     "output_type": "display_data"
    }
   ],
   "source": [
    "test <- chisq.test(table(loanDefault$co.applicant_credit_type, loanDefault$Status))\n",
    "test"
   ]
  },
  {
   "cell_type": "markdown",
   "metadata": {},
   "source": [
    "The p-value being very small, we can reject the null hypothesis. This means that, there is clear evidence of relationship between the co-applicant credit type and the loan default status. The two variables are associated"
   ]
  },
  {
   "cell_type": "markdown",
   "metadata": {},
   "source": [
    "## ANOVA"
   ]
  },
  {
   "cell_type": "markdown",
   "metadata": {},
   "source": [
    "### Two-way between anova, to check the group means of rate of interest with respect to age levels and loan types as well as their interaction"
   ]
  },
  {
   "cell_type": "markdown",
   "metadata": {},
   "source": [
    "𝐻0 : Group means of rate of interest with respect to age levels are equal.\n",
    "\n",
    "𝐻0 : Group means of rate of interest with respect to loan types are equal.\n",
    "\n",
    "𝐻0 : There is no interaction between the two factors (age and loan type)."
   ]
  },
  {
   "cell_type": "code",
   "execution_count": 57,
   "metadata": {},
   "outputs": [
    {
     "data": {
      "image/png": "[encoded data removed]",
      "text/plain": [
       "plot without title"
      ]
     },
     "metadata": {
      "image/png": {
       "height": 420,
       "width": 420
      }
     },
     "output_type": "display_data"
    },
    {
     "data": {
      "image/png": "[encoded data removed]",
      "text/plain": [
       "plot without title"
      ]
     },
     "metadata": {
      "image/png": {
       "height": 420,
       "width": 420
      }
     },
     "output_type": "display_data"
    }
   ],
   "source": [
    "b1=boxplot(rate_of_interest~loan_type,data=loanDefault1)\n",
    "b2=boxplot(rate_of_interest~age,data=loanDefault1)"
   ]
  },
  {
   "cell_type": "code",
   "execution_count": 58,
   "metadata": {},
   "outputs": [
    {
     "data": {
      "text/plain": [
       "                Df Sum Sq Mean Sq F value              Pr(>F)    \n",
       "age              7     66     9.4   41.79 <0.0000000000000002 ***\n",
       "loan_type        2   2069  1034.6 4616.00 <0.0000000000000002 ***\n",
       "Residuals   148660  33320     0.2                                \n",
       "---\n",
       "Signif. codes:  0 ‘***’ 0.001 ‘**’ 0.01 ‘*’ 0.05 ‘.’ 0.1 ‘ ’ 1"
      ]
     },
     "metadata": {},
     "output_type": "display_data"
    },
    {
     "data": {
      "text/plain": [
       "                  Df Sum Sq Mean Sq  F value               Pr(>F)    \n",
       "age                7     66     9.4   41.801 < 0.0000000000000002 ***\n",
       "loan_type          2   2069  1034.6 4616.943 < 0.0000000000000002 ***\n",
       "age:loan_type     14     10     0.7    3.159            0.0000544 ***\n",
       "Residuals     148646  33310     0.2                                  \n",
       "---\n",
       "Signif. codes:  0 ‘***’ 0.001 ‘**’ 0.01 ‘*’ 0.05 ‘.’ 0.1 ‘ ’ 1"
      ]
     },
     "metadata": {},
     "output_type": "display_data"
    },
    {
     "data": {
      "text/html": [
       "<table class=\"dataframe\">\n",
       "<caption>A anova: 4 × 5</caption>\n",
       "<thead>\n",
       "\t<tr><th></th><th scope=col>Df</th><th scope=col>Sum Sq</th><th scope=col>Mean Sq</th><th scope=col>F value</th><th scope=col>Pr(&gt;F)</th></tr>\n",
       "\t<tr><th></th><th scope=col>&lt;int&gt;</th><th scope=col>&lt;dbl&gt;</th><th scope=col>&lt;dbl&gt;</th><th scope=col>&lt;dbl&gt;</th><th scope=col>&lt;dbl&gt;</th></tr>\n",
       "</thead>\n",
       "<tbody>\n",
       "\t<tr><th scope=row>age</th><td>     7</td><td>   65.571261</td><td>   9.3673230</td><td>  41.801274</td><td>0.0000000000000000000000000000000000000000000000000000000000263105</td></tr>\n",
       "\t<tr><th scope=row>loan_type</th><td>     2</td><td> 2069.237999</td><td>1034.6189994</td><td>4616.942525</td><td>0.0000000000000000000000000000000000000000000000000000000000000000</td></tr>\n",
       "\t<tr><th scope=row>age:loan_type</th><td>    14</td><td>    9.911748</td><td>   0.7079820</td><td>   3.159339</td><td>0.0000544338394413951034956321295421588501994847320020198822021484</td></tr>\n",
       "\t<tr><th scope=row>Residuals</th><td>148646</td><td>33310.350940</td><td>   0.2240918</td><td>         NA</td><td>                                                                NA</td></tr>\n",
       "</tbody>\n",
       "</table>\n"
      ],
      "text/latex": [
       "A anova: 4 × 5\n",
       "\\begin{tabular}{r|lllll}\n",
       "  & Df & Sum Sq & Mean Sq & F value & Pr(>F)\\\\\n",
       "  & <int> & <dbl> & <dbl> & <dbl> & <dbl>\\\\\n",
       "\\hline\n",
       "\tage &      7 &    65.571261 &    9.3673230 &   41.801274 & 0.0000000000000000000000000000000000000000000000000000000000263105\\\\\n",
       "\tloan\\_type &      2 &  2069.237999 & 1034.6189994 & 4616.942525 & 0.0000000000000000000000000000000000000000000000000000000000000000\\\\\n",
       "\tage:loan\\_type &     14 &     9.911748 &    0.7079820 &    3.159339 & 0.0000544338394413951034956321295421588501994847320020198822021484\\\\\n",
       "\tResiduals & 148646 & 33310.350940 &    0.2240918 &          NA &                                                                 NA\\\\\n",
       "\\end{tabular}\n"
      ],
      "text/markdown": [
       "\n",
       "A anova: 4 × 5\n",
       "\n",
       "| <!--/--> | Df &lt;int&gt; | Sum Sq &lt;dbl&gt; | Mean Sq &lt;dbl&gt; | F value &lt;dbl&gt; | Pr(&gt;F) &lt;dbl&gt; |\n",
       "|---|---|---|---|---|---|\n",
       "| age |      7 |    65.571261 |    9.3673230 |   41.801274 | 0.0000000000000000000000000000000000000000000000000000000000263105 |\n",
       "| loan_type |      2 |  2069.237999 | 1034.6189994 | 4616.942525 | 0.0000000000000000000000000000000000000000000000000000000000000000 |\n",
       "| age:loan_type |     14 |     9.911748 |    0.7079820 |    3.159339 | 0.0000544338394413951034956321295421588501994847320020198822021484 |\n",
       "| Residuals | 148646 | 33310.350940 |    0.2240918 |          NA |                                                                 NA |\n",
       "\n"
      ],
      "text/plain": [
       "              Df     Sum Sq       Mean Sq      F value    \n",
       "age                7    65.571261    9.3673230   41.801274\n",
       "loan_type          2  2069.237999 1034.6189994 4616.942525\n",
       "age:loan_type     14     9.911748    0.7079820    3.159339\n",
       "Residuals     148646 33310.350940    0.2240918          NA\n",
       "              Pr(>F)                                                            \n",
       "age           0.0000000000000000000000000000000000000000000000000000000000263105\n",
       "loan_type     0.0000000000000000000000000000000000000000000000000000000000000000\n",
       "age:loan_type 0.0000544338394413951034956321295421588501994847320020198822021484\n",
       "Residuals                                                                     NA"
      ]
     },
     "metadata": {},
     "output_type": "display_data"
    }
   ],
   "source": [
    "# Two Way Factorial Design \n",
    "\n",
    "# Independent variable: age\n",
    "# Independent variable: loan type\n",
    "# Dependent variable: rate of interest\n",
    "\n",
    "# There are two different ways of performing 2-way anova. \n",
    "# Note: The formula for the model\n",
    "\n",
    "# without interaction term \n",
    "fit_a1 <- aov(rate_of_interest ~ age+loan_type, data=loanDefault)\n",
    "summary(fit_a1)\n",
    "\n",
    "# with interaction term \n",
    "fit_a2 <- aov(rate_of_interest ~ age*loan_type, data=loanDefault)\n",
    "summary(fit_a2)\n",
    "anova(fit_a2)"
   ]
  },
  {
   "cell_type": "markdown",
   "metadata": {},
   "source": [
    "According to the above results, the F-value is 41.8 and 4616 with a p-value of almost 0 for age and loan type respectively. The null hypotheses that \"Group means of rate of interest with respect to age levels are equal.\" and \"Group means of rate of interest with respect to loan types are equal.\" can be clearly rejected.\n",
    "\n",
    "The F-statistic for the interaction of age and loan type is 3.2 with a small p-value which helps us reject the null hypothesis that \"There is no interaction between the two factors (age and loan type)\". There is an interaction between age and loan type"
   ]
  },
  {
   "cell_type": "code",
   "execution_count": 60,
   "metadata": {},
   "outputs": [
    {
     "data": {
      "text/plain": [
       "Tables of means\n",
       "Grand mean\n",
       "         \n",
       "4.031879 \n",
       "\n",
       " age \n",
       "                 <25      >74     25-34     35-44     45-54     55-64     65-74\n",
       "      4.351    4.117    4.036     4.012     4.012     4.033     4.052     4.039\n",
       "rep 200.000 1337.000 7175.000 19142.000 32818.000 34720.000 32534.000 20744.000\n",
       "\n",
       " loan_type \n",
       "         type1     type2     type3\n",
       "         4.086     3.975     3.698\n",
       "rep 113173.000 20762.000 14735.000"
      ]
     },
     "metadata": {},
     "output_type": "display_data"
    }
   ],
   "source": [
    "# model.tables() computes summary tables for model fits, especially complex aov fits.\n",
    "model.tables(fit_a1,\"means\")"
   ]
  },
  {
   "cell_type": "code",
   "execution_count": 61,
   "metadata": {},
   "outputs": [
    {
     "data": {
      "text/plain": [
       "  Tukey multiple comparisons of means\n",
       "    95% family-wise confidence level\n",
       "\n",
       "Fit: aov(formula = rate_of_interest ~ age + loan_type, data = loanDefault)\n",
       "\n",
       "$age\n",
       "                     diff          lwr           upr     p adj\n",
       "<25-        -0.2336338818 -0.342422111 -0.1248456529 0.0000000\n",
       ">74-        -0.3142407666 -0.417108871 -0.2113726624 0.0000000\n",
       "25-34-      -0.3388920176 -0.440884394 -0.2368996414 0.0000000\n",
       "35-44-      -0.3385681333 -0.440340530 -0.2367957365 0.0000000\n",
       "45-54-      -0.3177580645 -0.419513575 -0.2160025544 0.0000000\n",
       "55-64-      -0.2981796582 -0.399954746 -0.1964045707 0.0000000\n",
       "65-74-      -0.3119286059 -0.413880251 -0.2099769605 0.0000000\n",
       ">74-<25     -0.0806068847 -0.123349867 -0.0378639020 0.0000003\n",
       "25-34-<25   -0.1052581357 -0.145848289 -0.0646679828 0.0000000\n",
       "35-44-<25   -0.1049342515 -0.144968443 -0.0649000602 0.0000000\n",
       "45-54-<25   -0.0841241827 -0.124115426 -0.0441329393 0.0000000\n",
       "55-64-<25   -0.0645457764 -0.104586807 -0.0245047456 0.0000283\n",
       "65-74-<25   -0.0782947240 -0.118782422 -0.0378070258 0.0000001\n",
       "25-34->74   -0.0246512510 -0.044513995 -0.0047885065 0.0041968\n",
       "35-44->74   -0.0243273668 -0.043027757 -0.0056269771 0.0020565\n",
       "45-54->74   -0.0035172980 -0.022125566  0.0150909704 0.9991774\n",
       "55-64->74    0.0160611083 -0.002653919  0.0347761357 0.1553332\n",
       "65-74->74    0.0023121607 -0.017340366  0.0219646876 0.9999656\n",
       "35-44-25-34  0.0003238842 -0.012726116  0.0133738849 1.0000000\n",
       "45-54-25-34  0.0211339530  0.008216306  0.0340515996 0.0000195\n",
       "55-64-25-34  0.0407123593  0.027641392  0.0537833268 0.0000000\n",
       "65-74-25-34  0.0269634117  0.012582182  0.0413446409 0.0000004\n",
       "45-54-35-44  0.0208100688  0.009762827  0.0318573106 0.0000003\n",
       "55-64-35-44  0.0403884751  0.029162338  0.0516146119 0.0000000\n",
       "65-74-35-44  0.0266395275  0.013911774  0.0393672811 0.0000000\n",
       "55-64-45-54  0.0195784063  0.008506405  0.0306504080 0.0000023\n",
       "65-74-45-54  0.0058294587 -0.006762554  0.0184214715 0.8562112\n",
       "65-74-55-64 -0.0137489477 -0.026498198 -0.0009996973 0.0240178\n",
       "\n",
       "$loan_type\n",
       "                  diff        lwr        upr p adj\n",
       "type2-type1 -0.1112439 -0.1196211 -0.1028667     0\n",
       "type3-type1 -0.3879432 -0.3976608 -0.3782255     0\n",
       "type3-type2 -0.2766992 -0.2886514 -0.2647471     0\n"
      ]
     },
     "metadata": {},
     "output_type": "display_data"
    }
   ],
   "source": [
    "Tukey1 = TukeyHSD(fit_a1)\n",
    "Tukey1"
   ]
  },
  {
   "cell_type": "code",
   "execution_count": 71,
   "metadata": {},
   "outputs": [
    {
     "data": {
      "image/png": "[encoded data removed]",
      "text/plain": [
       "Plot with title “95% family-wise confidence level\n",
       "”"
      ]
     },
     "metadata": {
      "image/png": {
       "height": 420,
       "width": 420
      }
     },
     "output_type": "display_data"
    },
    {
     "data": {
      "image/png": "[encoded data removed]",
      "text/plain": [
       "Plot with title “95% family-wise confidence level\n",
       "”"
      ]
     },
     "metadata": {
      "image/png": {
       "height": 420,
       "width": 420
      }
     },
     "output_type": "display_data"
    }
   ],
   "source": [
    "#  graphical representation of the multiple confidence intervals\n",
    "plot(Tukey1)"
   ]
  },
  {
   "cell_type": "markdown",
   "metadata": {},
   "source": [
    "For the age variable, we can see 3 distinct trends on the family-wise confidence intervals. "
   ]
  },
  {
   "cell_type": "markdown",
   "metadata": {},
   "source": [
    "\n",
    "\n",
    "Using Tukey, the p-value for the loan types is observed as zero. This implies that the means(rate_of_interest) are significantly different from each other for each of the types of loans. Same can be concluded from the family-wise confidence level."
   ]
  },
  {
   "cell_type": "markdown",
   "metadata": {},
   "source": [
    "### Two-way between anova, to check the group means for property value with respect to ammortization and credit types as well as their interaction"
   ]
  },
  {
   "cell_type": "markdown",
   "metadata": {},
   "source": [
    "𝐻0 : Group means of property value with respect to ammortization levels are equal.\n",
    "\n",
    "𝐻0 : Group means of property value with respect to credit types are equal.\n",
    "\n",
    "𝐻0 : There is no interaction between the two factors (neg_ammortization and credit type)."
   ]
  },
  {
   "cell_type": "code",
   "execution_count": 72,
   "metadata": {},
   "outputs": [
    {
     "data": {
      "text/plain": [
       "                      Df            Sum Sq        Mean Sq F value\n",
       "Neg_ammortization      2    15717095160325  7858547580162   67.63\n",
       "credit_type            3   101575140783094 33858380261031  291.39\n",
       "Residuals         148664 17273872427284536   116194051198        \n",
       "                               Pr(>F)    \n",
       "Neg_ammortization <0.0000000000000002 ***\n",
       "credit_type       <0.0000000000000002 ***\n",
       "Residuals                                \n",
       "---\n",
       "Signif. codes:  0 ‘***’ 0.001 ‘**’ 0.01 ‘*’ 0.05 ‘.’ 0.1 ‘ ’ 1"
      ]
     },
     "metadata": {},
     "output_type": "display_data"
    },
    {
     "data": {
      "text/plain": [
       "                                  Df            Sum Sq        Mean Sq F value\n",
       "Neg_ammortization                  2    15717095160325  7858547580162  67.637\n",
       "credit_type                        3   101575140783094 33858380261031 291.415\n",
       "Neg_ammortization:credit_type      6     1854713071613   309118845269   2.661\n",
       "Residuals                     148658 17272017714212926   116186264542        \n",
       "                                           Pr(>F)    \n",
       "Neg_ammortization             <0.0000000000000002 ***\n",
       "credit_type                   <0.0000000000000002 ***\n",
       "Neg_ammortization:credit_type               0.014 *  \n",
       "Residuals                                            \n",
       "---\n",
       "Signif. codes:  0 ‘***’ 0.001 ‘**’ 0.01 ‘*’ 0.05 ‘.’ 0.1 ‘ ’ 1"
      ]
     },
     "metadata": {},
     "output_type": "display_data"
    },
    {
     "data": {
      "text/html": [
       "<table class=\"dataframe\">\n",
       "<caption>A anova: 4 × 5</caption>\n",
       "<thead>\n",
       "\t<tr><th></th><th scope=col>Df</th><th scope=col>Sum Sq</th><th scope=col>Mean Sq</th><th scope=col>F value</th><th scope=col>Pr(&gt;F)</th></tr>\n",
       "\t<tr><th></th><th scope=col>&lt;int&gt;</th><th scope=col>&lt;dbl&gt;</th><th scope=col>&lt;dbl&gt;</th><th scope=col>&lt;dbl&gt;</th><th scope=col>&lt;dbl&gt;</th></tr>\n",
       "</thead>\n",
       "<tbody>\n",
       "\t<tr><th scope=row>Neg_ammortization</th><td>     2</td><td>   15717095160325</td><td> 7858547580162</td><td> 67.637492</td><td>0.00000000000000000000000000000435278543426387065585448375722569765987479204191809055944579356055351522539968289055023475953021261375397443771362304687500000000000000000000000000000000000000000000</td></tr>\n",
       "\t<tr><th scope=row>credit_type</th><td>     3</td><td>  101575140783094</td><td>33858380261031</td><td>291.414656</td><td>0.00000000000000000000000000000000000000000000000000000000000000000000000000000000000000000000000000000000000000000000000000000000000000000000000000000000000000000000000000000000000000000001225608</td></tr>\n",
       "\t<tr><th scope=row>Neg_ammortization:credit_type</th><td>     6</td><td>    1854713071613</td><td>  309118845269</td><td>  2.660546</td><td>0.01395595471969625356312150188387022353708744049072265625000000000000000000000000000000000000000000000000000000000000000000000000000000000000000000000000000000000000000000000000000000000000000000</td></tr>\n",
       "\t<tr><th scope=row>Residuals</th><td>148658</td><td>17272017714212926</td><td>  116186264542</td><td>        NA</td><td>                                                                                                                                                                                                  NA</td></tr>\n",
       "</tbody>\n",
       "</table>\n"
      ],
      "text/latex": [
       "A anova: 4 × 5\n",
       "\\begin{tabular}{r|lllll}\n",
       "  & Df & Sum Sq & Mean Sq & F value & Pr(>F)\\\\\n",
       "  & <int> & <dbl> & <dbl> & <dbl> & <dbl>\\\\\n",
       "\\hline\n",
       "\tNeg\\_ammortization &      2 &    15717095160325 &  7858547580162 &  67.637492 & 0.00000000000000000000000000000435278543426387065585448375722569765987479204191809055944579356055351522539968289055023475953021261375397443771362304687500000000000000000000000000000000000000000000\\\\\n",
       "\tcredit\\_type &      3 &   101575140783094 & 33858380261031 & 291.414656 & 0.00000000000000000000000000000000000000000000000000000000000000000000000000000000000000000000000000000000000000000000000000000000000000000000000000000000000000000000000000000000000000000001225608\\\\\n",
       "\tNeg\\_ammortization:credit\\_type &      6 &     1854713071613 &   309118845269 &   2.660546 & 0.01395595471969625356312150188387022353708744049072265625000000000000000000000000000000000000000000000000000000000000000000000000000000000000000000000000000000000000000000000000000000000000000000\\\\\n",
       "\tResiduals & 148658 & 17272017714212926 &   116186264542 &         NA &                                                                                                                                                                                                   NA\\\\\n",
       "\\end{tabular}\n"
      ],
      "text/markdown": [
       "\n",
       "A anova: 4 × 5\n",
       "\n",
       "| <!--/--> | Df &lt;int&gt; | Sum Sq &lt;dbl&gt; | Mean Sq &lt;dbl&gt; | F value &lt;dbl&gt; | Pr(&gt;F) &lt;dbl&gt; |\n",
       "|---|---|---|---|---|---|\n",
       "| Neg_ammortization |      2 |    15717095160325 |  7858547580162 |  67.637492 | 0.00000000000000000000000000000435278543426387065585448375722569765987479204191809055944579356055351522539968289055023475953021261375397443771362304687500000000000000000000000000000000000000000000 |\n",
       "| credit_type |      3 |   101575140783094 | 33858380261031 | 291.414656 | 0.00000000000000000000000000000000000000000000000000000000000000000000000000000000000000000000000000000000000000000000000000000000000000000000000000000000000000000000000000000000000000000001225608 |\n",
       "| Neg_ammortization:credit_type |      6 |     1854713071613 |   309118845269 |   2.660546 | 0.01395595471969625356312150188387022353708744049072265625000000000000000000000000000000000000000000000000000000000000000000000000000000000000000000000000000000000000000000000000000000000000000000 |\n",
       "| Residuals | 148658 | 17272017714212926 |   116186264542 |         NA |                                                                                                                                                                                                   NA |\n",
       "\n"
      ],
      "text/plain": [
       "                              Df     Sum Sq            Mean Sq       \n",
       "Neg_ammortization                  2    15717095160325  7858547580162\n",
       "credit_type                        3   101575140783094 33858380261031\n",
       "Neg_ammortization:credit_type      6     1854713071613   309118845269\n",
       "Residuals                     148658 17272017714212926   116186264542\n",
       "                              F value   \n",
       "Neg_ammortization              67.637492\n",
       "credit_type                   291.414656\n",
       "Neg_ammortization:credit_type   2.660546\n",
       "Residuals                             NA\n",
       "                              Pr(>F)                                                                                                                                                                                              \n",
       "Neg_ammortization             0.00000000000000000000000000000435278543426387065585448375722569765987479204191809055944579356055351522539968289055023475953021261375397443771362304687500000000000000000000000000000000000000000000\n",
       "credit_type                   0.00000000000000000000000000000000000000000000000000000000000000000000000000000000000000000000000000000000000000000000000000000000000000000000000000000000000000000000000000000000000000000001225608\n",
       "Neg_ammortization:credit_type 0.01395595471969625356312150188387022353708744049072265625000000000000000000000000000000000000000000000000000000000000000000000000000000000000000000000000000000000000000000000000000000000000000000\n",
       "Residuals                                                                                                                                                                                                                       NA"
      ]
     },
     "metadata": {},
     "output_type": "display_data"
    }
   ],
   "source": [
    "# Two Way Factorial Design \n",
    "\n",
    "# Independent variable: Neg_ammortization\n",
    "# Independent variable: credit_type\n",
    "# Dependent variable: property value\n",
    "\n",
    "# There are two different ways of performing 2-way anova. \n",
    "# Note: The formula for the model\n",
    "\n",
    "# without interaction term \n",
    "fit_a3 <- aov(property_value ~ Neg_ammortization+credit_type, data=loanDefault)\n",
    "summary(fit_a3)\n",
    "\n",
    "# with interaction term \n",
    "fit_a4 <- aov(property_value ~ Neg_ammortization*credit_type, data=loanDefault)\n",
    "summary(fit_a4)\n",
    "anova(fit_a4)"
   ]
  },
  {
   "cell_type": "markdown",
   "metadata": {},
   "source": [
    "Acoording to the above results, the F-value is 67.64 and 291.4 with a p-value of almost 0 for neg_ammortization and credit_type respectively. Since the p-value is alsmost 0, we can reject the hypothesis that \"Group means of property value with respect to ammortization levels are equal.\" and \"Group means of property value with respect to credit types are equal.\"\n",
    "\n",
    "The p-value for the interaction of the two variables is less, though not as less compared to individual factors. Since the p-value is less than 0.05 and F-statistic is 2.66, we can reject the null hypothesis that \"There is no interaction between the two factors (neg_ammortization and credit type).\". We have evidence that there is significant interaction between neg_ammortization and credit types"
   ]
  },
  {
   "cell_type": "code",
   "execution_count": 73,
   "metadata": {},
   "outputs": [
    {
     "data": {
      "text/plain": [
       "  Tukey multiple comparisons of means\n",
       "    95% family-wise confidence level\n",
       "\n",
       "Fit: aov(formula = property_value ~ Neg_ammortization + credit_type, data = loanDefault)\n",
       "\n",
       "$Neg_ammortization\n",
       "                     diff        lwr       upr     p adj\n",
       "neg_amm-        -82126.68 -155044.08 -9209.276 0.0225915\n",
       "not_neg-        -48470.95 -121131.42 24189.529 0.2616058\n",
       "not_neg-neg_amm  33655.73   26802.22 40509.249 0.0000000\n",
       "\n",
       "$credit_type\n",
       "                diff       lwr        upr     p adj\n",
       "CRIF-CIB   -8711.806 -14490.58  -2933.028 0.0006219\n",
       "EQUI-CIB  -90308.348 -98435.77 -82180.927 0.0000000\n",
       "EXP-CIB   -24533.816 -30406.28 -18661.350 0.0000000\n",
       "EQUI-CRIF -81596.542 -89818.29 -73374.795 0.0000000\n",
       "EXP-CRIF  -15822.010 -21824.34  -9819.677 0.0000000\n",
       "EXP-EQUI   65774.532  57486.67  74062.396 0.0000000\n"
      ]
     },
     "metadata": {},
     "output_type": "display_data"
    }
   ],
   "source": [
    "Tukey3 = TukeyHSD(fit_a3)\n",
    "Tukey3"
   ]
  },
  {
   "cell_type": "code",
   "execution_count": 74,
   "metadata": {},
   "outputs": [
    {
     "data": {
      "text/plain": [
       "  Tukey multiple comparisons of means\n",
       "    95% family-wise confidence level\n",
       "\n",
       "Fit: aov(formula = property_value ~ Neg_ammortization * credit_type, data = loanDefault)\n",
       "\n",
       "$Neg_ammortization\n",
       "                     diff        lwr       upr     p adj\n",
       "neg_amm-        -82126.68 -155041.64 -9211.719 0.0225858\n",
       "not_neg-        -48470.95 -121128.99 24187.094 0.2615824\n",
       "not_neg-neg_amm  33655.73   26802.45 40509.019 0.0000000\n",
       "\n",
       "$credit_type\n",
       "                diff       lwr        upr     p adj\n",
       "CRIF-CIB   -8711.806 -14490.39  -2933.222 0.0006216\n",
       "EQUI-CIB  -90308.348 -98435.50 -82181.200 0.0000000\n",
       "EXP-CIB   -24533.816 -30406.09 -18661.547 0.0000000\n",
       "EQUI-CRIF -81596.542 -89818.01 -73375.071 0.0000000\n",
       "EXP-CRIF  -15822.010 -21824.14  -9819.878 0.0000000\n",
       "EXP-EQUI   65774.532  57486.95  74062.118 0.0000000\n",
       "\n",
       "$`Neg_ammortization:credit_type`\n",
       "                                  diff         lwr        upr     p adj\n",
       "neg_amm:CIB-:CIB          -105337.2169 -276002.369  65327.935 0.6818456\n",
       "not_neg:CIB-:CIB           -64038.8441 -233996.312 105918.624 0.9865454\n",
       ":CRIF-:CIB                 -42263.1877 -285412.727 200886.351 0.9999910\n",
       "neg_amm:CRIF-:CIB         -101252.7682 -272000.117  69494.581 0.7353067\n",
       "not_neg:CRIF-:CIB          -74066.0908 -244031.623  95899.442 0.9590695\n",
       ":EQUI-:CIB                -158604.6512 -587514.314 270305.012 0.9884462\n",
       "neg_amm:EQUI-:CIB         -165905.0314 -337161.641   5351.578 0.0679835\n",
       "not_neg:EQUI-:CIB         -159770.5279 -329932.313  10391.257 0.0898563\n",
       ":EXP-:CIB                  -42397.7546 -310063.617 225268.108 0.9999966\n",
       "neg_amm:EXP-:CIB          -114893.8918 -285744.573  55956.789 0.5512901\n",
       "not_neg:EXP-:CIB           -90086.9609 -260057.703  79883.782 0.8536030\n",
       "not_neg:CIB-neg_amm:CIB     41298.3727   24032.916  58563.829 0.0000000\n",
       ":CRIF-neg_amm:CIB           63074.0291 -111666.503 237814.561 0.9905279\n",
       "neg_amm:CRIF-neg_amm:CIB     4084.4487  -19731.772  27900.669 0.9999922\n",
       "not_neg:CRIF-neg_amm:CIB    31271.1261   13926.461  48615.791 0.0000003\n",
       ":EQUI-neg_amm:CIB          -53267.4343 -447445.128 340910.259 0.9999994\n",
       "neg_amm:EQUI-neg_amm:CIB   -60567.8145  -87796.134 -33339.495 0.0000000\n",
       "not_neg:EQUI-neg_amm:CIB   -54433.3111  -73605.900 -35260.722 0.0000000\n",
       ":EXP-neg_amm:CIB            62939.4623 -144563.716 270442.640 0.9979055\n",
       "neg_amm:EXP-neg_amm:CIB     -9556.6750  -34102.763  14989.413 0.9825297\n",
       "not_neg:EXP-neg_amm:CIB     15250.2560   -2145.389  32645.901 0.1535693\n",
       ":CRIF-not_neg:CIB           21775.6564 -152273.763 195825.076 0.9999997\n",
       "neg_amm:CRIF-not_neg:CIB   -37213.9241  -55273.801 -19154.047 0.0000000\n",
       "not_neg:CRIF-not_neg:CIB   -10027.2466  -17759.271  -2295.223 0.0013556\n",
       ":EQUI-not_neg:CIB          -94565.8070 -488437.615 299306.001 0.9997676\n",
       "neg_amm:EQUI-not_neg:CIB  -101866.1872 -124234.204 -79498.170 0.0000000\n",
       "not_neg:EQUI-not_neg:CIB   -95731.6838 -106980.460 -84482.907 0.0000000\n",
       ":EXP-not_neg:CIB            21641.0895 -185280.431 228562.610 1.0000000\n",
       "neg_amm:EXP-not_neg:CIB    -50855.0477  -69867.076 -31843.019 0.0000000\n",
       "not_neg:EXP-not_neg:CIB    -26048.1167  -33893.834 -18202.399 0.0000000\n",
       "neg_amm:CRIF-:CRIF         -58989.5805 -233810.394 115831.233 0.9946386\n",
       "not_neg:CRIF-:CRIF         -31802.9030 -205860.197 142254.391 0.9999849\n",
       ":EQUI-:CRIF               -116341.4634 -546888.974 314206.047 0.9992789\n",
       "neg_amm:EQUI-:CRIF        -123641.8436 -298960.085  51676.398 0.4730526\n",
       "not_neg:EQUI-:CRIF        -117507.3402 -291756.279  56741.598 0.5467607\n",
       ":EXP-:CRIF                   -134.5669 -270417.147 270148.014 1.0000000\n",
       "neg_amm:EXP-:CRIF          -72630.7041 -247552.443 102291.035 0.9713189\n",
       "not_neg:EXP-:CRIF          -47823.7731 -221886.155 126238.609 0.9991570\n",
       "not_neg:CRIF-neg_amm:CRIF   27186.6774    9051.062  45322.293 0.0000616\n",
       ":EQUI-neg_amm:CRIF         -57351.8829 -451565.172 336861.406 0.9999986\n",
       "neg_amm:EQUI-neg_amm:CRIF  -64652.2632  -92391.127 -36913.400 0.0000000\n",
       "not_neg:EQUI-neg_amm:CRIF  -58517.7597  -78408.746 -38626.773 0.0000000\n",
       ":EXP-neg_amm:CRIF           58855.0136 -148715.775 266425.802 0.9988696\n",
       "neg_amm:EXP-neg_amm:CRIF   -13641.1236  -38752.348  11470.101 0.8317398\n",
       "not_neg:EXP-neg_amm:CRIF    11165.8073   -7018.572  29350.187 0.6890584\n",
       ":EQUI-not_neg:CRIF         -84538.5604 -478413.848 309336.727 0.9999231\n",
       "neg_amm:EQUI-not_neg:CRIF  -91838.9406 -114268.153 -69409.728 0.0000000\n",
       "not_neg:EQUI-not_neg:CRIF  -85704.4372  -97074.414 -74334.460 0.0000000\n",
       ":EXP-not_neg:CRIF           31668.3362 -175259.809 238596.481 0.9999976\n",
       "neg_amm:EXP-not_neg:CRIF   -40827.8011  -59911.790 -21743.812 0.0000000\n",
       "not_neg:EXP-not_neg:CRIF   -16020.8701  -24039.392  -8002.349 0.0000000\n",
       "neg_amm:EQUI-:EQUI          -7300.3802 -401734.515 387133.754 1.0000000\n",
       "not_neg:EQUI-:EQUI          -1165.8768 -395125.891 392794.138 1.0000000\n",
       ":EXP-:EQUI                 116206.8966 -328646.421 561060.214 0.9994765\n",
       "neg_amm:EXP-:EQUI           43710.7593 -350547.298 437968.816 0.9999999\n",
       "not_neg:EXP-:EQUI           68517.6903 -325359.846 462395.226 0.9999909\n",
       "not_neg:EQUI-neg_amm:EQUI    6134.5035  -17736.407  30005.414 0.9995522\n",
       ":EXP-neg_amm:EQUI          123507.2768  -84482.630 331497.183 0.7335634\n",
       "neg_amm:EXP-neg_amm:EQUI    51011.1396   22643.154  79379.125 0.0000003\n",
       "not_neg:EXP-neg_amm:EQUI    75818.0705   53349.411  98286.730 0.0000000\n",
       ":EXP-not_neg:EQUI          117372.7733  -89716.599 324462.145 0.7887092\n",
       "neg_amm:EXP-not_neg:EQUI    44876.6361   24117.315  65635.957 0.0000000\n",
       "not_neg:EXP-not_neg:EQUI    69683.5671   58235.971  81131.163 0.0000000\n",
       "neg_amm:EXP-:EXP           -72496.1372 -280151.935 135159.660 0.9928337\n",
       "not_neg:EXP-:EXP           -47689.2063 -254621.631 159243.218 0.9998443\n",
       "not_neg:EXP-neg_amm:EXP     24806.9310    5676.596  43937.266 0.0013578\n"
      ]
     },
     "metadata": {},
     "output_type": "display_data"
    }
   ],
   "source": [
    "Tukey4 = TukeyHSD(fit_a4)\n",
    "Tukey4"
   ]
  },
  {
   "cell_type": "code",
   "execution_count": 75,
   "metadata": {},
   "outputs": [
    {
     "data": {
      "image/png": "[encoded data removed]",
      "text/plain": [
       "Plot with title “95% family-wise confidence level\n",
       "”"
      ]
     },
     "metadata": {
      "image/png": {
       "height": 420,
       "width": 420
      }
     },
     "output_type": "display_data"
    },
    {
     "data": {
      "image/png": "[encoded data removed]",
      "text/plain": [
       "Plot with title “95% family-wise confidence level\n",
       "”"
      ]
     },
     "metadata": {
      "image/png": {
       "height": 420,
       "width": 420
      }
     },
     "output_type": "display_data"
    }
   ],
   "source": [
    "plot(Tukey3)"
   ]
  },
  {
   "cell_type": "markdown",
   "metadata": {},
   "source": [
    "The above results for without interaction Tukey HSD and p-values show that the group mean for neg-ammortization and ammortization is significantly different."
   ]
  },
  {
   "cell_type": "markdown",
   "metadata": {},
   "source": [
    "Similar results are observed for without interactionTukey HSD for the credit types. The p-values are almost zero for each group comparison, hence the means can be said to be signficantly different."
   ]
  },
  {
   "cell_type": "code",
   "execution_count": null,
   "metadata": {},
   "outputs": [],
   "source": []
  },
  {
   "cell_type": "code",
   "execution_count": null,
   "metadata": {},
   "outputs": [],
   "source": []
  },
  {
   "cell_type": "markdown",
   "metadata": {},
   "source": [
    "## Conclusion"
   ]
  },
  {
   "cell_type": "markdown",
   "metadata": {},
   "source": [
    "* Dividing the US into 4 regions: North, South, North-East and Central, the probability was calculatedto determine the region the loan applicant belongs to given that the applicant had defaulted the loan but it was found that the probability for the applicant belonging to North or South Regions is almost equal, approximately 46%. However, the probability that the person belongs from the North-East or Central region is about 7.5%.\n",
    "\n",
    "* The main influential factors that can be used to explain the variance of the data with respect to the applicant is inflow and outflow. Inflow here contains factors like income and debt-to-income ratio which tells about the credit worthiness. Whereas, Outflow contains the loan amount(to pay) and property value(to purchase) , in other words, liability.\n",
    "\n",
    "* The mean Credit Score is equal for both genders - Male and Female.\n",
    "\n",
    "* The working class age group, ages 25-54, have average interest rates higher than 3.5%\n",
    "\n",
    "* The co-applicant credit type has affects the possibility of loan default by the applicant.\n",
    "\n",
    "* The average rate of interest differs with respect to different age ranges and also differs with respect to different loan types. The age groups like <25, 25-34, 35-44 and 45-54 havesignificantly different average rate of interest. The mid ages see lesser difference whereas we can say comparing with the ages above 65, there is no significant different in the average rate of interest\n",
    "\n",
    "* The differences in mean levels of loan type for rate of interest are significantly different.\n",
    "\n",
    "* It was also found that age and loan type are significantly associated with each other\n",
    "\n",
    "* The property value varies with amortization statusammortized or negatively ammortized. The average property value differs with credit type. The accuracy obtained with the logistic regression model is 86.5% which is much greater than the baseline model accuracy, which is 75%"
   ]
  },
  {
   "cell_type": "markdown",
   "metadata": {},
   "source": []
  },
  {
   "cell_type": "markdown",
   "metadata": {},
   "source": []
  }
 ],
 "metadata": {
  "kernelspec": {
   "display_name": "R",
   "language": "R",
   "name": "ir"
  },
  "language_info": {
   "codemirror_mode": "r",
   "file_extension": ".r",
   "mimetype": "text/x-r-source",
   "name": "R",
   "pygments_lexer": "r",
   "version": "3.5.1"
  }
 },
 "nbformat": 4,
 "nbformat_minor": 2
}
